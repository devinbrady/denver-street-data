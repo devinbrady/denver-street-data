{
 "cells": [
  {
   "cell_type": "markdown",
   "id": "a3d6881e",
   "metadata": {},
   "source": [
    "Save a sample of the raw data."
   ]
  },
  {
   "cell_type": "code",
   "execution_count": 1,
   "id": "c325b394",
   "metadata": {},
   "outputs": [],
   "source": [
    "import os\n",
    "os.chdir('..')\n",
    "\n",
    "import pandas as pd"
   ]
  },
  {
   "cell_type": "code",
   "execution_count": 2,
   "id": "3956012d",
   "metadata": {},
   "outputs": [],
   "source": [
    "df = pd.read_csv('data/crash_data_raw.csv', low_memory=False)"
   ]
  },
  {
   "cell_type": "code",
   "execution_count": 3,
   "id": "fd512603",
   "metadata": {},
   "outputs": [],
   "source": [
    "df.sample(1000).to_csv('data/crash_data_raw_sample1000.csv', index=False)"
   ]
  },
  {
   "cell_type": "code",
   "execution_count": null,
   "id": "24c8d75b",
   "metadata": {},
   "outputs": [],
   "source": []
  }
 ],
 "metadata": {
  "kernelspec": {
   "display_name": "Python 3 (ipykernel)",
   "language": "python",
   "name": "python3"
  },
  "language_info": {
   "codemirror_mode": {
    "name": "ipython",
    "version": 3
   },
   "file_extension": ".py",
   "mimetype": "text/x-python",
   "name": "python",
   "nbconvert_exporter": "python",
   "pygments_lexer": "ipython3",
   "version": "3.10.3"
  }
 },
 "nbformat": 4,
 "nbformat_minor": 5
}
