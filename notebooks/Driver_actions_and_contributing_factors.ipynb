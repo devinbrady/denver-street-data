{
 "cells": [
  {
   "cell_type": "markdown",
   "id": "6a0a92ae",
   "metadata": {},
   "source": [
    "# Driver actions and contributing factors\n",
    "\n",
    "Explore these fields in the dataset"
   ]
  },
  {
   "cell_type": "code",
   "execution_count": 1,
   "id": "d9830194",
   "metadata": {},
   "outputs": [],
   "source": [
    "import folium\n",
    "import datetime\n",
    "import pandas as pd\n",
    "from folium.plugins import HeatMap\n",
    "\n",
    "import os\n",
    "os.chdir('..')\n",
    "from scripts.crash_data_analysis import CrashDataAnalysis"
   ]
  },
  {
   "cell_type": "code",
   "execution_count": 2,
   "id": "fd24b999",
   "metadata": {},
   "outputs": [
    {
     "name": "stdout",
     "output_type": "stream",
     "text": [
      "Converting field \"reported_date\" to Denver time.\n"
     ]
    }
   ],
   "source": [
    "cda = CrashDataAnalysis()\n",
    "df = cda.crash_dataframe()"
   ]
  },
  {
   "cell_type": "code",
   "execution_count": 3,
   "id": "5e4a1a95",
   "metadata": {},
   "outputs": [],
   "source": [
    "# df.info()"
   ]
  },
  {
   "cell_type": "markdown",
   "id": "524307f8",
   "metadata": {},
   "source": [
    "## Driver Action"
   ]
  },
  {
   "cell_type": "code",
   "execution_count": 4,
   "id": "4a749861",
   "metadata": {},
   "outputs": [
    {
     "data": {
      "text/plain": [
       "TU1_DRIVER_ACTION\n",
       "careless driving                      21.243805\n",
       "followed too closely                  14.484583\n",
       "failed to yield row                    9.873042\n",
       "other                                  8.330368\n",
       "lane violation                         7.580384\n",
       "failed to stop at signal               3.846197\n",
       "17                                     3.232574\n",
       "improper backing                       3.137421\n",
       "weaving                                2.570625\n",
       "no action                              2.368706\n",
       "                                       2.169409\n",
       "stopped in traffic                     1.680908\n",
       "no contributing action                 1.532934\n",
       "improper turn                          1.466253\n",
       "exceed safe/posted speed               1.455763\n",
       "reckless driving                       1.318279\n",
       "parked                                 1.236987\n",
       "00                                     1.223875\n",
       "turned from wrong lane or position     0.998730\n",
       "disregard stop sign                    0.872484\n",
       "Name: count, dtype: float64"
      ]
     },
     "execution_count": 4,
     "metadata": {},
     "output_type": "execute_result"
    }
   ],
   "source": [
    "df.TU1_DRIVER_ACTION.str.lower().value_counts().head(20) / len(df) * 100"
   ]
  },
  {
   "cell_type": "code",
   "execution_count": 5,
   "id": "7e4ce2d2",
   "metadata": {},
   "outputs": [
    {
     "data": {
      "text/plain": [
       "TU2_DRIVER_ACTION\n",
       "other                                 34.298847\n",
       "no action                             23.680316\n",
       "no contributing action                18.488119\n",
       "00                                    10.874395\n",
       "                                       5.296716\n",
       "under investigation                    0.430061\n",
       "lane violation                         0.397844\n",
       "followed too closely                   0.352515\n",
       "careless driving                       0.308310\n",
       "exceed safe/posted speed               0.234136\n",
       "other contributing action              0.227393\n",
       "failed to yield row                    0.197049\n",
       "failed to stop at signal               0.105267\n",
       "improper backing                       0.060688\n",
       "impeded traffic                        0.047576\n",
       "improper turn                          0.046827\n",
       "reckless driving                       0.033341\n",
       "improper passing on left               0.027347\n",
       "speeding                               0.022477\n",
       "turned from wrong lane or position     0.018356\n",
       "Name: count, dtype: float64"
      ]
     },
     "execution_count": 5,
     "metadata": {},
     "output_type": "execute_result"
    }
   ],
   "source": [
    "df.TU2_DRIVER_ACTION.str.lower().value_counts().head(20) / len(df) * 100"
   ]
  },
  {
   "cell_type": "markdown",
   "id": "9db4ca94",
   "metadata": {},
   "source": [
    "## Human Contributing Factor"
   ]
  },
  {
   "cell_type": "code",
   "execution_count": 6,
   "id": "e41cce54",
   "metadata": {},
   "outputs": [
    {
     "data": {
      "text/plain": [
       "TU1_DRIVER_HUMANCONTRIBFACTOR\n",
       "no apparent                        29.405220\n",
       "other                              14.114086\n",
       "aggressive driving                  8.681010\n",
       "distracted-other                    6.265102\n",
       "driver inexperience                 5.844032\n",
       "no apparent contributing factor     5.027366\n",
       "dui/dwai/duid                       4.013276\n",
       "not observed                        3.819974\n",
       "                                    3.300754\n",
       "driver unfamiliar with area         3.298132\n",
       "looked/did not see                  2.395304\n",
       "distracted/other interior           1.360236\n",
       "other factor                        1.183042\n",
       "distracted cellphone                1.054548\n",
       "distracted/other exterior           0.678058\n",
       "distracted passenger                0.605382\n",
       "age/driver ability                  0.553310\n",
       "driver fatigue                      0.523715\n",
       "illness/medical                     0.434182\n",
       "under investigation                 0.430061\n",
       "Name: count, dtype: float64"
      ]
     },
     "execution_count": 6,
     "metadata": {},
     "output_type": "execute_result"
    }
   ],
   "source": [
    "df.TU1_DRIVER_HUMANCONTRIBFACTOR.str.lower().value_counts().head(20) / len(df) * 100"
   ]
  },
  {
   "cell_type": "code",
   "execution_count": 7,
   "id": "02f227fa",
   "metadata": {},
   "outputs": [
    {
     "data": {
      "text/plain": [
       "TU2_DRIVER_HUMANCONTRIBFACTOR\n",
       "no apparent                        59.396341\n",
       "no apparent contributing factor    18.188425\n",
       "other                               9.772270\n",
       "                                    5.736517\n",
       "not observed                        0.805802\n",
       "under investigation                 0.430061\n",
       "aggressive driving                  0.330038\n",
       "driver inexperience                 0.193677\n",
       "other factor                        0.139358\n",
       "distracted-other                    0.121376\n",
       "looked/did not see                  0.100023\n",
       "driver unfamiliar with area         0.077546\n",
       "dui/dwai/duid                       0.069679\n",
       "asleep at the wheel                 0.031093\n",
       "age/driver ability                  0.025099\n",
       "distracted passenger                0.015734\n",
       "distracted cellphone                0.015359\n",
       "driver emotionally upset            0.014235\n",
       "distracted/other exterior           0.013861\n",
       "distracted/other interior           0.010489\n",
       "Name: count, dtype: float64"
      ]
     },
     "execution_count": 7,
     "metadata": {},
     "output_type": "execute_result"
    }
   ],
   "source": [
    "df.TU2_DRIVER_HUMANCONTRIBFACTOR.str.lower().value_counts().head(20) / len(df) * 100"
   ]
  },
  {
   "cell_type": "code",
   "execution_count": null,
   "id": "849f3c8f",
   "metadata": {},
   "outputs": [],
   "source": []
  }
 ],
 "metadata": {
  "kernelspec": {
   "display_name": "Python 3 (ipykernel)",
   "language": "python",
   "name": "python3"
  },
  "language_info": {
   "codemirror_mode": {
    "name": "ipython",
    "version": 3
   },
   "file_extension": ".py",
   "mimetype": "text/x-python",
   "name": "python",
   "nbconvert_exporter": "python",
   "pygments_lexer": "ipython3",
   "version": "3.10.3"
  }
 },
 "nbformat": 4,
 "nbformat_minor": 5
}
