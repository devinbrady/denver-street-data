{
 "cells": [
  {
   "cell_type": "markdown",
   "id": "6a0a92ae",
   "metadata": {},
   "source": [
    "# Driver actions and contributing factors\n",
    "\n",
    "Explore these fields in the dataset"
   ]
  },
  {
   "cell_type": "code",
   "execution_count": 1,
   "id": "d9830194",
   "metadata": {},
   "outputs": [],
   "source": [
    "import folium\n",
    "import datetime\n",
    "import pandas as pd\n",
    "from folium.plugins import HeatMap\n",
    "\n",
    "import os\n",
    "os.chdir('..')\n",
    "from scripts.crash_data_analysis import CrashDataAnalysis"
   ]
  },
  {
   "cell_type": "code",
   "execution_count": 3,
   "id": "fd24b999",
   "metadata": {},
   "outputs": [],
   "source": [
    "cda = CrashDataAnalysis()\n",
    "df = cda.crash_dataframe()"
   ]
  },
  {
   "cell_type": "code",
   "execution_count": 4,
   "id": "5e4a1a95",
   "metadata": {},
   "outputs": [
    {
     "name": "stdout",
     "output_type": "stream",
     "text": [
      "<class 'pandas.core.frame.DataFrame'>\n",
      "Index: 242624 entries, 5088 to 88948\n",
      "Data columns (total 60 columns):\n",
      " #   Column                         Non-Null Count   Dtype                         \n",
      "---  ------                         --------------   -----                         \n",
      " 0   shape                          233250 non-null  object                        \n",
      " 1   object_id                      242624 non-null  int64                         \n",
      " 2   incident_id                    242624 non-null  int64                         \n",
      " 3   offense_id                     242624 non-null  int64                         \n",
      " 4   offense_code                   242624 non-null  int64                         \n",
      " 5   offense_code_extension         242624 non-null  int64                         \n",
      " 6   top_traffic_accident_offense   242624 non-null  object                        \n",
      " 7   first_occurrence_date          242624 non-null  datetime64[ns]                \n",
      " 8   last_occurrence_date           147026 non-null  datetime64[ns]                \n",
      " 9   reported_date                  242624 non-null  datetime64[ns, America/Denver]\n",
      " 10  incident_address               242624 non-null  object                        \n",
      " 11  geo_x                          233250 non-null  float64                       \n",
      " 12  geo_y                          233250 non-null  float64                       \n",
      " 13  geo_lon                        233250 non-null  float64                       \n",
      " 14  geo_lat                        233250 non-null  float64                       \n",
      " 15  district_id                    239807 non-null  object                        \n",
      " 16  precinct_id                    233182 non-null  float64                       \n",
      " 17  neighborhood_id                230781 non-null  object                        \n",
      " 18  bicycle_ind                    242624 non-null  float64                       \n",
      " 19  pedestrian_ind                 242624 non-null  float64                       \n",
      " 20  HARMFUL_EVENT_SEQ_1            242275 non-null  object                        \n",
      " 21  HARMFUL_EVENT_SEQ_2            210277 non-null  object                        \n",
      " 22  HARMFUL_EVENT_SEQ_MOST         240895 non-null  object                        \n",
      " 23  road_location                  240826 non-null  object                        \n",
      " 24  ROAD_DESCRIPTION               242358 non-null  object                        \n",
      " 25  ROAD_CONTOUR                   240983 non-null  object                        \n",
      " 26  ROAD_CONDITION                 242259 non-null  object                        \n",
      " 27  LIGHT_CONDITION                242308 non-null  object                        \n",
      " 28  TU1_VEHICLE_TYPE               239255 non-null  object                        \n",
      " 29  TU1_TRAVEL_DIRECTION           237795 non-null  object                        \n",
      " 30  TU1_VEHICLE_MOVEMENT           237627 non-null  object                        \n",
      " 31  TU1_DRIVER_ACTION              236205 non-null  object                        \n",
      " 32  TU1_DRIVER_HUMANCONTRIBFACTOR  234586 non-null  object                        \n",
      " 33  TU1_PEDESTRIAN_ACTION          203429 non-null  object                        \n",
      " 34  TU2_VEHICLE_TYPE               237382 non-null  object                        \n",
      " 35  TU2_TRAVEL_DIRECTION           236185 non-null  object                        \n",
      " 36  TU2_VEHICLE_MOVEMENT           237118 non-null  object                        \n",
      " 37  TU2_DRIVER_ACTION              234646 non-null  object                        \n",
      " 38  TU2_DRIVER_HUMANCONTRIBFACTOR  234807 non-null  object                        \n",
      " 39  TU2_PEDESTRIAN_ACTION          203837 non-null  object                        \n",
      " 40  SERIOUSLY_INJURED              241769 non-null  float64                       \n",
      " 41  FATALITIES                     241769 non-null  float64                       \n",
      " 42  FATALITY_MODE_1                202986 non-null  object                        \n",
      " 43  FATALITY_MODE_2                202908 non-null  object                        \n",
      " 44  SERIOUSLY_INJURED_MODE_1       203697 non-null  object                        \n",
      " 45  SERIOUSLY_INJURED_MODE_2       202985 non-null  object                        \n",
      " 46  POINT_X                        0 non-null       float64                       \n",
      " 47  POINT_Y                        0 non-null       float64                       \n",
      " 48  updated_at                     242624 non-null  datetime64[ns, UTC]           \n",
      " 49  sbi                            242624 non-null  bool                          \n",
      " 50  fatality                       242624 non-null  bool                          \n",
      " 51  sbi_or_fatality                242624 non-null  bool                          \n",
      " 52  incident_address_corrected     242624 non-null  object                        \n",
      " 53  at_freeway                     242624 non-null  bool                          \n",
      " 54  day_or_night                   242308 non-null  object                        \n",
      " 55  crash_date                     242624 non-null  object                        \n",
      " 56  crash_date_str                 242624 non-null  object                        \n",
      " 57  crash_time_str                 242624 non-null  object                        \n",
      " 58  crash_year                     242624 non-null  int32                         \n",
      " 59  crash_day_of_year              242624 non-null  int32                         \n",
      "dtypes: bool(4), datetime64[ns, America/Denver](1), datetime64[ns, UTC](1), datetime64[ns](2), float64(11), int32(2), int64(5), object(34)\n",
      "memory usage: 104.6+ MB\n"
     ]
    }
   ],
   "source": [
    "df.info()"
   ]
  },
  {
   "cell_type": "code",
   "execution_count": 8,
   "id": "4a749861",
   "metadata": {},
   "outputs": [
    {
     "data": {
      "text/plain": [
       "TU1_DRIVER_ACTION\n",
       "CARELESS DRIVING            41447\n",
       "FOLLOWED TOO CLOSELY        29812\n",
       "OTHER                       22237\n",
       "FAILED TO YIELD ROW         19538\n",
       "LANE VIOLATION              14862\n",
       "Careless Driving             9451\n",
       "17                           8629\n",
       "FAILED TO STOP AT SIGNAL     7345\n",
       "WEAVING                      6862\n",
       "No Action                    6319\n",
       "IMPROPER BACKING             6139\n",
       "                             5791\n",
       "Followed Too Closely         5683\n",
       "STOPPED IN TRAFFIC           4487\n",
       "Failed to Yield ROW          4343\n",
       "EXCEED SAFE/POSTED SPEED     3886\n",
       "Lane Violation               3400\n",
       "PARKED                       3302\n",
       "00                           3267\n",
       "RECKLESS DRIVING             2796\n",
       "Name: count, dtype: int64"
      ]
     },
     "execution_count": 8,
     "metadata": {},
     "output_type": "execute_result"
    }
   ],
   "source": [
    "df.TU1_DRIVER_ACTION.value_counts().head(20)"
   ]
  },
  {
   "cell_type": "code",
   "execution_count": 9,
   "id": "e41cce54",
   "metadata": {},
   "outputs": [
    {
     "data": {
      "text/plain": [
       "TU1_DRIVER_HUMANCONTRIBFACTOR\n",
       "NO APPARENT                        78494\n",
       "OTHER                              37676\n",
       "AGGRESSIVE DRIVING                 18529\n",
       "DISTRACTED-OTHER                   16724\n",
       "DRIVER INEXPERIENCE                13704\n",
       "DUI/DWAI/DUID                      10713\n",
       "                                    8811\n",
       "No Apparent Contributing Factor     8516\n",
       "DRIVER UNFAMILIAR WITH AREA         7292\n",
       "Not Observed                        5932\n",
       "Looked/Did Not See                  3781\n",
       "Aggressive Driving                  3129\n",
       "DISTRACTED CELLPHONE                2815\n",
       "Distracted/Other Interior           2353\n",
       "Other Factor                        1848\n",
       "DISTRACTED PASSENGER                1616\n",
       "DRIVER FATIGUE                      1398\n",
       "Driver Inexperience                 1229\n",
       "ILLNESS/MEDICAL                     1159\n",
       "Distracted/Other Exterior           1122\n",
       "Name: count, dtype: int64"
      ]
     },
     "execution_count": 9,
     "metadata": {},
     "output_type": "execute_result"
    }
   ],
   "source": [
    "df.TU1_DRIVER_HUMANCONTRIBFACTOR.value_counts().head(20)"
   ]
  },
  {
   "cell_type": "code",
   "execution_count": null,
   "id": "7e4ce2d2",
   "metadata": {},
   "outputs": [],
   "source": []
  }
 ],
 "metadata": {
  "kernelspec": {
   "display_name": "Python 3 (ipykernel)",
   "language": "python",
   "name": "python3"
  },
  "language_info": {
   "codemirror_mode": {
    "name": "ipython",
    "version": 3
   },
   "file_extension": ".py",
   "mimetype": "text/x-python",
   "name": "python",
   "nbconvert_exporter": "python",
   "pygments_lexer": "ipython3",
   "version": "3.10.3"
  }
 },
 "nbformat": 4,
 "nbformat_minor": 5
}
