{
 "cells": [
  {
   "cell_type": "markdown",
   "id": "3bea2ac7",
   "metadata": {},
   "source": [
    "# Crashes during Spring Break\n",
    "\n",
    "Do crashes decrease during Denver Public Schools spring breaks?"
   ]
  },
  {
   "cell_type": "code",
   "execution_count": 1,
   "id": "023f64fc",
   "metadata": {},
   "outputs": [],
   "source": [
    "import json\n",
    "import pytz\n",
    "import folium\n",
    "from folium.features import DivIcon\n",
    "from folium.plugins import HeatMap\n",
    "\n",
    "import numpy as np\n",
    "import pandas as pd\n",
    "from datetime import datetime, timedelta\n",
    "import matplotlib.pyplot as plt\n",
    "from matplotlib._color_data import TABLEAU_COLORS\n",
    "import seaborn as sns\n",
    "\n",
    "import os\n",
    "os.chdir('..')\n",
    "\n",
    "pd.set_option('display.max_rows', 500)\n",
    "\n",
    "from scripts.crash_data_analysis import CrashDataAnalysis"
   ]
  },
  {
   "cell_type": "code",
   "execution_count": 2,
   "id": "3ef15194",
   "metadata": {},
   "outputs": [],
   "source": [
    "cda = CrashDataAnalysis()"
   ]
  },
  {
   "cell_type": "markdown",
   "id": "e13573d1",
   "metadata": {},
   "source": [
    "## Days of Spring Breaks\n",
    "\n",
    "* 2025: 3/24-3/31 (extra day cesar chavez day)\n",
    "* 2024: 3/25-4/1 (extra day cesar chavez day)\n",
    "* 2023: 3/27-4/3 (extra day cesar chavez day)\n",
    "* 2022: 3/28-4/4 (extra day cesar chavez day)\n",
    "* 2021: 3/29-4/2 (no extra day)\n",
    "* 2020: 3/30-4/3 (also COVID, so no school)\n",
    "* 2019: 3/25-2/29\n",
    "* 2018: 3/26-3/30\n",
    "* 2017: 3/28-4/1"
   ]
  },
  {
   "cell_type": "code",
   "execution_count": 3,
   "id": "449fd3fd",
   "metadata": {},
   "outputs": [],
   "source": [
    "spring_breaks = [\n",
    "    [datetime(2017, 3, 28), datetime(2017, 4, 1)]\n",
    "    , [datetime(2018, 3, 26), datetime(2018, 3, 30)]\n",
    "    , [datetime(2019, 3, 25), datetime(2019, 3, 29)]\n",
    "    , [datetime(2021, 3, 29), datetime(2021, 4, 2)]\n",
    "    , [datetime(2022, 3, 28), datetime(2022, 4, 4)]\n",
    "    , [datetime(2023, 3, 27), datetime(2023, 4, 3)]\n",
    "    , [datetime(2024, 3, 25), datetime(2024, 4, 1)]\n",
    "    , [datetime(2025, 3, 24), datetime(2025, 3, 31)]\n",
    "]"
   ]
  },
  {
   "cell_type": "code",
   "execution_count": 4,
   "id": "1ef5157c",
   "metadata": {},
   "outputs": [],
   "source": [
    "query = \"\"\"\n",
    "select\n",
    "to_char(reported_date at time zone 'America/Denver', 'YYYY-MM-DD') as crash_date\n",
    ", to_char(reported_date at time zone 'America/Denver', 'Mon FMDD') as crash_date_str\n",
    ", count(*) as num_crashes\n",
    "\n",
    "from crashes c\n",
    "\n",
    "where date_part('year', reported_date at time zone 'America/Denver') > 2017\n",
    "\n",
    "group by 1,2\n",
    "order by 1\n",
    "\"\"\"\n",
    "\n",
    "crashes_by_day = pd.read_sql(query, cda.conn)"
   ]
  },
  {
   "cell_type": "code",
   "execution_count": 5,
   "id": "ab98c71a",
   "metadata": {},
   "outputs": [],
   "source": [
    "crashes_by_day['crash_date'] = pd.to_datetime(crashes_by_day['crash_date'])"
   ]
  },
  {
   "cell_type": "code",
   "execution_count": 6,
   "id": "e075b2c4",
   "metadata": {},
   "outputs": [],
   "source": [
    "crashes_by_day['day_of_week'] = crashes_by_day['crash_date'].dt.weekday\n",
    "crashes_by_day['crash_year'] = crashes_by_day.crash_date.dt.year"
   ]
  },
  {
   "cell_type": "code",
   "execution_count": 7,
   "id": "e2d97582",
   "metadata": {},
   "outputs": [],
   "source": [
    "crashes_by_day['is_spring_break'] = 'Not Spring Break'\n",
    "for year in spring_breaks:\n",
    "    crashes_by_day.loc[\n",
    "        (\n",
    "            (crashes_by_day.crash_date >= year[0])\n",
    "            & (crashes_by_day.crash_date <= year[1])\n",
    "            & (crashes_by_day.day_of_week != 5) # Saturday\n",
    "            & (crashes_by_day.day_of_week != 6) # Sunday\n",
    "        )\n",
    "        , 'is_spring_break'\n",
    "    ] = 'Spring Break'"
   ]
  },
  {
   "cell_type": "code",
   "execution_count": 8,
   "id": "8dc313b8",
   "metadata": {
    "scrolled": false
   },
   "outputs": [],
   "source": [
    "# crashes_by_day.to_csv('~/Desktop/crashes_by_day.csv', index=False)"
   ]
  },
  {
   "cell_type": "markdown",
   "id": "1653a6d2",
   "metadata": {},
   "source": [
    "## Counts"
   ]
  },
  {
   "cell_type": "code",
   "execution_count": 9,
   "id": "ae9d58da",
   "metadata": {},
   "outputs": [
    {
     "data": {
      "text/plain": [
       "is_spring_break\n",
       "Not Spring Break    2629\n",
       "Spring Break          39\n",
       "dtype: int64"
      ]
     },
     "execution_count": 9,
     "metadata": {},
     "output_type": "execute_result"
    }
   ],
   "source": [
    "crashes_by_day.groupby('is_spring_break').size()"
   ]
  },
  {
   "cell_type": "code",
   "execution_count": 10,
   "id": "09610c66",
   "metadata": {},
   "outputs": [
    {
     "data": {
      "text/html": [
       "<div>\n",
       "<style scoped>\n",
       "    .dataframe tbody tr th:only-of-type {\n",
       "        vertical-align: middle;\n",
       "    }\n",
       "\n",
       "    .dataframe tbody tr th {\n",
       "        vertical-align: top;\n",
       "    }\n",
       "\n",
       "    .dataframe thead th {\n",
       "        text-align: right;\n",
       "    }\n",
       "</style>\n",
       "<table border=\"1\" class=\"dataframe\">\n",
       "  <thead>\n",
       "    <tr style=\"text-align: right;\">\n",
       "      <th>is_spring_break</th>\n",
       "      <th>Not Spring Break</th>\n",
       "      <th>Spring Break</th>\n",
       "      <th>Total</th>\n",
       "    </tr>\n",
       "    <tr>\n",
       "      <th>crash_year</th>\n",
       "      <th></th>\n",
       "      <th></th>\n",
       "      <th></th>\n",
       "    </tr>\n",
       "  </thead>\n",
       "  <tbody>\n",
       "    <tr>\n",
       "      <th>2018</th>\n",
       "      <td>360</td>\n",
       "      <td>5</td>\n",
       "      <td>365</td>\n",
       "    </tr>\n",
       "    <tr>\n",
       "      <th>2019</th>\n",
       "      <td>360</td>\n",
       "      <td>5</td>\n",
       "      <td>365</td>\n",
       "    </tr>\n",
       "    <tr>\n",
       "      <th>2020</th>\n",
       "      <td>366</td>\n",
       "      <td>0</td>\n",
       "      <td>366</td>\n",
       "    </tr>\n",
       "    <tr>\n",
       "      <th>2021</th>\n",
       "      <td>360</td>\n",
       "      <td>5</td>\n",
       "      <td>365</td>\n",
       "    </tr>\n",
       "    <tr>\n",
       "      <th>2022</th>\n",
       "      <td>359</td>\n",
       "      <td>6</td>\n",
       "      <td>365</td>\n",
       "    </tr>\n",
       "    <tr>\n",
       "      <th>2023</th>\n",
       "      <td>359</td>\n",
       "      <td>6</td>\n",
       "      <td>365</td>\n",
       "    </tr>\n",
       "    <tr>\n",
       "      <th>2024</th>\n",
       "      <td>360</td>\n",
       "      <td>6</td>\n",
       "      <td>366</td>\n",
       "    </tr>\n",
       "    <tr>\n",
       "      <th>2025</th>\n",
       "      <td>105</td>\n",
       "      <td>6</td>\n",
       "      <td>111</td>\n",
       "    </tr>\n",
       "    <tr>\n",
       "      <th>Total</th>\n",
       "      <td>2629</td>\n",
       "      <td>39</td>\n",
       "      <td>2668</td>\n",
       "    </tr>\n",
       "  </tbody>\n",
       "</table>\n",
       "</div>"
      ],
      "text/plain": [
       "is_spring_break  Not Spring Break  Spring Break  Total\n",
       "crash_year                                            \n",
       "2018                          360             5    365\n",
       "2019                          360             5    365\n",
       "2020                          366             0    366\n",
       "2021                          360             5    365\n",
       "2022                          359             6    365\n",
       "2023                          359             6    365\n",
       "2024                          360             6    366\n",
       "2025                          105             6    111\n",
       "Total                        2629            39   2668"
      ]
     },
     "execution_count": 10,
     "metadata": {},
     "output_type": "execute_result"
    }
   ],
   "source": [
    "crashes_by_day.pivot_table(\n",
    "    columns='is_spring_break'\n",
    "    , index='crash_year'\n",
    "    , values='num_crashes'\n",
    "    , aggfunc='count'\n",
    "    , fill_value=0\n",
    "    , margins=True\n",
    "    , margins_name='Total'\n",
    ")"
   ]
  },
  {
   "cell_type": "code",
   "execution_count": 11,
   "id": "3dee116c",
   "metadata": {},
   "outputs": [
    {
     "data": {
      "text/html": [
       "<div>\n",
       "<style scoped>\n",
       "    .dataframe tbody tr th:only-of-type {\n",
       "        vertical-align: middle;\n",
       "    }\n",
       "\n",
       "    .dataframe tbody tr th {\n",
       "        vertical-align: top;\n",
       "    }\n",
       "\n",
       "    .dataframe thead th {\n",
       "        text-align: right;\n",
       "    }\n",
       "</style>\n",
       "<table border=\"1\" class=\"dataframe\">\n",
       "  <thead>\n",
       "    <tr style=\"text-align: right;\">\n",
       "      <th>is_spring_break</th>\n",
       "      <th>Not Spring Break</th>\n",
       "      <th>Spring Break</th>\n",
       "      <th>delta</th>\n",
       "    </tr>\n",
       "    <tr>\n",
       "      <th>day_of_week</th>\n",
       "      <th></th>\n",
       "      <th></th>\n",
       "      <th></th>\n",
       "    </tr>\n",
       "  </thead>\n",
       "  <tbody>\n",
       "    <tr>\n",
       "      <th>0</th>\n",
       "      <td>54.0</td>\n",
       "      <td>46.0</td>\n",
       "      <td>-8.0</td>\n",
       "    </tr>\n",
       "    <tr>\n",
       "      <th>1</th>\n",
       "      <td>58.0</td>\n",
       "      <td>53.0</td>\n",
       "      <td>-5.0</td>\n",
       "    </tr>\n",
       "    <tr>\n",
       "      <th>2</th>\n",
       "      <td>57.0</td>\n",
       "      <td>48.0</td>\n",
       "      <td>-9.0</td>\n",
       "    </tr>\n",
       "    <tr>\n",
       "      <th>3</th>\n",
       "      <td>59.0</td>\n",
       "      <td>51.0</td>\n",
       "      <td>-8.0</td>\n",
       "    </tr>\n",
       "    <tr>\n",
       "      <th>4</th>\n",
       "      <td>57.5</td>\n",
       "      <td>50.0</td>\n",
       "      <td>-7.5</td>\n",
       "    </tr>\n",
       "    <tr>\n",
       "      <th>5</th>\n",
       "      <td>44.0</td>\n",
       "      <td>NaN</td>\n",
       "      <td>NaN</td>\n",
       "    </tr>\n",
       "    <tr>\n",
       "      <th>6</th>\n",
       "      <td>41.0</td>\n",
       "      <td>NaN</td>\n",
       "      <td>NaN</td>\n",
       "    </tr>\n",
       "  </tbody>\n",
       "</table>\n",
       "</div>"
      ],
      "text/plain": [
       "is_spring_break  Not Spring Break  Spring Break  delta\n",
       "day_of_week                                           \n",
       "0                            54.0          46.0   -8.0\n",
       "1                            58.0          53.0   -5.0\n",
       "2                            57.0          48.0   -9.0\n",
       "3                            59.0          51.0   -8.0\n",
       "4                            57.5          50.0   -7.5\n",
       "5                            44.0           NaN    NaN\n",
       "6                            41.0           NaN    NaN"
      ]
     },
     "execution_count": 11,
     "metadata": {},
     "output_type": "execute_result"
    }
   ],
   "source": [
    "effect_median = crashes_by_day.pivot_table(\n",
    "    index='day_of_week'\n",
    "    , columns='is_spring_break'\n",
    "    , values='num_crashes'\n",
    "    , aggfunc='median'\n",
    ")\n",
    "effect_median['delta'] = effect_median['Spring Break'] - effect_median['Not Spring Break']\n",
    "effect_median"
   ]
  },
  {
   "cell_type": "code",
   "execution_count": 12,
   "id": "c8196817",
   "metadata": {},
   "outputs": [
    {
     "data": {
      "text/html": [
       "<div>\n",
       "<style scoped>\n",
       "    .dataframe tbody tr th:only-of-type {\n",
       "        vertical-align: middle;\n",
       "    }\n",
       "\n",
       "    .dataframe tbody tr th {\n",
       "        vertical-align: top;\n",
       "    }\n",
       "\n",
       "    .dataframe thead th {\n",
       "        text-align: right;\n",
       "    }\n",
       "</style>\n",
       "<table border=\"1\" class=\"dataframe\">\n",
       "  <thead>\n",
       "    <tr style=\"text-align: right;\">\n",
       "      <th>is_spring_break</th>\n",
       "      <th>Not Spring Break</th>\n",
       "      <th>Spring Break</th>\n",
       "      <th>Total</th>\n",
       "    </tr>\n",
       "    <tr>\n",
       "      <th>day_of_week</th>\n",
       "      <th></th>\n",
       "      <th></th>\n",
       "      <th></th>\n",
       "    </tr>\n",
       "  </thead>\n",
       "  <tbody>\n",
       "    <tr>\n",
       "      <th>0</th>\n",
       "      <td>371</td>\n",
       "      <td>11</td>\n",
       "      <td>382</td>\n",
       "    </tr>\n",
       "    <tr>\n",
       "      <th>1</th>\n",
       "      <td>374</td>\n",
       "      <td>7</td>\n",
       "      <td>381</td>\n",
       "    </tr>\n",
       "    <tr>\n",
       "      <th>2</th>\n",
       "      <td>374</td>\n",
       "      <td>7</td>\n",
       "      <td>381</td>\n",
       "    </tr>\n",
       "    <tr>\n",
       "      <th>3</th>\n",
       "      <td>374</td>\n",
       "      <td>7</td>\n",
       "      <td>381</td>\n",
       "    </tr>\n",
       "    <tr>\n",
       "      <th>4</th>\n",
       "      <td>374</td>\n",
       "      <td>7</td>\n",
       "      <td>381</td>\n",
       "    </tr>\n",
       "    <tr>\n",
       "      <th>5</th>\n",
       "      <td>381</td>\n",
       "      <td>0</td>\n",
       "      <td>381</td>\n",
       "    </tr>\n",
       "    <tr>\n",
       "      <th>6</th>\n",
       "      <td>381</td>\n",
       "      <td>0</td>\n",
       "      <td>381</td>\n",
       "    </tr>\n",
       "    <tr>\n",
       "      <th>Total</th>\n",
       "      <td>2629</td>\n",
       "      <td>39</td>\n",
       "      <td>2668</td>\n",
       "    </tr>\n",
       "  </tbody>\n",
       "</table>\n",
       "</div>"
      ],
      "text/plain": [
       "is_spring_break  Not Spring Break  Spring Break  Total\n",
       "day_of_week                                           \n",
       "0                             371            11    382\n",
       "1                             374             7    381\n",
       "2                             374             7    381\n",
       "3                             374             7    381\n",
       "4                             374             7    381\n",
       "5                             381             0    381\n",
       "6                             381             0    381\n",
       "Total                        2629            39   2668"
      ]
     },
     "execution_count": 12,
     "metadata": {},
     "output_type": "execute_result"
    }
   ],
   "source": [
    "crashes_by_day.pivot_table(\n",
    "    index='day_of_week'\n",
    "    , columns='is_spring_break'\n",
    "    , values='num_crashes'\n",
    "    , aggfunc='count'\n",
    "    , margins=True\n",
    "    , margins_name='Total'\n",
    "    , fill_value=0\n",
    ")"
   ]
  },
  {
   "cell_type": "code",
   "execution_count": 13,
   "id": "fc5799e5",
   "metadata": {},
   "outputs": [
    {
     "data": {
      "text/html": [
       "<div>\n",
       "<style scoped>\n",
       "    .dataframe tbody tr th:only-of-type {\n",
       "        vertical-align: middle;\n",
       "    }\n",
       "\n",
       "    .dataframe tbody tr th {\n",
       "        vertical-align: top;\n",
       "    }\n",
       "\n",
       "    .dataframe thead th {\n",
       "        text-align: right;\n",
       "    }\n",
       "</style>\n",
       "<table border=\"1\" class=\"dataframe\">\n",
       "  <thead>\n",
       "    <tr style=\"text-align: right;\">\n",
       "      <th>is_spring_break</th>\n",
       "      <th>Not Spring Break</th>\n",
       "      <th>Spring Break</th>\n",
       "      <th>delta</th>\n",
       "    </tr>\n",
       "  </thead>\n",
       "  <tbody>\n",
       "    <tr>\n",
       "      <th>num_crashes</th>\n",
       "      <td>57</td>\n",
       "      <td>51</td>\n",
       "      <td>-6</td>\n",
       "    </tr>\n",
       "  </tbody>\n",
       "</table>\n",
       "</div>"
      ],
      "text/plain": [
       "is_spring_break  Not Spring Break  Spring Break  delta\n",
       "num_crashes                    57            51     -6"
      ]
     },
     "execution_count": 13,
     "metadata": {},
     "output_type": "execute_result"
    }
   ],
   "source": [
    "effect_alldays_median = crashes_by_day[crashes_by_day.day_of_week <= 4].pivot_table(\n",
    "    columns='is_spring_break'\n",
    "    , values='num_crashes'\n",
    "    , aggfunc='median'\n",
    ")\n",
    "effect_alldays_median['delta'] = effect_alldays_median['Spring Break'] - effect_alldays_median['Not Spring Break']\n",
    "effect_alldays_median"
   ]
  },
  {
   "cell_type": "markdown",
   "id": "34e185bb",
   "metadata": {},
   "source": [
    "## Plots"
   ]
  },
  {
   "cell_type": "code",
   "execution_count": 14,
   "id": "135fa1a1",
   "metadata": {},
   "outputs": [
    {
     "name": "stdout",
     "output_type": "stream",
     "text": [
      "\n",
      "Source: City and County of Denver \"Traffic Accidents\" dataset, updated Apr 21, 2025\n",
      "Chart by Devin Brady\n",
      "\n"
     ]
    }
   ],
   "source": [
    "max_crash_timestamp = crashes_by_day.crash_date.max() # most recent date from query\n",
    "\n",
    "citation = f\"\"\"\n",
    "Source: City and County of Denver \"Traffic Accidents\" dataset, updated {max_crash_timestamp.strftime('%b %-d, %Y')}\n",
    "Chart by Devin Brady\n",
    "\"\"\"\n",
    "\n",
    "print(citation)"
   ]
  },
  {
   "cell_type": "code",
   "execution_count": 16,
   "id": "d4aad11a",
   "metadata": {},
   "outputs": [
    {
     "data": {
      "image/png": "[encoded data removed]",
      "text/plain": [
       "<Figure size 864x576 with 1 Axes>"
      ]
     },
     "metadata": {
      "needs_background": "light"
     },
     "output_type": "display_data"
    }
   ],
   "source": [
    "fig, ax = plt.subplots(figsize=(12,8))\n",
    "sns.boxplot(\n",
    "    data=crashes_by_day\n",
    "    , x='day_of_week'\n",
    "    , y='num_crashes'\n",
    "    , hue='is_spring_break'\n",
    "    , ax=ax\n",
    "    , showfliers=False\n",
    "    , gap=0.2\n",
    ")\n",
    "\n",
    "plt.xlabel(None)\n",
    "plt.ylabel('Crashes Per Day')\n",
    "plt.title('Crashes Per Day When Denver Public Schools Are On Spring Break')\n",
    "ax.set_xticks(\n",
    "    ticks=ax.get_xticks()\n",
    "    , labels=['Monday', 'Tuesday', 'Wednesday', 'Thursday', 'Friday', 'Saturday', 'Sunday']\n",
    ")\n",
    "ax.grid(axis='y')\n",
    "\n",
    "handles, labels = ax.get_legend_handles_labels()\n",
    "ax.legend(handles=handles, labels=labels)\n",
    "\n",
    "ax.annotate(xy=(0, -0.1), text=citation, xycoords='axes fraction', ha='left', va='center')\n",
    "\n",
    "plt.savefig('images/spring_break_boxplot.png', transparent=False, facecolor='white', bbox_inches='tight')"
   ]
  },
  {
   "cell_type": "code",
   "execution_count": null,
   "id": "9fb410cb",
   "metadata": {},
   "outputs": [],
   "source": []
  }
 ],
 "metadata": {
  "kernelspec": {
   "display_name": "Python 3 (ipykernel)",
   "language": "python",
   "name": "python3"
  },
  "language_info": {
   "codemirror_mode": {
    "name": "ipython",
    "version": 3
   },
   "file_extension": ".py",
   "mimetype": "text/x-python",
   "name": "python",
   "nbconvert_exporter": "python",
   "pygments_lexer": "ipython3",
   "version": "3.10.3"
  }
 },
 "nbformat": 4,
 "nbformat_minor": 5
}
