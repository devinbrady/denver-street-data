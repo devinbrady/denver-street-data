{
 "cells": [
  {
   "cell_type": "markdown",
   "id": "c4b64051",
   "metadata": {},
   "source": [
    "# Prep data for PostGIS\n",
    "\n",
    "Make a small CSV file for loading into PostGIS"
   ]
  },
  {
   "cell_type": "code",
   "execution_count": 1,
   "id": "40031de7",
   "metadata": {},
   "outputs": [],
   "source": [
    "import pandas as pd"
   ]
  },
  {
   "cell_type": "code",
   "execution_count": 2,
   "id": "985b3ac5",
   "metadata": {},
   "outputs": [
    {
     "name": "stderr",
     "output_type": "stream",
     "text": [
      "/Users/devin/Projects/denver-street-data/env/lib/python3.7/site-packages/IPython/core/interactiveshell.py:3552: DtypeWarning: Columns (15) have mixed types.Specify dtype option on import or set low_memory=False.\n",
      "  exec(code_obj, self.user_global_ns, self.user_ns)\n"
     ]
    }
   ],
   "source": [
    "df = pd.read_csv('data/denver_crashes_2023_01_19__14_31.csv')"
   ]
  },
  {
   "cell_type": "code",
   "execution_count": 3,
   "id": "19ec70ae",
   "metadata": {},
   "outputs": [],
   "source": [
    "df.loc[\n",
    "    df.geo_lon.notnull()\n",
    "    , ['incident_id','incident_address','geo_lon','geo_lat']\n",
    "].tail(2000).to_csv('data/limit1k.csv', index=False)"
   ]
  },
  {
   "cell_type": "code",
   "execution_count": 4,
   "id": "6f75382a",
   "metadata": {},
   "outputs": [],
   "source": [
    "p = pd.read_csv('data/preprocessed_crash_data.csv')"
   ]
  },
  {
   "cell_type": "code",
   "execution_count": 5,
   "id": "248caae9",
   "metadata": {},
   "outputs": [
    {
     "data": {
      "text/html": [
       "<div>\n",
       "<style scoped>\n",
       "    .dataframe tbody tr th:only-of-type {\n",
       "        vertical-align: middle;\n",
       "    }\n",
       "\n",
       "    .dataframe tbody tr th {\n",
       "        vertical-align: top;\n",
       "    }\n",
       "\n",
       "    .dataframe thead th {\n",
       "        text-align: right;\n",
       "    }\n",
       "</style>\n",
       "<table border=\"1\" class=\"dataframe\">\n",
       "  <thead>\n",
       "    <tr style=\"text-align: right;\">\n",
       "      <th></th>\n",
       "      <th>incident_id</th>\n",
       "      <th>top_traffic_accident_offense</th>\n",
       "      <th>reported_date</th>\n",
       "      <th>incident_address</th>\n",
       "      <th>geo_lon</th>\n",
       "      <th>geo_lat</th>\n",
       "      <th>neighborhood_id</th>\n",
       "      <th>bicycle_ind</th>\n",
       "      <th>pedestrian_ind</th>\n",
       "      <th>SERIOUSLY_INJURED</th>\n",
       "      <th>FATALITIES</th>\n",
       "      <th>updated_at</th>\n",
       "      <th>sbi</th>\n",
       "      <th>fatality</th>\n",
       "      <th>sbi_or_fatality</th>\n",
       "      <th>crash_date</th>\n",
       "      <th>crash_date_str</th>\n",
       "      <th>crash_time_str</th>\n",
       "      <th>crash_year</th>\n",
       "      <th>crash_day_of_year</th>\n",
       "    </tr>\n",
       "  </thead>\n",
       "  <tbody>\n",
       "    <tr>\n",
       "      <th>0</th>\n",
       "      <td>201348</td>\n",
       "      <td>TRAF - ACCIDENT</td>\n",
       "      <td>2013-01-01 00:19:00-07:00</td>\n",
       "      <td>W COLFAX AVE / N BROADWAY ST</td>\n",
       "      <td>-104.987391</td>\n",
       "      <td>39.740059</td>\n",
       "      <td>Civic Center</td>\n",
       "      <td>0.0</td>\n",
       "      <td>0.0</td>\n",
       "      <td>0.0</td>\n",
       "      <td>0.0</td>\n",
       "      <td>2023-01-26 00:03:00+00:00</td>\n",
       "      <td>False</td>\n",
       "      <td>False</td>\n",
       "      <td>False</td>\n",
       "      <td>2013-01-01</td>\n",
       "      <td>2013-01-01 Tue</td>\n",
       "      <td>Tue Jan 1, 12:19 AM</td>\n",
       "      <td>2013</td>\n",
       "      <td>1</td>\n",
       "    </tr>\n",
       "    <tr>\n",
       "      <th>1</th>\n",
       "      <td>201388</td>\n",
       "      <td>TRAF - ACCIDENT</td>\n",
       "      <td>2013-01-01 00:32:00-07:00</td>\n",
       "      <td>2300 N BROADWAY ST</td>\n",
       "      <td>-104.987293</td>\n",
       "      <td>39.754540</td>\n",
       "      <td>Five Points</td>\n",
       "      <td>0.0</td>\n",
       "      <td>0.0</td>\n",
       "      <td>0.0</td>\n",
       "      <td>0.0</td>\n",
       "      <td>2023-01-26 00:03:00+00:00</td>\n",
       "      <td>False</td>\n",
       "      <td>False</td>\n",
       "      <td>False</td>\n",
       "      <td>2013-01-01</td>\n",
       "      <td>2013-01-01 Tue</td>\n",
       "      <td>Tue Jan 1, 12:32 AM</td>\n",
       "      <td>2013</td>\n",
       "      <td>1</td>\n",
       "    </tr>\n",
       "    <tr>\n",
       "      <th>2</th>\n",
       "      <td>20133</td>\n",
       "      <td>TRAF - ACCIDENT - HIT &amp; RUN</td>\n",
       "      <td>2013-01-01 00:33:00-07:00</td>\n",
       "      <td>N WASHINGTON ST / RINGSBY CT</td>\n",
       "      <td>-104.978826</td>\n",
       "      <td>39.775885</td>\n",
       "      <td>Globeville</td>\n",
       "      <td>0.0</td>\n",
       "      <td>0.0</td>\n",
       "      <td>0.0</td>\n",
       "      <td>0.0</td>\n",
       "      <td>2023-01-26 00:03:00+00:00</td>\n",
       "      <td>False</td>\n",
       "      <td>False</td>\n",
       "      <td>False</td>\n",
       "      <td>2013-01-01</td>\n",
       "      <td>2013-01-01 Tue</td>\n",
       "      <td>Tue Jan 1, 12:33 AM</td>\n",
       "      <td>2013</td>\n",
       "      <td>1</td>\n",
       "    </tr>\n",
       "    <tr>\n",
       "      <th>3</th>\n",
       "      <td>2013109</td>\n",
       "      <td>TRAF - ACCIDENT</td>\n",
       "      <td>2013-01-01 00:45:00-07:00</td>\n",
       "      <td>N UNIVERSITY BLVD / E 1ST AVE</td>\n",
       "      <td>-104.959222</td>\n",
       "      <td>39.718275</td>\n",
       "      <td>Cherry Creek</td>\n",
       "      <td>0.0</td>\n",
       "      <td>0.0</td>\n",
       "      <td>0.0</td>\n",
       "      <td>0.0</td>\n",
       "      <td>2023-01-26 00:03:00+00:00</td>\n",
       "      <td>False</td>\n",
       "      <td>False</td>\n",
       "      <td>False</td>\n",
       "      <td>2013-01-01</td>\n",
       "      <td>2013-01-01 Tue</td>\n",
       "      <td>Tue Jan 1, 12:45 AM</td>\n",
       "      <td>2013</td>\n",
       "      <td>1</td>\n",
       "    </tr>\n",
       "    <tr>\n",
       "      <th>4</th>\n",
       "      <td>2013129</td>\n",
       "      <td>TRAF - ACCIDENT</td>\n",
       "      <td>2013-01-01 01:03:00-07:00</td>\n",
       "      <td>1200 BLOCK N BROADWAY ST</td>\n",
       "      <td>-104.987055</td>\n",
       "      <td>39.735476</td>\n",
       "      <td>Capitol Hill</td>\n",
       "      <td>0.0</td>\n",
       "      <td>1.0</td>\n",
       "      <td>0.0</td>\n",
       "      <td>0.0</td>\n",
       "      <td>2023-01-26 00:03:00+00:00</td>\n",
       "      <td>False</td>\n",
       "      <td>False</td>\n",
       "      <td>False</td>\n",
       "      <td>2013-01-01</td>\n",
       "      <td>2013-01-01 Tue</td>\n",
       "      <td>Tue Jan 1, 1:03 AM</td>\n",
       "      <td>2013</td>\n",
       "      <td>1</td>\n",
       "    </tr>\n",
       "  </tbody>\n",
       "</table>\n",
       "</div>"
      ],
      "text/plain": [
       "   incident_id    top_traffic_accident_offense              reported_date  \\\n",
       "0       201348  TRAF - ACCIDENT                 2013-01-01 00:19:00-07:00   \n",
       "1       201388  TRAF - ACCIDENT                 2013-01-01 00:32:00-07:00   \n",
       "2        20133  TRAF - ACCIDENT - HIT & RUN     2013-01-01 00:33:00-07:00   \n",
       "3      2013109  TRAF - ACCIDENT                 2013-01-01 00:45:00-07:00   \n",
       "4      2013129  TRAF - ACCIDENT                 2013-01-01 01:03:00-07:00   \n",
       "\n",
       "                incident_address     geo_lon    geo_lat neighborhood_id  \\\n",
       "0   W COLFAX AVE / N BROADWAY ST -104.987391  39.740059    Civic Center   \n",
       "1             2300 N BROADWAY ST -104.987293  39.754540     Five Points   \n",
       "2   N WASHINGTON ST / RINGSBY CT -104.978826  39.775885      Globeville   \n",
       "3  N UNIVERSITY BLVD / E 1ST AVE -104.959222  39.718275    Cherry Creek   \n",
       "4       1200 BLOCK N BROADWAY ST -104.987055  39.735476    Capitol Hill   \n",
       "\n",
       "   bicycle_ind  pedestrian_ind  SERIOUSLY_INJURED  FATALITIES  \\\n",
       "0          0.0             0.0                0.0         0.0   \n",
       "1          0.0             0.0                0.0         0.0   \n",
       "2          0.0             0.0                0.0         0.0   \n",
       "3          0.0             0.0                0.0         0.0   \n",
       "4          0.0             1.0                0.0         0.0   \n",
       "\n",
       "                  updated_at    sbi  fatality  sbi_or_fatality  crash_date  \\\n",
       "0  2023-01-26 00:03:00+00:00  False     False            False  2013-01-01   \n",
       "1  2023-01-26 00:03:00+00:00  False     False            False  2013-01-01   \n",
       "2  2023-01-26 00:03:00+00:00  False     False            False  2013-01-01   \n",
       "3  2023-01-26 00:03:00+00:00  False     False            False  2013-01-01   \n",
       "4  2023-01-26 00:03:00+00:00  False     False            False  2013-01-01   \n",
       "\n",
       "   crash_date_str       crash_time_str  crash_year  crash_day_of_year  \n",
       "0  2013-01-01 Tue  Tue Jan 1, 12:19 AM        2013                  1  \n",
       "1  2013-01-01 Tue  Tue Jan 1, 12:32 AM        2013                  1  \n",
       "2  2013-01-01 Tue  Tue Jan 1, 12:33 AM        2013                  1  \n",
       "3  2013-01-01 Tue  Tue Jan 1, 12:45 AM        2013                  1  \n",
       "4  2013-01-01 Tue   Tue Jan 1, 1:03 AM        2013                  1  "
      ]
     },
     "execution_count": 5,
     "metadata": {},
     "output_type": "execute_result"
    }
   ],
   "source": [
    "p.head()"
   ]
  },
  {
   "cell_type": "code",
   "execution_count": 6,
   "id": "baaf8367",
   "metadata": {},
   "outputs": [
    {
     "name": "stdout",
     "output_type": "stream",
     "text": [
      "<class 'pandas.core.frame.DataFrame'>\n",
      "RangeIndex: 224909 entries, 0 to 224908\n",
      "Data columns (total 20 columns):\n",
      " #   Column                        Non-Null Count   Dtype  \n",
      "---  ------                        --------------   -----  \n",
      " 0   incident_id                   224909 non-null  int64  \n",
      " 1   top_traffic_accident_offense  224909 non-null  object \n",
      " 2   reported_date                 224909 non-null  object \n",
      " 3   incident_address              224909 non-null  object \n",
      " 4   geo_lon                       216207 non-null  float64\n",
      " 5   geo_lat                       216207 non-null  float64\n",
      " 6   neighborhood_id               214056 non-null  object \n",
      " 7   bicycle_ind                   219885 non-null  float64\n",
      " 8   pedestrian_ind                219885 non-null  float64\n",
      " 9   SERIOUSLY_INJURED             224226 non-null  float64\n",
      " 10  FATALITIES                    224226 non-null  float64\n",
      " 11  updated_at                    224909 non-null  object \n",
      " 12  sbi                           224909 non-null  bool   \n",
      " 13  fatality                      224909 non-null  bool   \n",
      " 14  sbi_or_fatality               224909 non-null  bool   \n",
      " 15  crash_date                    224909 non-null  object \n",
      " 16  crash_date_str                224909 non-null  object \n",
      " 17  crash_time_str                224909 non-null  object \n",
      " 18  crash_year                    224909 non-null  int64  \n",
      " 19  crash_day_of_year             224909 non-null  int64  \n",
      "dtypes: bool(3), float64(6), int64(3), object(8)\n",
      "memory usage: 29.8+ MB\n"
     ]
    }
   ],
   "source": [
    "p.info()"
   ]
  },
  {
   "cell_type": "code",
   "execution_count": 8,
   "id": "5ca4da28",
   "metadata": {},
   "outputs": [
    {
     "data": {
      "text/plain": [
       "'CREATE TABLE \"crashes\" (\\n\"index\" INTEGER,\\n  \"incident_id\" INTEGER,\\n  \"top_traffic_accident_offense\" TEXT,\\n  \"reported_date\" TEXT,\\n  \"incident_address\" TEXT,\\n  \"geo_lon\" REAL,\\n  \"geo_lat\" REAL,\\n  \"neighborhood_id\" TEXT,\\n  \"bicycle_ind\" REAL,\\n  \"pedestrian_ind\" REAL,\\n  \"SERIOUSLY_INJURED\" REAL,\\n  \"FATALITIES\" REAL,\\n  \"updated_at\" TEXT,\\n  \"sbi\" INTEGER,\\n  \"fatality\" INTEGER,\\n  \"sbi_or_fatality\" INTEGER,\\n  \"crash_date\" TEXT,\\n  \"crash_date_str\" TEXT,\\n  \"crash_time_str\" TEXT,\\n  \"crash_year\" INTEGER,\\n  \"crash_day_of_year\" INTEGER\\n)'"
      ]
     },
     "execution_count": 8,
     "metadata": {},
     "output_type": "execute_result"
    }
   ],
   "source": [
    "pd.io.sql.get_schema(p.reset_index(), 'crashes')"
   ]
  },
  {
   "cell_type": "code",
   "execution_count": 9,
   "id": "962a1909",
   "metadata": {},
   "outputs": [
    {
     "name": "stderr",
     "output_type": "stream",
     "text": [
      "/Users/devin/Projects/denver-street-data/env/lib/python3.7/site-packages/IPython/core/interactiveshell.py:3552: DtypeWarning: Columns (15) have mixed types.Specify dtype option on import or set low_memory=False.\n",
      "  exec(code_obj, self.user_global_ns, self.user_ns)\n"
     ]
    }
   ],
   "source": [
    "raw = pd.read_csv('data/raw_crash_data.csv')"
   ]
  },
  {
   "cell_type": "code",
   "execution_count": 10,
   "id": "13c26207",
   "metadata": {},
   "outputs": [
    {
     "data": {
      "text/plain": [
       "pedestrian_ind\n",
       "0.0    215136\n",
       "1.0      4562\n",
       "2.0       157\n",
       "3.0        27\n",
       "4.0         3\n",
       "dtype: int64"
      ]
     },
     "execution_count": 10,
     "metadata": {},
     "output_type": "execute_result"
    }
   ],
   "source": [
    "raw.groupby('pedestrian_ind').size()"
   ]
  },
  {
   "cell_type": "code",
   "execution_count": 11,
   "id": "028c43de",
   "metadata": {},
   "outputs": [
    {
     "data": {
      "text/plain": [
       "5024"
      ]
     },
     "execution_count": 11,
     "metadata": {},
     "output_type": "execute_result"
    }
   ],
   "source": [
    "raw['pedestrian_ind'].isnull().sum()"
   ]
  },
  {
   "cell_type": "code",
   "execution_count": 13,
   "id": "7ab6ab5e",
   "metadata": {},
   "outputs": [
    {
     "name": "stdout",
     "output_type": "stream",
     "text": [
      "<class 'pandas.core.frame.DataFrame'>\n",
      "RangeIndex: 224909 entries, 0 to 224908\n",
      "Data columns (total 49 columns):\n",
      " #   Column                         Non-Null Count   Dtype  \n",
      "---  ------                         --------------   -----  \n",
      " 0   shape                          216207 non-null  object \n",
      " 1   object_id                      224909 non-null  int64  \n",
      " 2   incident_id                    224909 non-null  int64  \n",
      " 3   offense_id                     224909 non-null  int64  \n",
      " 4   offense_code                   224909 non-null  int64  \n",
      " 5   offense_code_extension         224909 non-null  int64  \n",
      " 6   top_traffic_accident_offense   224909 non-null  object \n",
      " 7   first_occurrence_date          224909 non-null  object \n",
      " 8   last_occurrence_date           129311 non-null  object \n",
      " 9   reported_date                  224909 non-null  object \n",
      " 10  incident_address               224909 non-null  object \n",
      " 11  geo_x                          216207 non-null  float64\n",
      " 12  geo_y                          216207 non-null  float64\n",
      " 13  geo_lon                        216207 non-null  float64\n",
      " 14  geo_lat                        216207 non-null  float64\n",
      " 15  district_id                    222121 non-null  object \n",
      " 16  precinct_id                    216147 non-null  float64\n",
      " 17  neighborhood_id                214056 non-null  object \n",
      " 18  bicycle_ind                    219885 non-null  float64\n",
      " 19  pedestrian_ind                 219885 non-null  float64\n",
      " 20  HARMFUL_EVENT_SEQ_1            224691 non-null  object \n",
      " 21  HARMFUL_EVENT_SEQ_2            206833 non-null  object \n",
      " 22  HARMFUL_EVENT_SEQ_MOST         223759 non-null  object \n",
      " 23  road_location                  223887 non-null  object \n",
      " 24  ROAD_DESCRIPTION               224773 non-null  object \n",
      " 25  ROAD_CONTOUR                   224013 non-null  object \n",
      " 26  ROAD_CONDITION                 224734 non-null  object \n",
      " 27  LIGHT_CONDITION                224747 non-null  object \n",
      " 28  TU1_VEHICLE_TYPE               223005 non-null  object \n",
      " 29  TU1_TRAVEL_DIRECTION           222395 non-null  object \n",
      " 30  TU1_VEHICLE_MOVEMENT           222309 non-null  object \n",
      " 31  TU1_DRIVER_ACTION              221455 non-null  object \n",
      " 32  TU1_DRIVER_HUMANCONTRIBFACTOR  220405 non-null  object \n",
      " 33  TU1_PEDESTRIAN_ACTION          202992 non-null  object \n",
      " 34  TU2_VEHICLE_TYPE               221980 non-null  object \n",
      " 35  TU2_TRAVEL_DIRECTION           221327 non-null  object \n",
      " 36  TU2_VEHICLE_MOVEMENT           221848 non-null  object \n",
      " 37  TU2_DRIVER_ACTION              220348 non-null  object \n",
      " 38  TU2_DRIVER_HUMANCONTRIBFACTOR  220367 non-null  object \n",
      " 39  TU2_PEDESTRIAN_ACTION          203199 non-null  object \n",
      " 40  SERIOUSLY_INJURED              224226 non-null  float64\n",
      " 41  FATALITIES                     224226 non-null  float64\n",
      " 42  FATALITY_MODE_1                202786 non-null  object \n",
      " 43  FATALITY_MODE_2                202741 non-null  object \n",
      " 44  SERIOUSLY_INJURED_MODE_1       203156 non-null  object \n",
      " 45  SERIOUSLY_INJURED_MODE_2       202786 non-null  object \n",
      " 46  POINT_X                        0 non-null       float64\n",
      " 47  POINT_Y                        0 non-null       float64\n",
      " 48  updated_at                     224909 non-null  object \n",
      "dtypes: float64(11), int64(5), object(33)\n",
      "memory usage: 84.1+ MB\n"
     ]
    }
   ],
   "source": [
    "raw.info()"
   ]
  },
  {
   "cell_type": "code",
   "execution_count": 15,
   "id": "ebf7239c",
   "metadata": {},
   "outputs": [
    {
     "data": {
      "text/plain": [
       "'2023-01-24 20:47:00'"
      ]
     },
     "execution_count": 15,
     "metadata": {},
     "output_type": "execute_result"
    }
   ],
   "source": [
    "raw['reported_date'].max()"
   ]
  },
  {
   "cell_type": "code",
   "execution_count": null,
   "id": "9da8fa13",
   "metadata": {},
   "outputs": [],
   "source": []
  }
 ],
 "metadata": {
  "kernelspec": {
   "display_name": "Python 3 (ipykernel)",
   "language": "python",
   "name": "python3"
  },
  "language_info": {
   "codemirror_mode": {
    "name": "ipython",
    "version": 3
   },
   "file_extension": ".py",
   "mimetype": "text/x-python",
   "name": "python",
   "nbconvert_exporter": "python",
   "pygments_lexer": "ipython3",
   "version": "3.7.1"
  }
 },
 "nbformat": 4,
 "nbformat_minor": 5
}
