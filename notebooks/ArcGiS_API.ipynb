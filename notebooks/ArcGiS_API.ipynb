{
 "cells": [
  {
   "cell_type": "markdown",
   "id": "80c1301b",
   "metadata": {},
   "source": [
    "# ArcGIS API\n",
    "\n",
    "Explore downloading crash data from the ArcGIS API. "
   ]
  },
  {
   "cell_type": "code",
   "execution_count": 1,
   "id": "328dd09e",
   "metadata": {},
   "outputs": [],
   "source": [
    "import geopandas as gpd\n",
    "import pandas as pd\n",
    "import requests\n",
    "import json\n",
    "from datetime import datetime"
   ]
  },
  {
   "cell_type": "code",
   "execution_count": 2,
   "id": "302ce04a",
   "metadata": {},
   "outputs": [],
   "source": [
    "url = (\n",
    "    'https://services1.arcgis.com/zdB7qR0BtYrg0Xpl/arcgis/rest/services/ODC_CRIME_TRAFFICACCIDENTS5YR_P'\n",
    "    '/FeatureServer/325/query?outFields=*&where=1%3D1&f=geojson'\n",
    ")\n",
    "url_fields = (\n",
    "    'https://services1.arcgis.com/zdB7qR0BtYrg0Xpl/arcgis/rest/services/ODC_CRIME_TRAFFICACCIDENTS5YR_P/'\n",
    "    'FeatureServer/325/query?where=1%3D1&outFields=incident_id,offense_id,offense_code,offense_code_extension,'\n",
    "    'top_traffic_accident_offense,first_occurrence_date,last_occurrence_date,reported_date,incident_address,'\n",
    "    'geo_x,geo_y,geo_lon,geo_lat,district_id,precinct_id,neighborhood_id,bicycle_ind,pedestrian_ind,'\n",
    "    'HARMFUL_EVENT_SEQ_1,HARMFUL_EVENT_SEQ_2,HARMFUL_EVENT_SEQ_3,road_location,ROAD_DESCRIPTION,ROAD_CONTOUR,'\n",
    "    'ROAD_CONDITION,LIGHT_CONDITION,TU1_VEHICLE_TYPE,TU1_TRAVEL_DIRECTION,TU1_VEHICLE_MOVEMENT,'\n",
    "    'TU1_DRIVER_ACTION,TU1_DRIVER_HUMANCONTRIBFACTOR,TU1_PEDESTRIAN_ACTION,TU2_VEHICLE_TYPE,'\n",
    "    'TU2_TRAVEL_DIRECTION,TU2_VEHICLE_MOVEMENT,TU2_DRIVER_ACTION,TU2_DRIVER_HUMANCONTRIBFACTOR,'\n",
    "    'TU2_PEDESTRIAN_ACTION,SERIOUSLY_INJURED,FATALITIES,FATALITY_MODE_1,FATALITY_MODE_2,'\n",
    "    'SERIOUSLY_INJURED_MODE_1,SERIOUSLY_INJURED_MODE_2&outSR=4326&f=json'\n",
    ")\n",
    "\n",
    "# &resultOffset=5&resultRecordCount=10&o"
   ]
  },
  {
   "cell_type": "code",
   "execution_count": 3,
   "id": "eeac557c",
   "metadata": {},
   "outputs": [],
   "source": [
    "# gdf = gpd.read_file(url)\n",
    "# gdf"
   ]
  },
  {
   "cell_type": "code",
   "execution_count": 4,
   "id": "3dc2ba25",
   "metadata": {},
   "outputs": [],
   "source": [
    "# 2000 rows only\n",
    "# gdff = gpd.read_file(url_fields, low_memory=False)\n",
    "# gdff"
   ]
  },
  {
   "cell_type": "code",
   "execution_count": 5,
   "id": "f8e2c579",
   "metadata": {},
   "outputs": [],
   "source": [
    "response = requests.get(url)"
   ]
  },
  {
   "cell_type": "code",
   "execution_count": 6,
   "id": "d3ea42d9",
   "metadata": {},
   "outputs": [
    {
     "data": {
      "text/plain": [
       "{'Content-Type': 'application/json; charset=utf-8',\n",
       " 'Content-Length': '254101',\n",
       " 'Connection': 'keep-alive',\n",
       " 'Content-Encoding': 'gzip',\n",
       " 'Last-Modified': 'Wed, 07 May 2025 10:48:09 GMT',\n",
       " 'Request-Context': 'appId=cid-v1:02d88829-cd35-4b36-83db-f89bb9f85514, appId=cid-v1:3e4b9f12-ca59-424b-b320-0c429e32d54c',\n",
       " 'x-arcgis-upstream': 'us1h01c00',\n",
       " 'Strict-Transport-Security': 'max-age=63072000',\n",
       " 'X-ArcGIS-Trace-Id': 'JCJRaHcQ5ALs6Q3K_Q7elVQmIeTY7dbeSLlipagnFE3wO9DlzMeBFA==',\n",
       " 'x-esri-query-request-units': '2',\n",
       " 'x-esri-tiles-basic-query-mode': 'true',\n",
       " 'x-esri-tiles-basic-query-type': 'Basic',\n",
       " 'x-esri-org-request-units-per-min': 'usage=103;max=6000',\n",
       " 'x-esri-query-geometry-field-name': 'Shape',\n",
       " 'X-ArcGIS-Correlation-Id': '00-466a12bebb508479d0e4df28d741285c-4e6a70d1b4363ea3-00',\n",
       " 'X-ArcGIS-Instance': 'i7tdixsfq000000',\n",
       " 'Access-Control-Expose-Headers': 'Request-Context',\n",
       " 'Access-Control-Allow-Origin': '*',\n",
       " 'Cache-Control': 'public, max-age=30, s-maxage=30',\n",
       " 'Date': 'Wed, 07 May 2025 16:03:14 GMT',\n",
       " 'ETag': 'sd202076_-1356550332',\n",
       " 'Vary': 'X-Esri-Authorization',\n",
       " 'X-Cache': 'RefreshHit from cloudfront',\n",
       " 'Via': '1.1 949f831c3bb70b840d7eecaeb220bbfa.cloudfront.net (CloudFront)',\n",
       " 'X-Amz-Cf-Pop': 'DEN52-P3',\n",
       " 'X-Amz-Cf-Id': 'XI_5G1AH7lsJggRTaCErLQrP_R_YKta49q26m914Lh1BkddVjZHrOg=='}"
      ]
     },
     "execution_count": 6,
     "metadata": {},
     "output_type": "execute_result"
    }
   ],
   "source": [
    "dict(response.headers)"
   ]
  },
  {
   "cell_type": "code",
   "execution_count": 7,
   "id": "1410ef0a",
   "metadata": {},
   "outputs": [],
   "source": [
    "timestamp_file = datetime.now().strftime('%Y_%m_%d__%H_%M_%S')\n",
    "\n",
    "with open(f'../data/response_headers_{timestamp_file}.txt', 'w') as f:\n",
    "    json.dump(dict(response.headers), f, indent=4, sort_keys=True)"
   ]
  },
  {
   "cell_type": "code",
   "execution_count": null,
   "id": "c782b643",
   "metadata": {},
   "outputs": [],
   "source": []
  },
  {
   "cell_type": "code",
   "execution_count": null,
   "id": "69a91c53",
   "metadata": {},
   "outputs": [],
   "source": []
  },
  {
   "cell_type": "code",
   "execution_count": null,
   "id": "454d8293",
   "metadata": {},
   "outputs": [],
   "source": []
  },
  {
   "cell_type": "code",
   "execution_count": null,
   "id": "608cb971",
   "metadata": {},
   "outputs": [],
   "source": []
  }
 ],
 "metadata": {
  "kernelspec": {
   "display_name": "Python 3 (ipykernel)",
   "language": "python",
   "name": "python3"
  },
  "language_info": {
   "codemirror_mode": {
    "name": "ipython",
    "version": 3
   },
   "file_extension": ".py",
   "mimetype": "text/x-python",
   "name": "python",
   "nbconvert_exporter": "python",
   "pygments_lexer": "ipython3",
   "version": "3.10.3"
  }
 },
 "nbformat": 4,
 "nbformat_minor": 5
}
