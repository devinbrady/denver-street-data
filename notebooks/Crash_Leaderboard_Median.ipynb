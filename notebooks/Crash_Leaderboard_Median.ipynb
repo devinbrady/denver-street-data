{
 "cells": [
  {
   "cell_type": "markdown",
   "id": "0714793c",
   "metadata": {},
   "source": [
    "# Crash Leaderboard, Median Crashes\n",
    "\n",
    "Show which streets have more or less crashes than their post-covid median in a certain month. "
   ]
  },
  {
   "cell_type": "code",
   "execution_count": 1,
   "id": "10dabf52",
   "metadata": {},
   "outputs": [],
   "source": [
    "import pytz\n",
    "import folium\n",
    "import pandas as pd\n",
    "from datetime import datetime, timedelta\n",
    "\n",
    "import os\n",
    "os.chdir('..')\n",
    "from scripts.crash_data_analysis import CrashDataAnalysis"
   ]
  },
  {
   "cell_type": "code",
   "execution_count": 2,
   "id": "73a4b827",
   "metadata": {},
   "outputs": [],
   "source": [
    "cda = CrashDataAnalysis()"
   ]
  },
  {
   "cell_type": "code",
   "execution_count": null,
   "id": "c4ee7b2e",
   "metadata": {},
   "outputs": [],
   "source": [
    "# median_query.sql"
   ]
  }
 ],
 "metadata": {
  "kernelspec": {
   "display_name": "Python 3 (ipykernel)",
   "language": "python",
   "name": "python3"
  },
  "language_info": {
   "codemirror_mode": {
    "name": "ipython",
    "version": 3
   },
   "file_extension": ".py",
   "mimetype": "text/x-python",
   "name": "python",
   "nbconvert_exporter": "python",
   "pygments_lexer": "ipython3",
   "version": "3.10.3"
  }
 },
 "nbformat": 4,
 "nbformat_minor": 5
}
