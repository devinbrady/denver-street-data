{
 "cells": [
  {
   "cell_type": "markdown",
   "metadata": {},
   "source": [
    "# Crash Map Video\n",
    "\n",
    "Make a video showing crashes over time on a map\n",
    "\n",
    "Data source: https://www.denvergov.org/opendata/dataset/city-and-county-of-denver-traffic-accidents\n",
    "\n",
    "Based on: https://medium.com/udacity/creating-map-animations-with-python-97e24040f17b"
   ]
  },
  {
   "cell_type": "code",
   "execution_count": 1,
   "metadata": {},
   "outputs": [],
   "source": [
    "import os\n",
    "import pytz\n",
    "from datetime import datetime, timedelta\n",
    "import matplotlib.pyplot as plt\n",
    "import matplotlib.image as mpimg\n",
    "from matplotlib._color_data import TABLEAU_COLORS\n",
    "\n",
    "import cartopy.crs as ccrs\n",
    "from cartopy.io.img_tiles import OSM, Stamen\n",
    "import pandas as pd\n",
    "from tqdm.notebook import tqdm\n",
    "import geopy\n",
    "import geopy.distance\n",
    "\n",
    "os.chdir('..')\n",
    "from scripts.crash_data_analysis import CrashDataAnalysis\n",
    "cda = CrashDataAnalysis()"
   ]
  },
  {
   "cell_type": "code",
   "execution_count": 2,
   "metadata": {},
   "outputs": [],
   "source": [
    "# East Speer\n",
    "\n",
    "# frame_directory = 'videos/speer'\n",
    "# paste_center = [39.726591, -104.986417]\n",
    "# miles_vertical = 0.9\n",
    "# zoom_level = 16"
   ]
  },
  {
   "cell_type": "code",
   "execution_count": 3,
   "metadata": {},
   "outputs": [],
   "source": [
    "# Westwood\n",
    "\n",
    "# frame_directory = 'videos/kentucky'\n",
    "# paste_center = [39.70039857002305, -105.03918676552246]\n",
    "# miles_vertical = 1.7\n",
    "# zoom_level = 15"
   ]
  },
  {
   "cell_type": "code",
   "execution_count": 4,
   "metadata": {},
   "outputs": [],
   "source": [
    "# Downtown - Broadway / 20th St / California\n",
    "\n",
    "# frame_directory = 'videos/downtown'\n",
    "# paste_center = [39.74891627011233, -104.98736403434121]\n",
    "# miles_vertical = 1.2\n",
    "# zoom_level = 16"
   ]
  },
  {
   "cell_type": "code",
   "execution_count": 5,
   "metadata": {},
   "outputs": [],
   "source": [
    "# CDOT HQ\n",
    "\n",
    "frame_directory = 'videos/cdot'\n",
    "paste_center = [39.738465044125576, -105.02321500866896]\n",
    "miles_vertical = 0.5\n",
    "zoom_level = 17"
   ]
  },
  {
   "cell_type": "code",
   "execution_count": 6,
   "metadata": {},
   "outputs": [],
   "source": [
    "mrct = cda.most_recent_crash_timestamp()\n",
    "\n",
    "date_first = pytz.timezone('America/Denver').localize(datetime(2022,1,1))\n",
    "# date_last = datetime(2022,5,1) # df.crash_timestamp.max()\n",
    "date_last = mrct + timedelta(days=28)"
   ]
  },
  {
   "cell_type": "code",
   "execution_count": 7,
   "metadata": {},
   "outputs": [
    {
     "data": {
      "text/plain": [
       "Timestamp('2024-02-07 19:53:00-0700', tz='America/Denver')"
      ]
     },
     "execution_count": 7,
     "metadata": {},
     "output_type": "execute_result"
    }
   ],
   "source": [
    "mrct"
   ]
  },
  {
   "cell_type": "code",
   "execution_count": 8,
   "metadata": {},
   "outputs": [],
   "source": [
    "if not os.path.exists(frame_directory):\n",
    "    os.makedirs(frame_directory)"
   ]
  },
  {
   "cell_type": "code",
   "execution_count": 9,
   "metadata": {},
   "outputs": [],
   "source": [
    "d_vertical = geopy.distance.distance(miles=(miles_vertical)/2)\n",
    "d_horizontal = geopy.distance.distance(miles=(miles_vertical * 1.25)/2)\n",
    "\n",
    "center = geopy.Point(latitude=paste_center[0], longitude=paste_center[1])\n",
    "\n",
    "bounds = {}\n",
    "bounds['left'] = d_horizontal.destination(point=center, bearing=270).longitude\n",
    "bounds['top'] = d_vertical.destination(point=center, bearing=0).latitude\n",
    "bounds['right'] = d_horizontal.destination(point=center, bearing=90).longitude\n",
    "bounds['bottom'] = d_vertical.destination(point=center, bearing=180).latitude"
   ]
  },
  {
   "cell_type": "code",
   "execution_count": 10,
   "metadata": {},
   "outputs": [
    {
     "data": {
      "text/plain": [
       "0.3125"
      ]
     },
     "execution_count": 10,
     "metadata": {},
     "output_type": "execute_result"
    }
   ],
   "source": [
    "square_miles = (miles_vertical * 1.25) * miles_vertical\n",
    "square_miles"
   ]
  },
  {
   "cell_type": "code",
   "execution_count": 11,
   "metadata": {},
   "outputs": [],
   "source": [
    "query = f\"\"\"\n",
    "select \n",
    "*\n",
    ", reported_date at time zone 'America/Denver' as reported_date_local\n",
    "\n",
    "from crashes\n",
    "\n",
    "where {bounds['left']} < geo_lon\n",
    "and geo_lon < {bounds['right']}\n",
    "and {bounds['bottom']} < geo_lat\n",
    "and geo_lat < {bounds['top']}\n",
    "\n",
    "and '{date_first}' <= reported_date at time zone 'America/Denver'\n",
    "and reported_date at time zone 'America/Denver' <= '{date_last}'\n",
    "\n",
    "order by reported_date\n",
    "\"\"\"\n",
    "\n",
    "df_in_bounds = pd.read_sql(query, cda.conn)"
   ]
  },
  {
   "cell_type": "code",
   "execution_count": 12,
   "metadata": {},
   "outputs": [
    {
     "name": "stdout",
     "output_type": "stream",
     "text": [
      "Stats about crash database: \n",
      "Number of crashes: 134\n",
      "Unique IDs: 134\n",
      "Min date: 2022-01-03 16:01:00\n",
      "Max date: 2024-02-04 22:17:00\n"
     ]
    }
   ],
   "source": [
    "print('Stats about crash database: ')\n",
    "print(f'Number of crashes: {len(df_in_bounds):,}')\n",
    "print(f'Unique IDs: {df_in_bounds.incident_id.nunique():,}')\n",
    "print(f'Min date: {df_in_bounds.reported_date_local.min()}')\n",
    "print(f'Max date: {df_in_bounds.reported_date_local.max()}')"
   ]
  },
  {
   "cell_type": "code",
   "execution_count": 13,
   "metadata": {},
   "outputs": [],
   "source": [
    "df_in_bounds['reported_date_local'] = df_in_bounds['reported_date_local'].dt.tz_localize('America/Denver')"
   ]
  },
  {
   "cell_type": "code",
   "execution_count": 14,
   "metadata": {},
   "outputs": [
    {
     "data": {
      "text/plain": [
       "crashes             134.0\n",
       "fatalities            5.0\n",
       "serious_injuries      5.0\n",
       "pedestrians          11.0\n",
       "bicycles              1.0\n",
       "dtype: float64"
      ]
     },
     "execution_count": 14,
     "metadata": {},
     "output_type": "execute_result"
    }
   ],
   "source": [
    "stats_by_date = df_in_bounds.groupby('crash_date').agg(\n",
    "    crashes=('incident_id', 'size')\n",
    "    , fatalities=('fatality', 'sum')\n",
    "    , serious_injuries=('sbi', 'sum')\n",
    "    , pedestrians=('pedestrian_ind', 'sum')\n",
    "    , bicycles=('bicycle_ind', 'sum')\n",
    ")\n",
    "\n",
    "# stats_by_date.to_clipboard()\n",
    "\n",
    "stats_by_date.sum()"
   ]
  },
  {
   "cell_type": "code",
   "execution_count": 15,
   "metadata": {},
   "outputs": [],
   "source": [
    "df_in_bounds['marker_shape'] = 'o' # circle\n",
    "df_in_bounds.loc[df_in_bounds.pedestrian_ind > 0, 'marker_shape'] = 'D' # diamond\n",
    "df_in_bounds.loc[df_in_bounds.bicycle_ind > 0, 'marker_shape'] = 's' # square\n",
    "\n",
    "# https://colorbrewer2.org/#type=diverging&scheme=RdYlBu&n=4\n",
    "# https://colorbrewer2.org/#type=qualitative&scheme=Dark2&n=3\n",
    "colors = {}\n",
    "colors['crashes'] = '#1b9e77' # green\n",
    "colors['serious_injuries'] = '#d95f02' # orange\n",
    "colors['fatalities'] = '#7570b3' # purple\n",
    "\n",
    "df_in_bounds['marker_color'] = colors['crashes']\n",
    "df_in_bounds.loc[df_in_bounds.sbi, 'marker_color'] = colors['serious_injuries']\n",
    "df_in_bounds.loc[df_in_bounds.fatality, 'marker_color'] = colors['fatalities']"
   ]
  },
  {
   "cell_type": "code",
   "execution_count": 16,
   "metadata": {},
   "outputs": [
    {
     "name": "stderr",
     "output_type": "stream",
     "text": [
      "/Users/devin/Projects/denver-street-data/env/lib/python3.10/site-packages/cartopy/io/img_tiles.py:116: UserWarning: Cartopy created the following directory to cache GoogleWTS tiles: /var/folders/4t/2xdd5b8965j2rjzd9rjml1xc0000gn/T/cartopy_cache_dir/Stamen\n",
      "  warnings.warn(\n"
     ]
    }
   ],
   "source": [
    "# Save the base map\n",
    "# todo: Stamen no longer supported\n",
    "imagery = Stamen(style='toner-lite', cache=True)"
   ]
  },
  {
   "cell_type": "code",
   "execution_count": 17,
   "metadata": {},
   "outputs": [],
   "source": [
    "fig = plt.figure(figsize=[16,9])\n",
    "fig.subplots_adjust(left=0, bottom=0.05, right=0.7, top=0.95)\n",
    "\n",
    "ax = plt.axes(projection=imagery.crs)\n",
    "ax.add_image(imagery, zoom_level)\n",
    "ax.set_extent((bounds['left'], bounds['right'], bounds['bottom'], bounds['top']))\n",
    "\n",
    "# plt.savefig(f'{frame_directory}/base_map.png', facecolor='white')\n",
    "plt.close()"
   ]
  },
  {
   "cell_type": "code",
   "execution_count": 18,
   "metadata": {},
   "outputs": [],
   "source": [
    "video_date_range = pd.date_range(date_first, date_last, freq='d')"
   ]
  },
  {
   "cell_type": "code",
   "execution_count": 19,
   "metadata": {},
   "outputs": [],
   "source": [
    "def save_one_frame(df, map_date, bounds, zoom_level, frame_filename, colors):\n",
    "    \"\"\"\n",
    "    Save one frame of the video with crashes from that day and previous days\n",
    "    \n",
    "    df : DataFrame containing crashes (already limited to the bounds). If None, only base map is saved\n",
    "    map_date : date for the crashes that will be plotted\n",
    "    bounds : dict containing left (lon), right (lon), top (lat), and bottom (lat) bounds of the map\n",
    "    frame_filename : the filename where to save the frame PNG\n",
    "    colors : dict containing colors for 'crashes', 'serious_injuries', and 'fatalities'\n",
    "    \"\"\"\n",
    "\n",
    "    fig = plt.figure(figsize=[16,9])\n",
    "\n",
    "    fig.subplots_adjust(left=0, bottom=0.05, right=0.7, top=0.95)\n",
    "\n",
    "    ax = plt.axes(projection=imagery.crs)\n",
    "    ax.set_extent((bounds['left'], bounds['right'], bounds['bottom'], bounds['top']))\n",
    "    ax.add_image(imagery, zoom_level)\n",
    "    \n",
    "    if frame_directory == 'videos/cdot':\n",
    "        plt.gcf().text(\n",
    "            x=0.35\n",
    "            , y=0.53\n",
    "            , s='Colorado Department\\nof Transportation HQ'\n",
    "            , fontsize=14\n",
    "            , font='Menlo'\n",
    "            , color='white'\n",
    "            , backgroundcolor=TABLEAU_COLORS['tab:red']\n",
    "            , horizontalalignment='center'\n",
    "            , verticalalignment='center'\n",
    "        )\n",
    "    \n",
    "    \n",
    "    for days_back in range(27,-1,-1):\n",
    "        \n",
    "        rows_to_plot = df.crash_date == (map_date - timedelta(days=days_back)).strftime('%Y-%m-%d')\n",
    "\n",
    "        if rows_to_plot.sum() > 0:\n",
    "            for m in df[rows_to_plot]['marker_shape'].unique():\n",
    "                for c in df[rows_to_plot]['marker_color'].unique():\n",
    "                    \n",
    "                    # Make the crashes fade out sooner than the injuries and fatalities\n",
    "                    if c == colors['crashes']:\n",
    "                        fill_style='none'\n",
    "                        if days_back >= 14:\n",
    "                            alpha_value = 0\n",
    "                        elif days_back >= 7:\n",
    "                            alpha_value = 0.8 - (0.1 * (days_back - 6))\n",
    "                        else:\n",
    "                            alpha_value = 0.8\n",
    "\n",
    "                    else: # fatalities and serious injuries\n",
    "                        fill_style = 'full'\n",
    "                        if days_back >= 21:\n",
    "                            alpha_value = 0.8 - (0.1 * (days_back - 20))\n",
    "                        else:\n",
    "                            alpha_value = 0.8\n",
    "\n",
    "\n",
    "                    ax.plot(\n",
    "                        df.loc[\n",
    "                            (rows_to_plot) & (df['marker_shape'] == m) & (df['marker_color'] == c)\n",
    "                            , 'geo_lon'\n",
    "                            ].to_numpy()\n",
    "                        , df.loc[\n",
    "                            (rows_to_plot) & (df['marker_shape'] == m) & (df['marker_color'] == c)\n",
    "                            , 'geo_lat'\n",
    "                            ].to_numpy()\n",
    "                        , transform=ccrs.Geodetic()\n",
    "                        , marker=m\n",
    "                        , color=c\n",
    "                        , linestyle=''\n",
    "                        , markersize=(5*(days_back+1)) + 10\n",
    "                        , fillstyle=fill_style\n",
    "                        , markeredgewidth=6\n",
    "                        , alpha=alpha_value\n",
    "                    )\n",
    "\n",
    "\n",
    "    # Do counts of crashes up to map_date\n",
    "    counts = df[df.reported_date_local <= map_date].groupby('crash_date').agg(\n",
    "        crashes=('incident_id', 'size')\n",
    "        , fatalities=('fatality', 'sum')\n",
    "        , serious_injuries=('sbi', 'sum')\n",
    "        , pedestrians=('pedestrian_ind', 'sum')\n",
    "        , bicycles=('bicycle_ind', 'sum')\n",
    "    ).sum()    \n",
    "    \n",
    "    if map_date > mrct:\n",
    "        date_for_legend = mrct.strftime('%Y-%m-%d')\n",
    "    else:\n",
    "        date_for_legend = map_date.strftime('%Y-%m-%d')\n",
    "        \n",
    "    legend = [\n",
    "        ('Date: {}'.format(date_for_legend), 'black', 0.91)\n",
    "        , ('Car crashes:{: 6,.0f}'.format(counts['crashes']), colors['crashes'], 0.78)\n",
    "        , ('Crashes with a       \\nserious injury:{: 6,.0f}'.format(\n",
    "            counts['serious_injuries']), colors['serious_injuries'], 0.6175)\n",
    "        , ('Crashes with a       \\nfatality:{: 6,.0f}'.format(counts['fatalities']), colors['fatalities'], 0.455)\n",
    "        , (u\"\\n\\u25C7 Pedestrian       \\ninvolved:{: 6,.0f}\".format(counts['pedestrians']), 'black', 0.2925)\n",
    "        , (u\"\\n\\u25FB Bicycle       \\ninvolved:{: 6,.0f}\".format(counts['bicycles']), 'black', 0.13)\n",
    "    ]\n",
    "    \n",
    "    for idx, line in enumerate(legend):\n",
    "            \n",
    "        plt.gcf().text(\n",
    "            x=0.97\n",
    "            , y=line[2]\n",
    "            , s=line[0]\n",
    "            , fontsize=26\n",
    "            , horizontalalignment='right'\n",
    "            , verticalalignment='bottom'\n",
    "#             , family='monospace'\n",
    "            , font='Menlo'\n",
    "            , color=line[1]\n",
    "        )\n",
    "\n",
    "    plt.gcf().text(\n",
    "        x=0.97\n",
    "        , y=0.05\n",
    "        , s='Visualization by Devin Brady'\n",
    "        , fontsize=18\n",
    "        , horizontalalignment='right'\n",
    "#         , family='monospace'\n",
    "        , font='Menlo'\n",
    "        , color='black'\n",
    "    )\n",
    "\n",
    "    plt.savefig(frame_filename, facecolor='white')\n",
    "    plt.close()\n",
    "    \n",
    "    return legend"
   ]
  },
  {
   "cell_type": "code",
   "execution_count": 20,
   "metadata": {},
   "outputs": [
    {
     "name": "stdout",
     "output_type": "stream",
     "text": [
      "<urlopen error [Errno 8] nodename nor servname provided, or not known><urlopen error [Errno 8] nodename nor servname provided, or not known>\n",
      "\n",
      "<urlopen error [Errno 8] nodename nor servname provided, or not known>\n",
      "<urlopen error [Errno 8] nodename nor servname provided, or not known>\n",
      "<urlopen error [Errno 8] nodename nor servname provided, or not known>\n",
      "<urlopen error [Errno 8] nodename nor servname provided, or not known>\n",
      "<urlopen error [Errno 8] nodename nor servname provided, or not known>\n",
      "<urlopen error [Errno 8] nodename nor servname provided, or not known>\n",
      "<urlopen error [Errno 8] nodename nor servname provided, or not known>\n",
      "<urlopen error [Errno 8] nodename nor servname provided, or not known>\n",
      "<urlopen error [Errno 8] nodename nor servname provided, or not known>\n",
      "<urlopen error [Errno 8] nodename nor servname provided, or not known>\n",
      "<urlopen error [Errno 8] nodename nor servname provided, or not known>\n",
      "<urlopen error [Errno 8] nodename nor servname provided, or not known>\n",
      "<urlopen error [Errno 8] nodename nor servname provided, or not known>\n",
      "<urlopen error [Errno 8] nodename nor servname provided, or not known>\n",
      "<urlopen error [Errno 8] nodename nor servname provided, or not known>\n",
      "<urlopen error [Errno 8] nodename nor servname provided, or not known>\n",
      "<urlopen error [Errno 8] nodename nor servname provided, or not known>\n",
      "<urlopen error [Errno 8] nodename nor servname provided, or not known>\n"
     ]
    }
   ],
   "source": [
    "# Save the initial map\n",
    "_ = save_one_frame(\n",
    "    pd.DataFrame(columns=df_in_bounds.columns)\n",
    "    , video_date_range[0]\n",
    "    , bounds\n",
    "    , zoom_level\n",
    "    , f'{frame_directory}/initial_map.png'\n",
    "    , colors\n",
    ")"
   ]
  },
  {
   "cell_type": "code",
   "execution_count": 21,
   "metadata": {},
   "outputs": [
    {
     "data": {
      "application/vnd.jupyter.widget-view+json": {
       "model_id": "22cced3058d347708a95a649b809f3f6",
       "version_major": 2,
       "version_minor": 0
      },
      "text/plain": [
       "Saving map frames:   0%|          | 0/796 [00:00<?, ?it/s]"
      ]
     },
     "metadata": {},
     "output_type": "display_data"
    },
    {
     "ename": "KeyboardInterrupt",
     "evalue": "",
     "output_type": "error",
     "traceback": [
      "\u001b[0;31m---------------------------------------------------------------------------\u001b[0m",
      "\u001b[0;31mKeyboardInterrupt\u001b[0m                         Traceback (most recent call last)",
      "\u001b[0;32m/var/folders/4t/2xdd5b8965j2rjzd9rjml1xc0000gn/T/ipykernel_7844/2912578070.py\u001b[0m in \u001b[0;36m<cell line: 1>\u001b[0;34m()\u001b[0m\n\u001b[1;32m      5\u001b[0m \u001b[0;31m#         continue\u001b[0m\u001b[0;34m\u001b[0m\u001b[0;34m\u001b[0m\u001b[0m\n\u001b[1;32m      6\u001b[0m \u001b[0;34m\u001b[0m\u001b[0m\n\u001b[0;32m----> 7\u001b[0;31m     \u001b[0mlegend\u001b[0m \u001b[0;34m=\u001b[0m \u001b[0msave_one_frame\u001b[0m\u001b[0;34m(\u001b[0m\u001b[0mdf_in_bounds\u001b[0m\u001b[0;34m,\u001b[0m \u001b[0md\u001b[0m\u001b[0;34m,\u001b[0m \u001b[0mbounds\u001b[0m\u001b[0;34m,\u001b[0m \u001b[0mzoom_level\u001b[0m\u001b[0;34m,\u001b[0m \u001b[0;34mf'{frame_directory}/frame_{counter:04d}.png'\u001b[0m\u001b[0;34m,\u001b[0m \u001b[0mcolors\u001b[0m\u001b[0;34m)\u001b[0m\u001b[0;34m\u001b[0m\u001b[0;34m\u001b[0m\u001b[0m\n\u001b[0m",
      "\u001b[0;32m/var/folders/4t/2xdd5b8965j2rjzd9rjml1xc0000gn/T/ipykernel_7844/520852662.py\u001b[0m in \u001b[0;36msave_one_frame\u001b[0;34m(df, map_date, bounds, zoom_level, frame_filename, colors)\u001b[0m\n\u001b[1;32m     38\u001b[0m         \u001b[0;32mif\u001b[0m \u001b[0mrows_to_plot\u001b[0m\u001b[0;34m.\u001b[0m\u001b[0msum\u001b[0m\u001b[0;34m(\u001b[0m\u001b[0;34m)\u001b[0m \u001b[0;34m>\u001b[0m \u001b[0;36m0\u001b[0m\u001b[0;34m:\u001b[0m\u001b[0;34m\u001b[0m\u001b[0;34m\u001b[0m\u001b[0m\n\u001b[1;32m     39\u001b[0m             \u001b[0;32mfor\u001b[0m \u001b[0mm\u001b[0m \u001b[0;32min\u001b[0m \u001b[0mdf\u001b[0m\u001b[0;34m[\u001b[0m\u001b[0mrows_to_plot\u001b[0m\u001b[0;34m]\u001b[0m\u001b[0;34m[\u001b[0m\u001b[0;34m'marker_shape'\u001b[0m\u001b[0;34m]\u001b[0m\u001b[0;34m.\u001b[0m\u001b[0munique\u001b[0m\u001b[0;34m(\u001b[0m\u001b[0;34m)\u001b[0m\u001b[0;34m:\u001b[0m\u001b[0;34m\u001b[0m\u001b[0;34m\u001b[0m\u001b[0m\n\u001b[0;32m---> 40\u001b[0;31m                 \u001b[0;32mfor\u001b[0m \u001b[0mc\u001b[0m \u001b[0;32min\u001b[0m \u001b[0mdf\u001b[0m\u001b[0;34m[\u001b[0m\u001b[0mrows_to_plot\u001b[0m\u001b[0;34m]\u001b[0m\u001b[0;34m[\u001b[0m\u001b[0;34m'marker_color'\u001b[0m\u001b[0;34m]\u001b[0m\u001b[0;34m.\u001b[0m\u001b[0munique\u001b[0m\u001b[0;34m(\u001b[0m\u001b[0;34m)\u001b[0m\u001b[0;34m:\u001b[0m\u001b[0;34m\u001b[0m\u001b[0;34m\u001b[0m\u001b[0m\n\u001b[0m\u001b[1;32m     41\u001b[0m \u001b[0;34m\u001b[0m\u001b[0m\n\u001b[1;32m     42\u001b[0m                     \u001b[0;31m# Make the crashes fade out sooner than the injuries and fatalities\u001b[0m\u001b[0;34m\u001b[0m\u001b[0;34m\u001b[0m\u001b[0m\n",
      "\u001b[0;32m~/Projects/denver-street-data/env/lib/python3.10/site-packages/pandas/core/frame.py\u001b[0m in \u001b[0;36m__getitem__\u001b[0;34m(self, key)\u001b[0m\n\u001b[1;32m   3749\u001b[0m         \u001b[0;31m# Do we have a (boolean) 1d indexer?\u001b[0m\u001b[0;34m\u001b[0m\u001b[0;34m\u001b[0m\u001b[0m\n\u001b[1;32m   3750\u001b[0m         \u001b[0;32mif\u001b[0m \u001b[0mcom\u001b[0m\u001b[0;34m.\u001b[0m\u001b[0mis_bool_indexer\u001b[0m\u001b[0;34m(\u001b[0m\u001b[0mkey\u001b[0m\u001b[0;34m)\u001b[0m\u001b[0;34m:\u001b[0m\u001b[0;34m\u001b[0m\u001b[0;34m\u001b[0m\u001b[0m\n\u001b[0;32m-> 3751\u001b[0;31m             \u001b[0;32mreturn\u001b[0m \u001b[0mself\u001b[0m\u001b[0;34m.\u001b[0m\u001b[0m_getitem_bool_array\u001b[0m\u001b[0;34m(\u001b[0m\u001b[0mkey\u001b[0m\u001b[0;34m)\u001b[0m\u001b[0;34m\u001b[0m\u001b[0;34m\u001b[0m\u001b[0m\n\u001b[0m\u001b[1;32m   3752\u001b[0m \u001b[0;34m\u001b[0m\u001b[0m\n\u001b[1;32m   3753\u001b[0m         \u001b[0;31m# We are left with two options: a single key, and a collection of keys,\u001b[0m\u001b[0;34m\u001b[0m\u001b[0;34m\u001b[0m\u001b[0m\n",
      "\u001b[0;32m~/Projects/denver-street-data/env/lib/python3.10/site-packages/pandas/core/frame.py\u001b[0m in \u001b[0;36m_getitem_bool_array\u001b[0;34m(self, key)\u001b[0m\n\u001b[1;32m   3808\u001b[0m \u001b[0;34m\u001b[0m\u001b[0m\n\u001b[1;32m   3809\u001b[0m         \u001b[0mindexer\u001b[0m \u001b[0;34m=\u001b[0m \u001b[0mkey\u001b[0m\u001b[0;34m.\u001b[0m\u001b[0mnonzero\u001b[0m\u001b[0;34m(\u001b[0m\u001b[0;34m)\u001b[0m\u001b[0;34m[\u001b[0m\u001b[0;36m0\u001b[0m\u001b[0;34m]\u001b[0m\u001b[0;34m\u001b[0m\u001b[0;34m\u001b[0m\u001b[0m\n\u001b[0;32m-> 3810\u001b[0;31m         \u001b[0;32mreturn\u001b[0m \u001b[0mself\u001b[0m\u001b[0;34m.\u001b[0m\u001b[0m_take_with_is_copy\u001b[0m\u001b[0;34m(\u001b[0m\u001b[0mindexer\u001b[0m\u001b[0;34m,\u001b[0m \u001b[0maxis\u001b[0m\u001b[0;34m=\u001b[0m\u001b[0;36m0\u001b[0m\u001b[0;34m)\u001b[0m\u001b[0;34m\u001b[0m\u001b[0;34m\u001b[0m\u001b[0m\n\u001b[0m\u001b[1;32m   3811\u001b[0m \u001b[0;34m\u001b[0m\u001b[0m\n\u001b[1;32m   3812\u001b[0m     \u001b[0;32mdef\u001b[0m \u001b[0m_getitem_multilevel\u001b[0m\u001b[0;34m(\u001b[0m\u001b[0mself\u001b[0m\u001b[0;34m,\u001b[0m \u001b[0mkey\u001b[0m\u001b[0;34m)\u001b[0m\u001b[0;34m:\u001b[0m\u001b[0;34m\u001b[0m\u001b[0;34m\u001b[0m\u001b[0m\n",
      "\u001b[0;32m~/Projects/denver-street-data/env/lib/python3.10/site-packages/pandas/core/generic.py\u001b[0m in \u001b[0;36m_take_with_is_copy\u001b[0;34m(self, indices, axis)\u001b[0m\n\u001b[1;32m   3946\u001b[0m         \u001b[0mSee\u001b[0m \u001b[0mthe\u001b[0m \u001b[0mdocstring\u001b[0m \u001b[0mof\u001b[0m\u001b[0;31m \u001b[0m\u001b[0;31m`\u001b[0m\u001b[0mtake\u001b[0m\u001b[0;31m`\u001b[0m \u001b[0;32mfor\u001b[0m \u001b[0mfull\u001b[0m \u001b[0mexplanation\u001b[0m \u001b[0mof\u001b[0m \u001b[0mthe\u001b[0m \u001b[0mparameters\u001b[0m\u001b[0;34m.\u001b[0m\u001b[0;34m\u001b[0m\u001b[0;34m\u001b[0m\u001b[0m\n\u001b[1;32m   3947\u001b[0m         \"\"\"\n\u001b[0;32m-> 3948\u001b[0;31m         \u001b[0mresult\u001b[0m \u001b[0;34m=\u001b[0m \u001b[0mself\u001b[0m\u001b[0;34m.\u001b[0m\u001b[0m_take\u001b[0m\u001b[0;34m(\u001b[0m\u001b[0mindices\u001b[0m\u001b[0;34m=\u001b[0m\u001b[0mindices\u001b[0m\u001b[0;34m,\u001b[0m \u001b[0maxis\u001b[0m\u001b[0;34m=\u001b[0m\u001b[0maxis\u001b[0m\u001b[0;34m)\u001b[0m\u001b[0;34m\u001b[0m\u001b[0;34m\u001b[0m\u001b[0m\n\u001b[0m\u001b[1;32m   3949\u001b[0m         \u001b[0;31m# Maybe set copy if we didn't actually change the index.\u001b[0m\u001b[0;34m\u001b[0m\u001b[0;34m\u001b[0m\u001b[0m\n\u001b[1;32m   3950\u001b[0m         \u001b[0;32mif\u001b[0m \u001b[0;32mnot\u001b[0m \u001b[0mresult\u001b[0m\u001b[0;34m.\u001b[0m\u001b[0m_get_axis\u001b[0m\u001b[0;34m(\u001b[0m\u001b[0maxis\u001b[0m\u001b[0;34m)\u001b[0m\u001b[0;34m.\u001b[0m\u001b[0mequals\u001b[0m\u001b[0;34m(\u001b[0m\u001b[0mself\u001b[0m\u001b[0;34m.\u001b[0m\u001b[0m_get_axis\u001b[0m\u001b[0;34m(\u001b[0m\u001b[0maxis\u001b[0m\u001b[0;34m)\u001b[0m\u001b[0;34m)\u001b[0m\u001b[0;34m:\u001b[0m\u001b[0;34m\u001b[0m\u001b[0;34m\u001b[0m\u001b[0m\n",
      "\u001b[0;32m~/Projects/denver-street-data/env/lib/python3.10/site-packages/pandas/core/generic.py\u001b[0m in \u001b[0;36m_take\u001b[0;34m(self, indices, axis, convert_indices)\u001b[0m\n\u001b[1;32m   3930\u001b[0m                 \u001b[0;32mreturn\u001b[0m \u001b[0mself\u001b[0m\u001b[0;34m.\u001b[0m\u001b[0mcopy\u001b[0m\u001b[0;34m(\u001b[0m\u001b[0mdeep\u001b[0m\u001b[0;34m=\u001b[0m\u001b[0;32mNone\u001b[0m\u001b[0;34m)\u001b[0m\u001b[0;34m\u001b[0m\u001b[0;34m\u001b[0m\u001b[0m\n\u001b[1;32m   3931\u001b[0m \u001b[0;34m\u001b[0m\u001b[0m\n\u001b[0;32m-> 3932\u001b[0;31m         new_data = self._mgr.take(\n\u001b[0m\u001b[1;32m   3933\u001b[0m             \u001b[0mindices\u001b[0m\u001b[0;34m,\u001b[0m\u001b[0;34m\u001b[0m\u001b[0;34m\u001b[0m\u001b[0m\n\u001b[1;32m   3934\u001b[0m             \u001b[0maxis\u001b[0m\u001b[0;34m=\u001b[0m\u001b[0mself\u001b[0m\u001b[0;34m.\u001b[0m\u001b[0m_get_block_manager_axis\u001b[0m\u001b[0;34m(\u001b[0m\u001b[0maxis\u001b[0m\u001b[0;34m)\u001b[0m\u001b[0;34m,\u001b[0m\u001b[0;34m\u001b[0m\u001b[0;34m\u001b[0m\u001b[0m\n",
      "\u001b[0;32m~/Projects/denver-street-data/env/lib/python3.10/site-packages/pandas/core/internals/managers.py\u001b[0m in \u001b[0;36mtake\u001b[0;34m(self, indexer, axis, verify, convert_indices)\u001b[0m\n\u001b[1;32m    961\u001b[0m \u001b[0;34m\u001b[0m\u001b[0m\n\u001b[1;32m    962\u001b[0m         \u001b[0mnew_labels\u001b[0m \u001b[0;34m=\u001b[0m \u001b[0mself\u001b[0m\u001b[0;34m.\u001b[0m\u001b[0maxes\u001b[0m\u001b[0;34m[\u001b[0m\u001b[0maxis\u001b[0m\u001b[0;34m]\u001b[0m\u001b[0;34m.\u001b[0m\u001b[0mtake\u001b[0m\u001b[0;34m(\u001b[0m\u001b[0mindexer\u001b[0m\u001b[0;34m)\u001b[0m\u001b[0;34m\u001b[0m\u001b[0;34m\u001b[0m\u001b[0m\n\u001b[0;32m--> 963\u001b[0;31m         return self.reindex_indexer(\n\u001b[0m\u001b[1;32m    964\u001b[0m             \u001b[0mnew_axis\u001b[0m\u001b[0;34m=\u001b[0m\u001b[0mnew_labels\u001b[0m\u001b[0;34m,\u001b[0m\u001b[0;34m\u001b[0m\u001b[0;34m\u001b[0m\u001b[0m\n\u001b[1;32m    965\u001b[0m             \u001b[0mindexer\u001b[0m\u001b[0;34m=\u001b[0m\u001b[0mindexer\u001b[0m\u001b[0;34m,\u001b[0m\u001b[0;34m\u001b[0m\u001b[0;34m\u001b[0m\u001b[0m\n",
      "\u001b[0;32m~/Projects/denver-street-data/env/lib/python3.10/site-packages/pandas/core/internals/managers.py\u001b[0m in \u001b[0;36mreindex_indexer\u001b[0;34m(self, new_axis, indexer, axis, fill_value, allow_dups, copy, only_slice, use_na_proxy)\u001b[0m\n\u001b[1;32m    745\u001b[0m             )\n\u001b[1;32m    746\u001b[0m         \u001b[0;32melse\u001b[0m\u001b[0;34m:\u001b[0m\u001b[0;34m\u001b[0m\u001b[0;34m\u001b[0m\u001b[0m\n\u001b[0;32m--> 747\u001b[0;31m             new_blocks = [\n\u001b[0m\u001b[1;32m    748\u001b[0m                 blk.take_nd(\n\u001b[1;32m    749\u001b[0m                     \u001b[0mindexer\u001b[0m\u001b[0;34m,\u001b[0m\u001b[0;34m\u001b[0m\u001b[0;34m\u001b[0m\u001b[0m\n",
      "\u001b[0;32m~/Projects/denver-street-data/env/lib/python3.10/site-packages/pandas/core/internals/managers.py\u001b[0m in \u001b[0;36m<listcomp>\u001b[0;34m(.0)\u001b[0m\n\u001b[1;32m    746\u001b[0m         \u001b[0;32melse\u001b[0m\u001b[0;34m:\u001b[0m\u001b[0;34m\u001b[0m\u001b[0;34m\u001b[0m\u001b[0m\n\u001b[1;32m    747\u001b[0m             new_blocks = [\n\u001b[0;32m--> 748\u001b[0;31m                 blk.take_nd(\n\u001b[0m\u001b[1;32m    749\u001b[0m                     \u001b[0mindexer\u001b[0m\u001b[0;34m,\u001b[0m\u001b[0;34m\u001b[0m\u001b[0;34m\u001b[0m\u001b[0m\n\u001b[1;32m    750\u001b[0m                     \u001b[0maxis\u001b[0m\u001b[0;34m=\u001b[0m\u001b[0;36m1\u001b[0m\u001b[0;34m,\u001b[0m\u001b[0;34m\u001b[0m\u001b[0;34m\u001b[0m\u001b[0m\n",
      "\u001b[0;32m~/Projects/denver-street-data/env/lib/python3.10/site-packages/pandas/core/internals/blocks.py\u001b[0m in \u001b[0;36mtake_nd\u001b[0;34m(self, indexer, axis, new_mgr_locs, fill_value)\u001b[0m\n\u001b[1;32m    943\u001b[0m \u001b[0;34m\u001b[0m\u001b[0m\n\u001b[1;32m    944\u001b[0m         \u001b[0;31m# Note: algos.take_nd has upcast logic similar to coerce_to_target_dtype\u001b[0m\u001b[0;34m\u001b[0m\u001b[0;34m\u001b[0m\u001b[0m\n\u001b[0;32m--> 945\u001b[0;31m         new_values = algos.take_nd(\n\u001b[0m\u001b[1;32m    946\u001b[0m             \u001b[0mvalues\u001b[0m\u001b[0;34m,\u001b[0m \u001b[0mindexer\u001b[0m\u001b[0;34m,\u001b[0m \u001b[0maxis\u001b[0m\u001b[0;34m=\u001b[0m\u001b[0maxis\u001b[0m\u001b[0;34m,\u001b[0m \u001b[0mallow_fill\u001b[0m\u001b[0;34m=\u001b[0m\u001b[0mallow_fill\u001b[0m\u001b[0;34m,\u001b[0m \u001b[0mfill_value\u001b[0m\u001b[0;34m=\u001b[0m\u001b[0mfill_value\u001b[0m\u001b[0;34m\u001b[0m\u001b[0;34m\u001b[0m\u001b[0m\n\u001b[1;32m    947\u001b[0m         )\n",
      "\u001b[0;32m~/Projects/denver-street-data/env/lib/python3.10/site-packages/pandas/core/array_algos/take.py\u001b[0m in \u001b[0;36mtake_nd\u001b[0;34m(arr, indexer, axis, fill_value, allow_fill)\u001b[0m\n\u001b[1;32m    105\u001b[0m         \u001b[0;31m# i.e. ExtensionArray,\u001b[0m\u001b[0;34m\u001b[0m\u001b[0;34m\u001b[0m\u001b[0m\n\u001b[1;32m    106\u001b[0m         \u001b[0;31m# includes for EA to catch DatetimeArray, TimedeltaArray\u001b[0m\u001b[0;34m\u001b[0m\u001b[0;34m\u001b[0m\u001b[0m\n\u001b[0;32m--> 107\u001b[0;31m         \u001b[0;32mif\u001b[0m \u001b[0;32mnot\u001b[0m \u001b[0mis_1d_only_ea_obj\u001b[0m\u001b[0;34m(\u001b[0m\u001b[0marr\u001b[0m\u001b[0;34m)\u001b[0m\u001b[0;34m:\u001b[0m\u001b[0;34m\u001b[0m\u001b[0;34m\u001b[0m\u001b[0m\n\u001b[0m\u001b[1;32m    108\u001b[0m             \u001b[0;31m# i.e. DatetimeArray, TimedeltaArray\u001b[0m\u001b[0;34m\u001b[0m\u001b[0;34m\u001b[0m\u001b[0m\n\u001b[1;32m    109\u001b[0m             \u001b[0marr\u001b[0m \u001b[0;34m=\u001b[0m \u001b[0mcast\u001b[0m\u001b[0;34m(\u001b[0m\u001b[0;34m\"NDArrayBackedExtensionArray\"\u001b[0m\u001b[0;34m,\u001b[0m \u001b[0marr\u001b[0m\u001b[0;34m)\u001b[0m\u001b[0;34m\u001b[0m\u001b[0;34m\u001b[0m\u001b[0m\n",
      "\u001b[0;32m~/Projects/denver-street-data/env/lib/python3.10/site-packages/pandas/core/dtypes/common.py\u001b[0m in \u001b[0;36mis_1d_only_ea_obj\u001b[0;34m(obj)\u001b[0m\n\u001b[1;32m   1308\u001b[0m     \u001b[0;32mnot\u001b[0m \u001b[0muse\u001b[0m \u001b[0mHybridBlock\u001b[0m\u001b[0;34m.\u001b[0m\u001b[0;34m\u001b[0m\u001b[0;34m\u001b[0m\u001b[0m\n\u001b[1;32m   1309\u001b[0m     \"\"\"\n\u001b[0;32m-> 1310\u001b[0;31m     from pandas.core.arrays import (\n\u001b[0m\u001b[1;32m   1311\u001b[0m         \u001b[0mDatetimeArray\u001b[0m\u001b[0;34m,\u001b[0m\u001b[0;34m\u001b[0m\u001b[0;34m\u001b[0m\u001b[0m\n\u001b[1;32m   1312\u001b[0m         \u001b[0mExtensionArray\u001b[0m\u001b[0;34m,\u001b[0m\u001b[0;34m\u001b[0m\u001b[0;34m\u001b[0m\u001b[0m\n",
      "\u001b[0;32m~/.pyenv/versions/3.10.3/lib/python3.10/importlib/_bootstrap.py\u001b[0m in \u001b[0;36m_handle_fromlist\u001b[0;34m(module, fromlist, import_, recursive)\u001b[0m\n",
      "\u001b[0;31mKeyboardInterrupt\u001b[0m: "
     ]
    },
    {
     "data": {
      "image/png": "[encoded data removed]",
      "text/plain": [
       "<Figure size 1152x648 with 1 Axes>"
      ]
     },
     "metadata": {
      "needs_background": "light"
     },
     "output_type": "display_data"
    }
   ],
   "source": [
    "for counter, d in enumerate(tqdm(video_date_range, 'Saving map frames')):\n",
    "\n",
    "    # only save the last image\n",
    "#     if counter < 364:\n",
    "#         continue\n",
    "    \n",
    "    legend = save_one_frame(df_in_bounds, d, bounds, zoom_level, f'{frame_directory}/frame_{counter:04d}.png', colors)\n"
   ]
  },
  {
   "cell_type": "markdown",
   "metadata": {},
   "source": [
    "## Terminal command "
   ]
  },
  {
   "cell_type": "code",
   "execution_count": null,
   "metadata": {},
   "outputs": [],
   "source": [
    "print(\n",
    "    f'ffmpeg -framerate 12 -i {frame_directory}/frame_%4d.png -c:v h264 -r 30 '\n",
    "    + f'-s 1920x1080 {frame_directory}/crashes.mp4'\n",
    ")"
   ]
  },
  {
   "cell_type": "code",
   "execution_count": null,
   "metadata": {},
   "outputs": [],
   "source": [
    "# import numpy as np\n",
    "# np.linspace(0.75, 0.1, num=5)"
   ]
  },
  {
   "cell_type": "code",
   "execution_count": null,
   "metadata": {
    "scrolled": true
   },
   "outputs": [],
   "source": [
    "# import matplotlib\n",
    "# matplotlib.font_manager.findSystemFonts(fontpaths=None, fontext='ttf') #[:10]"
   ]
  },
  {
   "cell_type": "code",
   "execution_count": null,
   "metadata": {},
   "outputs": [],
   "source": [
    "for leg in legend:\n",
    "    print(leg[0])"
   ]
  },
  {
   "cell_type": "code",
   "execution_count": null,
   "metadata": {},
   "outputs": [],
   "source": [
    "df_in_bounds[df_in_bounds.fatality]"
   ]
  },
  {
   "cell_type": "code",
   "execution_count": null,
   "metadata": {},
   "outputs": [],
   "source": []
  }
 ],
 "metadata": {
  "kernelspec": {
   "display_name": "Python 3 (ipykernel)",
   "language": "python",
   "name": "python3"
  },
  "language_info": {
   "codemirror_mode": {
    "name": "ipython",
    "version": 3
   },
   "file_extension": ".py",
   "mimetype": "text/x-python",
   "name": "python",
   "nbconvert_exporter": "python",
   "pygments_lexer": "ipython3",
   "version": "3.10.3"
  }
 },
 "nbformat": 4,
 "nbformat_minor": 2
}
