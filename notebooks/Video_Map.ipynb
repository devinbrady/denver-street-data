{
 "cells": [
  {
   "cell_type": "markdown",
   "metadata": {},
   "source": [
    "# Crash Map Video\n",
    "\n",
    "Make a video showing crashes over time on a map\n",
    "\n",
    "Data source: https://www.denvergov.org/opendata/dataset/city-and-county-of-denver-traffic-accidents\n",
    "\n",
    "Based on: https://medium.com/udacity/creating-map-animations-with-python-97e24040f17b"
   ]
  },
  {
   "cell_type": "code",
   "execution_count": 1,
   "metadata": {},
   "outputs": [],
   "source": [
    "import os\n",
    "import pytz\n",
    "from datetime import datetime, timedelta\n",
    "import matplotlib.pyplot as plt\n",
    "import matplotlib.image as mpimg\n",
    "from matplotlib._color_data import TABLEAU_COLORS\n",
    "\n",
    "import cartopy.crs as ccrs\n",
    "from cartopy.io.img_tiles import OSM, Stamen\n",
    "import pandas as pd\n",
    "from tqdm.notebook import tqdm\n",
    "import geopy\n",
    "import geopy.distance\n",
    "\n",
    "os.chdir('..')\n",
    "from scripts.crash_data_analysis import CrashDataAnalysis\n",
    "cda = CrashDataAnalysis()"
   ]
  },
  {
   "cell_type": "code",
   "execution_count": 2,
   "metadata": {},
   "outputs": [],
   "source": [
    "import cartopy.io.img_tiles as cimgt\n",
    "\n",
    "class StadiaStamen(cimgt.Stamen):\n",
    "#     def __init__():\n",
    "    def _image_url(self, tile):\n",
    "        stadia_api_key = os.environ.get('STADIA_API_KEY')\n",
    "        x,y,z = tile\n",
    "        r = '@2x'\n",
    "        # url = f\"https://tiles.stadiamaps.com/tiles/stamen_terrain/{z}/{x}/{y}.png?api_key={stadia_api_key}\"\n",
    "        url = f'https://tiles.stadiamaps.com/tiles/stamen_toner_lite/{z}/{x}/{y}{r}.png?api_key={stadia_api_key}'\n",
    "        return url\n",
    "\n",
    "# Retrieves tiles from maps.stamen.com. Styles include terrain-background, terrain, toner and watercolor.\n",
    "imagery = StadiaStamen('toner')"
   ]
  },
  {
   "cell_type": "markdown",
   "metadata": {},
   "source": [
    "Documentation: https://stadiamaps.com/stamen/onboarding/migrate\n",
    "\n",
    "* https://tiles.stadiamaps.com/tiles/stamen_toner/{z}/{x}/{y}{r}.png?api_key=\n",
    "* https://tiles.stadiamaps.com/tiles/stamen_toner_lite/{z}/{x}/{y}{r}.png?api_key=\n",
    "* https://tiles.stadiamaps.com/tiles/stamen_terrain/{z}/{x}/{y}{r}.jpg?api_key=\n",
    "* https://tiles.stadiamaps.com/tiles/stamen_watercolor/{z}/{x}/{y}.jpg?api_key=\n",
    "\n",
    "Note: if you're using a library that doesn't support {r} (e.g., MapLibre), replace {r} with @2x or drop the placeholder to use standard 256x256 px tiles.\n",
    "\n",
    "Attribution: \n",
    "&copy; <a href=\"https://stadiamaps.com/\" target=\"_blank\">Stadia Maps</a>\n",
    "&copy; <a href=\"https://www.stamen.com/\" target=\"_blank\">Stamen Design</a>\n",
    "&copy; <a href=\"https://openmaptiles.org/\" target=\"_blank\">OpenMapTiles</a>\n",
    "&copy; <a href=\"https://www.openstreetmap.org/copyright/\" target=\"_blank\">OpenStreetMap</a>"
   ]
  },
  {
   "cell_type": "code",
   "execution_count": 3,
   "metadata": {},
   "outputs": [],
   "source": [
    "# East Speer\n",
    "\n",
    "# frame_directory = 'videos/speer'\n",
    "# paste_center = [39.726591, -104.986417]\n",
    "# miles_vertical = 0.9\n",
    "# zoom_level = 16"
   ]
  },
  {
   "cell_type": "code",
   "execution_count": 4,
   "metadata": {},
   "outputs": [],
   "source": [
    "# Westwood\n",
    "\n",
    "# frame_directory = 'videos/kentucky'\n",
    "# paste_center = [39.70039857002305, -105.03918676552246]\n",
    "# miles_vertical = 1.7\n",
    "# zoom_level = 15"
   ]
  },
  {
   "cell_type": "code",
   "execution_count": 5,
   "metadata": {},
   "outputs": [],
   "source": [
    "# Downtown - Broadway / 20th St / California\n",
    "\n",
    "# frame_directory = 'videos/downtown'\n",
    "# paste_center = [39.74891627011233, -104.98736403434121]\n",
    "# miles_vertical = 1.2\n",
    "# zoom_level = 16"
   ]
  },
  {
   "cell_type": "code",
   "execution_count": 6,
   "metadata": {},
   "outputs": [],
   "source": [
    "# CDOT HQ\n",
    "\n",
    "# frame_directory = 'videos/cdot'\n",
    "# paste_center = [39.738465044125576, -105.02321500866896]\n",
    "# miles_vertical = 0.5\n",
    "# zoom_level = 17"
   ]
  },
  {
   "cell_type": "code",
   "execution_count": 7,
   "metadata": {},
   "outputs": [],
   "source": [
    "# Federal, between 20th and 50th avenues\n",
    "\n",
    "frame_directory = 'videos/federal'\n",
    "paste_center = [39.76559481781074, -105.02526809191475]\n",
    "miles_vertical = 3.5\n",
    "zoom_level = 15"
   ]
  },
  {
   "cell_type": "code",
   "execution_count": 8,
   "metadata": {},
   "outputs": [],
   "source": [
    "mrct = cda.most_recent_crash_timestamp()\n",
    "\n",
    "date_first = pytz.timezone('America/Denver').localize(datetime(2023, 1, 1))\n",
    "\n",
    "date_last = pytz.timezone('America/Denver').localize(datetime(2024, 1, 1))\n",
    "# date_last = mrct + timedelta(days=28)\n",
    "\n",
    "video_date_range = pd.date_range(date_first, date_last, freq='d')"
   ]
  },
  {
   "cell_type": "code",
   "execution_count": 9,
   "metadata": {},
   "outputs": [],
   "source": [
    "if not os.path.exists(frame_directory):\n",
    "    os.makedirs(frame_directory)"
   ]
  },
  {
   "cell_type": "code",
   "execution_count": 10,
   "metadata": {},
   "outputs": [],
   "source": [
    "d_vertical = geopy.distance.distance(miles=(miles_vertical)/2)\n",
    "\n",
    "# wide\n",
    "# d_horizontal = geopy.distance.distance(miles=(miles_vertical * 1.25)/2)\n",
    "\n",
    "# narrow for Federal\n",
    "d_horizontal = geopy.distance.distance(miles=(miles_vertical * 0.5)/2)\n",
    "\n",
    "center = geopy.Point(latitude=paste_center[0], longitude=paste_center[1])\n",
    "\n",
    "bounds = {}\n",
    "bounds['left'] = d_horizontal.destination(point=center, bearing=270).longitude\n",
    "bounds['top'] = d_vertical.destination(point=center, bearing=0).latitude\n",
    "bounds['right'] = d_horizontal.destination(point=center, bearing=90).longitude\n",
    "bounds['bottom'] = d_vertical.destination(point=center, bearing=180).latitude"
   ]
  },
  {
   "cell_type": "code",
   "execution_count": 11,
   "metadata": {},
   "outputs": [
    {
     "data": {
      "text/plain": [
       "Distance(1.408176)"
      ]
     },
     "execution_count": 11,
     "metadata": {},
     "output_type": "execute_result"
    }
   ],
   "source": [
    "d_horizontal"
   ]
  },
  {
   "cell_type": "code",
   "execution_count": 12,
   "metadata": {},
   "outputs": [
    {
     "data": {
      "text/plain": [
       "15.3125"
      ]
     },
     "execution_count": 12,
     "metadata": {},
     "output_type": "execute_result"
    }
   ],
   "source": [
    "square_miles = (miles_vertical * 1.25) * miles_vertical\n",
    "square_miles"
   ]
  },
  {
   "cell_type": "code",
   "execution_count": 13,
   "metadata": {},
   "outputs": [],
   "source": [
    "query = f\"\"\"\n",
    "select \n",
    "*\n",
    ", reported_date at time zone 'America/Denver' as reported_date_local\n",
    "\n",
    "from crashes\n",
    "\n",
    "where {bounds['left']} < geo_lon\n",
    "and geo_lon < {bounds['right']}\n",
    "and {bounds['bottom']} < geo_lat\n",
    "and geo_lat < {bounds['top']}\n",
    "\n",
    "and '{date_first}' <= reported_date at time zone 'America/Denver'\n",
    "and reported_date at time zone 'America/Denver' <= '{date_last}'\n",
    "\n",
    "order by reported_date\n",
    "\"\"\"\n",
    "\n",
    "df_in_bounds = pd.read_sql(query, cda.conn)"
   ]
  },
  {
   "cell_type": "code",
   "execution_count": 14,
   "metadata": {},
   "outputs": [
    {
     "name": "stdout",
     "output_type": "stream",
     "text": [
      "Stats about crash database: \n",
      "Number of crashes: 1,222\n",
      "Unique IDs: 1,222\n",
      "Min date: 2023-01-01 01:23:00\n",
      "Max date: 2023-12-31 23:21:00\n"
     ]
    }
   ],
   "source": [
    "print('Stats about crash database: ')\n",
    "print(f'Number of crashes: {len(df_in_bounds):,}')\n",
    "print(f'Unique IDs: {df_in_bounds.incident_id.nunique():,}')\n",
    "print(f'Min date: {df_in_bounds.reported_date_local.min()}')\n",
    "print(f'Max date: {df_in_bounds.reported_date_local.max()}')"
   ]
  },
  {
   "cell_type": "code",
   "execution_count": 15,
   "metadata": {},
   "outputs": [],
   "source": [
    "df_in_bounds['reported_date_local'] = df_in_bounds['reported_date_local'].dt.tz_localize(\n",
    "    'America/Denver', ambiguous='NaT'\n",
    ")"
   ]
  },
  {
   "cell_type": "code",
   "execution_count": 16,
   "metadata": {},
   "outputs": [
    {
     "data": {
      "text/plain": [
       "crashes             1222.0\n",
       "fatalities             5.0\n",
       "serious_injuries      21.0\n",
       "pedestrians           34.0\n",
       "bicycles              13.0\n",
       "dtype: float64"
      ]
     },
     "execution_count": 16,
     "metadata": {},
     "output_type": "execute_result"
    }
   ],
   "source": [
    "stats_by_date = df_in_bounds.groupby('crash_date').agg(\n",
    "    crashes=('incident_id', 'size')\n",
    "    , fatalities=('fatality', 'sum')\n",
    "    , serious_injuries=('sbi', 'sum')\n",
    "    , pedestrians=('pedestrian_ind', 'sum')\n",
    "    , bicycles=('bicycle_ind', 'sum')\n",
    ")\n",
    "\n",
    "# stats_by_date.to_clipboard()\n",
    "\n",
    "stats_by_date.sum()"
   ]
  },
  {
   "cell_type": "code",
   "execution_count": 17,
   "metadata": {},
   "outputs": [],
   "source": [
    "df_in_bounds['marker_shape'] = 'o' # circle\n",
    "df_in_bounds.loc[df_in_bounds.pedestrian_ind > 0, 'marker_shape'] = 'D' # diamond\n",
    "df_in_bounds.loc[df_in_bounds.bicycle_ind > 0, 'marker_shape'] = 's' # square\n",
    "\n",
    "# https://colorbrewer2.org/#type=diverging&scheme=RdYlBu&n=4\n",
    "# https://colorbrewer2.org/#type=qualitative&scheme=Dark2&n=3\n",
    "colors = {}\n",
    "colors['crashes'] = '#1b9e77' # green\n",
    "colors['serious_injuries'] = '#d95f02' # orange\n",
    "colors['fatalities'] = '#7570b3' # purple\n",
    "\n",
    "df_in_bounds['marker_color'] = colors['crashes']\n",
    "df_in_bounds.loc[df_in_bounds.sbi, 'marker_color'] = colors['serious_injuries']\n",
    "df_in_bounds.loc[df_in_bounds.fatality, 'marker_color'] = colors['fatalities']"
   ]
  },
  {
   "cell_type": "code",
   "execution_count": 18,
   "metadata": {},
   "outputs": [],
   "source": [
    "# # Save the base map\n",
    "# # todo: Stamen no longer supported\n",
    "# imagery = Stamen(style='toner-lite', cache=True)"
   ]
  },
  {
   "cell_type": "code",
   "execution_count": 19,
   "metadata": {},
   "outputs": [],
   "source": [
    "fig = plt.figure(figsize=[16,9])\n",
    "fig.subplots_adjust(left=0, bottom=0.05, right=0.7, top=0.95)\n",
    "\n",
    "ax = plt.axes(projection=imagery.crs)\n",
    "ax.add_image(imagery, zoom_level)\n",
    "ax.set_extent((bounds['left'], bounds['right'], bounds['bottom'], bounds['top']))\n",
    "\n",
    "# plt.savefig(f'{frame_directory}/base_map.png', facecolor='white')\n",
    "plt.close()"
   ]
  },
  {
   "cell_type": "code",
   "execution_count": 20,
   "metadata": {},
   "outputs": [],
   "source": [
    "def save_one_frame(df, map_date, bounds, zoom_level, frame_filename, colors):\n",
    "    \"\"\"\n",
    "    Save one frame of the video with crashes from that day and previous days\n",
    "    \n",
    "    df : DataFrame containing crashes (already limited to the bounds). If None, only base map is saved\n",
    "    map_date : date for the crashes that will be plotted\n",
    "    bounds : dict containing left (lon), right (lon), top (lat), and bottom (lat) bounds of the map\n",
    "    frame_filename : the filename where to save the frame PNG\n",
    "    colors : dict containing colors for 'crashes', 'serious_injuries', and 'fatalities'\n",
    "    \"\"\"\n",
    "\n",
    "    fig = plt.figure(figsize=[16,9])\n",
    "\n",
    "    fig.subplots_adjust(left=0, bottom=0.05, right=0.7, top=0.95)\n",
    "\n",
    "    ax = plt.axes(projection=imagery.crs)\n",
    "    ax.set_extent((bounds['left'], bounds['right'], bounds['bottom'], bounds['top']))\n",
    "    ax.add_image(imagery, zoom_level)\n",
    "    \n",
    "    if frame_directory == 'videos/cdot':\n",
    "        plt.gcf().text(\n",
    "            x=0.35\n",
    "            , y=0.53\n",
    "            , s='Colorado Department\\nof Transportation HQ'\n",
    "            , fontsize=14\n",
    "            , font='Menlo'\n",
    "            , color='white'\n",
    "            , backgroundcolor=TABLEAU_COLORS['tab:red']\n",
    "            , horizontalalignment='center'\n",
    "            , verticalalignment='center'\n",
    "        )\n",
    "    \n",
    "    \n",
    "    for days_back in range(27,-1,-1):\n",
    "        \n",
    "        rows_to_plot = df.crash_date == (map_date - timedelta(days=days_back)).strftime('%Y-%m-%d')\n",
    "\n",
    "        if rows_to_plot.sum() > 0:\n",
    "            for m in df[rows_to_plot]['marker_shape'].unique():\n",
    "                for c in df[rows_to_plot]['marker_color'].unique():\n",
    "                    \n",
    "                    # Make the crashes fade out sooner than the injuries and fatalities\n",
    "                    if c == colors['crashes']:\n",
    "                        fill_style='none'\n",
    "                        if days_back >= 14:\n",
    "                            alpha_value = 0\n",
    "                        elif days_back >= 7:\n",
    "                            alpha_value = 0.8 - (0.1 * (days_back - 6))\n",
    "                        else:\n",
    "                            alpha_value = 0.8\n",
    "\n",
    "                    else: # fatalities and serious injuries\n",
    "                        fill_style = 'full'\n",
    "                        if days_back >= 21:\n",
    "                            alpha_value = 0.8 - (0.1 * (days_back - 20))\n",
    "                        else:\n",
    "                            alpha_value = 0.8\n",
    "\n",
    "\n",
    "                    ax.plot(\n",
    "                        df.loc[\n",
    "                            (rows_to_plot) & (df['marker_shape'] == m) & (df['marker_color'] == c)\n",
    "                            , 'geo_lon'\n",
    "                            ].to_numpy()\n",
    "                        , df.loc[\n",
    "                            (rows_to_plot) & (df['marker_shape'] == m) & (df['marker_color'] == c)\n",
    "                            , 'geo_lat'\n",
    "                            ].to_numpy()\n",
    "                        , transform=ccrs.Geodetic()\n",
    "                        , marker=m\n",
    "                        , color=c\n",
    "                        , linestyle=''\n",
    "                        , markersize=(5*(days_back+1)) + 10\n",
    "                        , fillstyle=fill_style\n",
    "                        , markeredgewidth=6\n",
    "                        , alpha=alpha_value\n",
    "                    )\n",
    "\n",
    "\n",
    "    # Do counts of crashes up to map_date\n",
    "    counts = df[df.reported_date_local <= map_date].groupby('crash_date').agg(\n",
    "        crashes=('incident_id', 'size')\n",
    "        , fatalities=('fatality', 'sum')\n",
    "        , serious_injuries=('sbi', 'sum')\n",
    "        , pedestrians=('pedestrian_ind', 'sum')\n",
    "        , bicycles=('bicycle_ind', 'sum')\n",
    "    ).sum()    \n",
    "    \n",
    "    if map_date > mrct:\n",
    "        date_for_legend = mrct.strftime('%Y-%m-%d')\n",
    "    else:\n",
    "        date_for_legend = map_date.strftime('%Y-%m-%d')\n",
    "        \n",
    "    legend = [\n",
    "        ('Date: {}'.format(date_for_legend), 'black', 0.91)\n",
    "        , ('Car crashes:{: 6,.0f}'.format(counts['crashes']), colors['crashes'], 0.78)\n",
    "        , ('Crashes with a       \\nserious injury:{: 6,.0f}'.format(\n",
    "            counts['serious_injuries']), colors['serious_injuries'], 0.6175)\n",
    "        , ('Crashes with a       \\nfatality:{: 6,.0f}'.format(counts['fatalities']), colors['fatalities'], 0.455)\n",
    "        , (u\"\\n\\u25C7 Pedestrian       \\ninvolved:{: 6,.0f}\".format(counts['pedestrians']), 'black', 0.2925)\n",
    "        , (u\"\\n\\u25FB Bicycle       \\ninvolved:{: 6,.0f}\".format(counts['bicycles']), 'black', 0.13)\n",
    "    ]\n",
    "    \n",
    "    for idx, line in enumerate(legend):\n",
    "            \n",
    "        plt.gcf().text(\n",
    "            x=0.97\n",
    "            , y=line[2]\n",
    "            , s=line[0]\n",
    "            , fontsize=26\n",
    "            , horizontalalignment='right'\n",
    "            , verticalalignment='bottom'\n",
    "#             , family='monospace'\n",
    "            , font='Menlo'\n",
    "            , color=line[1]\n",
    "        )\n",
    "\n",
    "    plt.gcf().text(\n",
    "        x=0.97\n",
    "        , y=0.05\n",
    "        , s='Visualization by Devin Brady'\n",
    "        , fontsize=18\n",
    "        , horizontalalignment='right'\n",
    "#         , family='monospace'\n",
    "        , font='Menlo'\n",
    "        , color='black'\n",
    "    )\n",
    "\n",
    "    plt.savefig(frame_filename, facecolor='white')\n",
    "    plt.close()\n",
    "    \n",
    "    return legend"
   ]
  },
  {
   "cell_type": "code",
   "execution_count": 21,
   "metadata": {},
   "outputs": [],
   "source": [
    "# Save the initial map\n",
    "_ = save_one_frame(\n",
    "    pd.DataFrame(columns=df_in_bounds.columns)\n",
    "    , video_date_range[0]\n",
    "    , bounds\n",
    "    , zoom_level\n",
    "    , f'{frame_directory}/initial_map.png'\n",
    "    , colors\n",
    ")"
   ]
  },
  {
   "cell_type": "code",
   "execution_count": 22,
   "metadata": {},
   "outputs": [
    {
     "data": {
      "application/vnd.jupyter.widget-view+json": {
       "model_id": "534681364b034d70893dea892f341d6e",
       "version_major": 2,
       "version_minor": 0
      },
      "text/plain": [
       "Saving map frames:   0%|          | 0/366 [00:00<?, ?it/s]"
      ]
     },
     "metadata": {},
     "output_type": "display_data"
    }
   ],
   "source": [
    "for counter, d in enumerate(tqdm(video_date_range, 'Saving map frames')):\n",
    "\n",
    "    # only save the last image\n",
    "#     if counter < 364:\n",
    "#         continue\n",
    "    \n",
    "    legend = save_one_frame(df_in_bounds, d, bounds, zoom_level, f'{frame_directory}/frame_{counter:04d}.png', colors)\n"
   ]
  },
  {
   "cell_type": "markdown",
   "metadata": {},
   "source": [
    "## Terminal command "
   ]
  },
  {
   "cell_type": "code",
   "execution_count": 23,
   "metadata": {},
   "outputs": [
    {
     "name": "stdout",
     "output_type": "stream",
     "text": [
      "ffmpeg -framerate 12 -i videos/federal/frame_%4d.png -c:v h264 -r 30 -s 1920x1080 videos/federal/crashes.mp4\n"
     ]
    }
   ],
   "source": [
    "print(\n",
    "    f'ffmpeg -framerate 12 -i {frame_directory}/frame_%4d.png -c:v h264 -r 30 '\n",
    "    + f'-s 1920x1080 {frame_directory}/crashes.mp4'\n",
    ")"
   ]
  },
  {
   "cell_type": "code",
   "execution_count": 24,
   "metadata": {},
   "outputs": [],
   "source": [
    "# import numpy as np\n",
    "# np.linspace(0.75, 0.1, num=5)"
   ]
  },
  {
   "cell_type": "code",
   "execution_count": 25,
   "metadata": {
    "scrolled": true
   },
   "outputs": [],
   "source": [
    "# import matplotlib\n",
    "# matplotlib.font_manager.findSystemFonts(fontpaths=None, fontext='ttf') #[:10]"
   ]
  },
  {
   "cell_type": "code",
   "execution_count": 26,
   "metadata": {},
   "outputs": [
    {
     "name": "stdout",
     "output_type": "stream",
     "text": [
      "Date: 2024-01-01\n",
      "Car crashes: 1,221\n",
      "Crashes with a       \n",
      "serious injury:    21\n",
      "Crashes with a       \n",
      "fatality:     5\n",
      "\n",
      "◇ Pedestrian       \n",
      "involved:    34\n",
      "\n",
      "◻ Bicycle       \n",
      "involved:    13\n"
     ]
    }
   ],
   "source": [
    "for leg in legend:\n",
    "    print(leg[0])"
   ]
  },
  {
   "cell_type": "code",
   "execution_count": 27,
   "metadata": {},
   "outputs": [
    {
     "data": {
      "text/html": [
       "<div>\n",
       "<style scoped>\n",
       "    .dataframe tbody tr th:only-of-type {\n",
       "        vertical-align: middle;\n",
       "    }\n",
       "\n",
       "    .dataframe tbody tr th {\n",
       "        vertical-align: top;\n",
       "    }\n",
       "\n",
       "    .dataframe thead th {\n",
       "        text-align: right;\n",
       "    }\n",
       "</style>\n",
       "<table border=\"1\" class=\"dataframe\">\n",
       "  <thead>\n",
       "    <tr style=\"text-align: right;\">\n",
       "      <th></th>\n",
       "      <th>incident_id</th>\n",
       "      <th>top_traffic_accident_offense</th>\n",
       "      <th>reported_date</th>\n",
       "      <th>incident_address_corrected</th>\n",
       "      <th>at_freeway</th>\n",
       "      <th>geo_lon</th>\n",
       "      <th>geo_lat</th>\n",
       "      <th>neighborhood_id</th>\n",
       "      <th>bicycle_ind</th>\n",
       "      <th>pedestrian_ind</th>\n",
       "      <th>...</th>\n",
       "      <th>crash_date</th>\n",
       "      <th>crash_date_str</th>\n",
       "      <th>crash_time_str</th>\n",
       "      <th>crash_year</th>\n",
       "      <th>crash_day_of_year</th>\n",
       "      <th>geom</th>\n",
       "      <th>geom_denver</th>\n",
       "      <th>reported_date_local</th>\n",
       "      <th>marker_shape</th>\n",
       "      <th>marker_color</th>\n",
       "    </tr>\n",
       "  </thead>\n",
       "  <tbody>\n",
       "    <tr>\n",
       "      <th>132</th>\n",
       "      <td>202378997</td>\n",
       "      <td>TRAF - ACCIDENT - FATAL</td>\n",
       "      <td>2023-02-13 11:30:00+00:00</td>\n",
       "      <td>INTERSTATE 70 / N LOWELL BLVD</td>\n",
       "      <td>True</td>\n",
       "      <td>-105.034576</td>\n",
       "      <td>39.783449</td>\n",
       "      <td>Berkeley</td>\n",
       "      <td>0.0</td>\n",
       "      <td>1.0</td>\n",
       "      <td>...</td>\n",
       "      <td>2023-02-13</td>\n",
       "      <td>2023-02-13 Mon</td>\n",
       "      <td>Mon Feb 13, 4:30 AM</td>\n",
       "      <td>2023</td>\n",
       "      <td>44</td>\n",
       "      <td>0101000020E6100000701F5E7C36425AC0C9AB730C48E4...</td>\n",
       "      <td>0101000020AE0D000062291600DBE24741E7630D00FB19...</td>\n",
       "      <td>2023-02-13 04:30:00-07:00</td>\n",
       "      <td>D</td>\n",
       "      <td>#7570b3</td>\n",
       "    </tr>\n",
       "    <tr>\n",
       "      <th>551</th>\n",
       "      <td>2023316260</td>\n",
       "      <td>TRAF - ACCIDENT - FATAL</td>\n",
       "      <td>2023-06-15 07:22:00+00:00</td>\n",
       "      <td>2900 BLOCK W COLFAX AVE</td>\n",
       "      <td>False</td>\n",
       "      <td>-105.024140</td>\n",
       "      <td>39.740342</td>\n",
       "      <td>Sun Valley</td>\n",
       "      <td>0.0</td>\n",
       "      <td>1.0</td>\n",
       "      <td>...</td>\n",
       "      <td>2023-06-15</td>\n",
       "      <td>2023-06-15 Thu</td>\n",
       "      <td>Thu Jun 15, 1:22 AM</td>\n",
       "      <td>2023</td>\n",
       "      <td>166</td>\n",
       "      <td>0101000020E6100000AD2D02848B415AC0B43EC48AC3DE...</td>\n",
       "      <td>0101000020AE0D00005AADF97FBEE84741D534A3FFB3DC...</td>\n",
       "      <td>2023-06-15 01:22:00-06:00</td>\n",
       "      <td>D</td>\n",
       "      <td>#7570b3</td>\n",
       "    </tr>\n",
       "    <tr>\n",
       "      <th>701</th>\n",
       "      <td>2023419512</td>\n",
       "      <td>TRAF - ACCIDENT - FATAL</td>\n",
       "      <td>2023-08-05 05:22:00+00:00</td>\n",
       "      <td>W COLFAX AVE / N NEWTON ST</td>\n",
       "      <td>False</td>\n",
       "      <td>-105.036985</td>\n",
       "      <td>39.740344</td>\n",
       "      <td>West Colfax</td>\n",
       "      <td>0.0</td>\n",
       "      <td>0.0</td>\n",
       "      <td>...</td>\n",
       "      <td>2023-08-04</td>\n",
       "      <td>2023-08-04 Fri</td>\n",
       "      <td>Fri Aug 4, 11:22 PM</td>\n",
       "      <td>2023</td>\n",
       "      <td>216</td>\n",
       "      <td>0101000020E6100000EEF651F45D425AC0D7231E9AC3DE...</td>\n",
       "      <td>0101000020AE0D00008AA60480B0E14741AB311D00A2DC...</td>\n",
       "      <td>2023-08-04 23:22:00-06:00</td>\n",
       "      <td>o</td>\n",
       "      <td>#7570b3</td>\n",
       "    </tr>\n",
       "    <tr>\n",
       "      <th>862</th>\n",
       "      <td>2023495795</td>\n",
       "      <td>TRAF - ACCIDENT - FATAL</td>\n",
       "      <td>2023-09-14 07:17:00+00:00</td>\n",
       "      <td>W 44TH AVE / N FEDERAL BLVD</td>\n",
       "      <td>False</td>\n",
       "      <td>-105.025225</td>\n",
       "      <td>39.776642</td>\n",
       "      <td>Berkeley</td>\n",
       "      <td>0.0</td>\n",
       "      <td>0.0</td>\n",
       "      <td>...</td>\n",
       "      <td>2023-09-14</td>\n",
       "      <td>2023-09-14 Thu</td>\n",
       "      <td>Thu Sep 14, 1:17 AM</td>\n",
       "      <td>2023</td>\n",
       "      <td>257</td>\n",
       "      <td>0101000020E6100000621079479D415AC0DC1AC7FE68E3...</td>\n",
       "      <td>0101000020AE0D00000B9F148003E84741E207B4FF5810...</td>\n",
       "      <td>2023-09-14 01:17:00-06:00</td>\n",
       "      <td>o</td>\n",
       "      <td>#7570b3</td>\n",
       "    </tr>\n",
       "    <tr>\n",
       "      <th>1096</th>\n",
       "      <td>2023621288</td>\n",
       "      <td>TRAF - ACCIDENT - FATAL</td>\n",
       "      <td>2023-11-18 08:54:00.000001+00:00</td>\n",
       "      <td>N SPEER BLVD / N GROVE ST</td>\n",
       "      <td>False</td>\n",
       "      <td>-105.026852</td>\n",
       "      <td>39.761083</td>\n",
       "      <td>West Highland</td>\n",
       "      <td>0.0</td>\n",
       "      <td>0.0</td>\n",
       "      <td>...</td>\n",
       "      <td>2023-11-18</td>\n",
       "      <td>2023-11-18 Sat</td>\n",
       "      <td>Sat Nov 18, 1:54 AM</td>\n",
       "      <td>2023</td>\n",
       "      <td>322</td>\n",
       "      <td>0101000020E6100000F8CAD5F2B7415AC09A4C2E296BE1...</td>\n",
       "      <td>0101000020AE0D00002970F07F2DE7474180A0B1FF32FA...</td>\n",
       "      <td>2023-11-18 01:54:00.000001-07:00</td>\n",
       "      <td>o</td>\n",
       "      <td>#7570b3</td>\n",
       "    </tr>\n",
       "  </tbody>\n",
       "</table>\n",
       "<p>5 rows × 26 columns</p>\n",
       "</div>"
      ],
      "text/plain": [
       "      incident_id    top_traffic_accident_offense   \n",
       "132     202378997  TRAF - ACCIDENT - FATAL         \\\n",
       "551    2023316260  TRAF - ACCIDENT - FATAL          \n",
       "701    2023419512  TRAF - ACCIDENT - FATAL          \n",
       "862    2023495795  TRAF - ACCIDENT - FATAL          \n",
       "1096   2023621288  TRAF - ACCIDENT - FATAL          \n",
       "\n",
       "                        reported_date     incident_address_corrected   \n",
       "132         2023-02-13 11:30:00+00:00  INTERSTATE 70 / N LOWELL BLVD  \\\n",
       "551         2023-06-15 07:22:00+00:00        2900 BLOCK W COLFAX AVE   \n",
       "701         2023-08-05 05:22:00+00:00     W COLFAX AVE / N NEWTON ST   \n",
       "862         2023-09-14 07:17:00+00:00    W 44TH AVE / N FEDERAL BLVD   \n",
       "1096 2023-11-18 08:54:00.000001+00:00      N SPEER BLVD / N GROVE ST   \n",
       "\n",
       "      at_freeway     geo_lon    geo_lat neighborhood_id  bicycle_ind   \n",
       "132         True -105.034576  39.783449        Berkeley          0.0  \\\n",
       "551        False -105.024140  39.740342      Sun Valley          0.0   \n",
       "701        False -105.036985  39.740344     West Colfax          0.0   \n",
       "862        False -105.025225  39.776642        Berkeley          0.0   \n",
       "1096       False -105.026852  39.761083   West Highland          0.0   \n",
       "\n",
       "      pedestrian_ind  ...  crash_date  crash_date_str       crash_time_str   \n",
       "132              1.0  ...  2023-02-13  2023-02-13 Mon  Mon Feb 13, 4:30 AM  \\\n",
       "551              1.0  ...  2023-06-15  2023-06-15 Thu  Thu Jun 15, 1:22 AM   \n",
       "701              0.0  ...  2023-08-04  2023-08-04 Fri  Fri Aug 4, 11:22 PM   \n",
       "862              0.0  ...  2023-09-14  2023-09-14 Thu  Thu Sep 14, 1:17 AM   \n",
       "1096             0.0  ...  2023-11-18  2023-11-18 Sat  Sat Nov 18, 1:54 AM   \n",
       "\n",
       "      crash_year  crash_day_of_year   \n",
       "132         2023                 44  \\\n",
       "551         2023                166   \n",
       "701         2023                216   \n",
       "862         2023                257   \n",
       "1096        2023                322   \n",
       "\n",
       "                                                   geom   \n",
       "132   0101000020E6100000701F5E7C36425AC0C9AB730C48E4...  \\\n",
       "551   0101000020E6100000AD2D02848B415AC0B43EC48AC3DE...   \n",
       "701   0101000020E6100000EEF651F45D425AC0D7231E9AC3DE...   \n",
       "862   0101000020E6100000621079479D415AC0DC1AC7FE68E3...   \n",
       "1096  0101000020E6100000F8CAD5F2B7415AC09A4C2E296BE1...   \n",
       "\n",
       "                                            geom_denver   \n",
       "132   0101000020AE0D000062291600DBE24741E7630D00FB19...  \\\n",
       "551   0101000020AE0D00005AADF97FBEE84741D534A3FFB3DC...   \n",
       "701   0101000020AE0D00008AA60480B0E14741AB311D00A2DC...   \n",
       "862   0101000020AE0D00000B9F148003E84741E207B4FF5810...   \n",
       "1096  0101000020AE0D00002970F07F2DE7474180A0B1FF32FA...   \n",
       "\n",
       "                  reported_date_local marker_shape  marker_color  \n",
       "132         2023-02-13 04:30:00-07:00            D       #7570b3  \n",
       "551         2023-06-15 01:22:00-06:00            D       #7570b3  \n",
       "701         2023-08-04 23:22:00-06:00            o       #7570b3  \n",
       "862         2023-09-14 01:17:00-06:00            o       #7570b3  \n",
       "1096 2023-11-18 01:54:00.000001-07:00            o       #7570b3  \n",
       "\n",
       "[5 rows x 26 columns]"
      ]
     },
     "execution_count": 27,
     "metadata": {},
     "output_type": "execute_result"
    }
   ],
   "source": [
    "df_in_bounds[df_in_bounds.fatality]"
   ]
  },
  {
   "cell_type": "code",
   "execution_count": null,
   "metadata": {},
   "outputs": [],
   "source": []
  }
 ],
 "metadata": {
  "kernelspec": {
   "display_name": "Python 3 (ipykernel)",
   "language": "python",
   "name": "python3"
  },
  "language_info": {
   "codemirror_mode": {
    "name": "ipython",
    "version": 3
   },
   "file_extension": ".py",
   "mimetype": "text/x-python",
   "name": "python",
   "nbconvert_exporter": "python",
   "pygments_lexer": "ipython3",
   "version": "3.10.3"
  }
 },
 "nbformat": 4,
 "nbformat_minor": 2
}
