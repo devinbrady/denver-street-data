{
 "cells": [
  {
   "cell_type": "markdown",
   "id": "74535d5b",
   "metadata": {},
   "source": [
    "# Geocoder Testing"
   ]
  },
  {
   "cell_type": "code",
   "execution_count": 1,
   "id": "8774c930",
   "metadata": {},
   "outputs": [],
   "source": [
    "import geocoder"
   ]
  },
  {
   "cell_type": "code",
   "execution_count": 2,
   "id": "f777b854",
   "metadata": {},
   "outputs": [],
   "source": [
    "gc = geocoder.google('colorado department of transportation')\n",
    "gc"
   ]
  },
  {
   "cell_type": "code",
   "execution_count": 4,
   "id": "5eee3756",
   "metadata": {},
   "outputs": [
    {
     "data": {
      "text/plain": [
       "{'accuracy': 'APPROXIMATE',\n",
       " 'address': 'Colorado, USA',\n",
       " 'bbox': {'northeast': [41.0034439, -102.040878],\n",
       "  'southwest': [36.992424, -109.060256]},\n",
       " 'confidence': 1,\n",
       " 'country': 'US',\n",
       " 'lat': 39.5500507,\n",
       " 'lng': -105.7820674,\n",
       " 'ok': True,\n",
       " 'place': 'ChIJt1YYm3QUQIcR_6eQSTGDVMc',\n",
       " 'quality': 'administrative_area_level_1',\n",
       " 'raw': {'address_components': [{'long_name': 'Colorado',\n",
       "    'short_name': 'CO',\n",
       "    'types': ['administrative_area_level_1', 'political']},\n",
       "   {'long_name': 'United States',\n",
       "    'short_name': 'US',\n",
       "    'types': ['country', 'political']}],\n",
       "  'formatted_address': 'Colorado, USA',\n",
       "  'geometry': {'bounds': {'northeast': {'lat': 41.0034439, 'lng': -102.040878},\n",
       "    'southwest': {'lat': 36.992424, 'lng': -109.060256}},\n",
       "   'location': {'lat': 39.5500507, 'lng': -105.7820674},\n",
       "   'location_type': 'APPROXIMATE',\n",
       "   'viewport': {'northeast': {'lat': 41.0034439, 'lng': -102.040878},\n",
       "    'southwest': {'lat': 36.992424, 'lng': -109.060256}}},\n",
       "  'partial_match': True,\n",
       "  'place_id': 'ChIJt1YYm3QUQIcR_6eQSTGDVMc',\n",
       "  'types': ['administrative_area_level_1', 'political'],\n",
       "  'administrative_area_level_1': {'long_name': 'Colorado', 'short_name': 'CO'},\n",
       "  'political': {'long_name': 'United States', 'short_name': 'US'},\n",
       "  'country': {'long_name': 'United States', 'short_name': 'US'}},\n",
       " 'state': 'CO',\n",
       " 'status': 'OK'}"
      ]
     },
     "execution_count": 4,
     "metadata": {},
     "output_type": "execute_result"
    }
   ],
   "source": [
    "gc.json"
   ]
  },
  {
   "cell_type": "code",
   "execution_count": 5,
   "id": "c12682be",
   "metadata": {},
   "outputs": [
    {
     "data": {
      "text/plain": [
       "[39.5500507, -105.7820674]"
      ]
     },
     "execution_count": 5,
     "metadata": {},
     "output_type": "execute_result"
    }
   ],
   "source": [
    "gc.latlng"
   ]
  },
  {
   "cell_type": "code",
   "execution_count": null,
   "id": "c9aadadd",
   "metadata": {},
   "outputs": [],
   "source": []
  }
 ],
 "metadata": {
  "kernelspec": {
   "display_name": "Python 3 (ipykernel)",
   "language": "python",
   "name": "python3"
  },
  "language_info": {
   "codemirror_mode": {
    "name": "ipython",
    "version": 3
   },
   "file_extension": ".py",
   "mimetype": "text/x-python",
   "name": "python",
   "nbconvert_exporter": "python",
   "pygments_lexer": "ipython3",
   "version": "3.10.3"
  }
 },
 "nbformat": 4,
 "nbformat_minor": 5
}
