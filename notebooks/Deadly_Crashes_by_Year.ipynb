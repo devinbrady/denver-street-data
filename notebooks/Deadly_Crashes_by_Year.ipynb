{
 "cells": [
  {
   "cell_type": "markdown",
   "metadata": {},
   "source": [
    "Make a chart showing the running total of fatality crashes by year. "
   ]
  },
  {
   "cell_type": "code",
   "execution_count": 1,
   "metadata": {},
   "outputs": [],
   "source": [
    "import warnings\n",
    "# warnings.filterwarnings('ignore')\n",
    "import numpy as np\n",
    "import pandas as pd\n",
    "\n",
    "import matplotlib.pyplot as plt\n",
    "import matplotlib.transforms as mtransforms\n",
    "import matplotlib.ticker as mtick\n",
    "from matplotlib._color_data import TABLEAU_COLORS\n",
    "from matplotlib import rc\n",
    "rc('font',**{'family':'sans-serif','sans-serif':['Helvetica']})\n",
    "\n",
    "from datetime import datetime, timedelta\n",
    "import pytz\n",
    "\n",
    "import inflect\n",
    "p = inflect.engine()\n",
    "\n",
    "pd.set_option('display.max_rows', 100)\n",
    "\n",
    "import os\n",
    "os.chdir('..')\n",
    "from scripts.crash_data_analysis import CrashDataAnalysis"
   ]
  },
  {
   "cell_type": "code",
   "execution_count": 2,
   "metadata": {},
   "outputs": [],
   "source": [
    "cda = CrashDataAnalysis()"
   ]
  },
  {
   "cell_type": "code",
   "execution_count": 3,
   "metadata": {},
   "outputs": [],
   "source": [
    "# Aggregate fatality crashes by year and day of year\n",
    "\n",
    "query = \"\"\"\n",
    "select\n",
    "crash_date\n",
    ", crash_year\n",
    ", crash_day_of_year\n",
    ", count(*) as num_crashes\n",
    ", sum(fatality::int) as deadly_crashes\n",
    ", sum(case when pedestrian_ind > 0 then 1 else 0 end) as pedestrian_involved_crash\n",
    ", sum(case when bicycle_ind > 0 then 1 else 0 end) as bicycle_involved_crash\n",
    ", sum(case when fatality and pedestrian_ind > 0 then 1 else 0 end) as pedestrian_involved_fatality\n",
    ", sum(case when fatality and bicycle_ind > 0 then 1 else 0 end) as bicycle_involved_fatality\n",
    "\n",
    "from crashes\n",
    "\n",
    "-- where crash_date < '2024-01-01'\n",
    "\n",
    "group by 1,2,3 order by 1\n",
    "\"\"\"\n",
    "\n",
    "crashes_by_day_of_year_long = pd.read_sql(query, cda.conn)"
   ]
  },
  {
   "cell_type": "code",
   "execution_count": 4,
   "metadata": {},
   "outputs": [],
   "source": [
    "# max_crash_timestamp = cda.most_recent_crash_timestamp() # actual most recent crash in database\n",
    "max_crash_timestamp = pd.to_datetime(crashes_by_day_of_year_long.crash_date).max() # most recent date from query\n",
    "\n",
    "max_day_of_year = max_crash_timestamp.day_of_year\n",
    "this_year = max_crash_timestamp.year\n",
    "\n",
    "deadly_crashes_this_year = crashes_by_day_of_year_long.loc[\n",
    "    crashes_by_day_of_year_long.crash_year == this_year, 'deadly_crashes'\n",
    "].sum()\n",
    "\n",
    "num_crashes = pd.read_sql('select count(*) from crashes', cda.conn).iloc[0].values[0]"
   ]
  },
  {
   "cell_type": "code",
   "execution_count": 5,
   "metadata": {},
   "outputs": [
    {
     "name": "stdout",
     "output_type": "stream",
     "text": [
      "Most recent crash (deadly or not) in database:\n",
      "    Sun Jan 7, 12:00 AM Mountain\n",
      "Crashes in database: 242,388\n",
      "Deadly crashes this year: 2\n"
     ]
    }
   ],
   "source": [
    "print(\n",
    "    f\"\"\"Most recent crash (deadly or not) in database:\n",
    "    {max_crash_timestamp.strftime('%a %b %-d, %-I:%M %p')} Mountain\"\"\"\n",
    ")\n",
    "print(f'Crashes in database: {num_crashes:,}')\n",
    "print(f'Deadly crashes this year: {deadly_crashes_this_year}')"
   ]
  },
  {
   "cell_type": "code",
   "execution_count": 6,
   "metadata": {},
   "outputs": [
    {
     "name": "stdout",
     "output_type": "stream",
     "text": [
      "\n",
      "Source: City and County of Denver \"Traffic Accidents\" dataset, updated Jan 7, 2024\n",
      "Chart by Devin Brady\n",
      "\n"
     ]
    }
   ],
   "source": [
    "citation = f\"\"\"\n",
    "Source: City and County of Denver \"Traffic Accidents\" dataset, updated {max_crash_timestamp.strftime('%b %-d, %Y')}\n",
    "Chart by Devin Brady\n",
    "\"\"\"\n",
    "\n",
    "print(citation)"
   ]
  },
  {
   "cell_type": "code",
   "execution_count": 7,
   "metadata": {},
   "outputs": [],
   "source": [
    "# Aggregate fatality crashes by year and day of year\n",
    "\n",
    "crashes_by_day_of_year = pd.pivot_table(\n",
    "    data=crashes_by_day_of_year_long\n",
    "    # , values='num_crashes'\n",
    "    , values='deadly_crashes'\n",
    "#     , values='pedestrian_involved_fatality'\n",
    "    # , values='bicycle_involved_fatality'\n",
    "#     , values='bicycle_involved_crash'\n",
    "    , index='crash_day_of_year'\n",
    "    , columns='crash_year'\n",
    "    , aggfunc='sum'\n",
    "    , fill_value=0\n",
    "    )"
   ]
  },
  {
   "cell_type": "code",
   "execution_count": 8,
   "metadata": {},
   "outputs": [],
   "source": [
    "# Ensure that every day of the year has a row in crashes_by_day_of_year\n",
    "# If that row doesn't exist, fill it in with zeroes\n",
    "for i in range(1,367):\n",
    "    if not i in crashes_by_day_of_year.index:\n",
    "        crashes_by_day_of_year.loc[i] = 0"
   ]
  },
  {
   "cell_type": "code",
   "execution_count": 9,
   "metadata": {
    "scrolled": true
   },
   "outputs": [],
   "source": [
    "crashes_by_day_of_year = crashes_by_day_of_year.sort_index()\n",
    "\n",
    "# Mark the future dates of the current year as NULL so they don't show up on the graph\n",
    "crashes_by_day_of_year.loc[(max_day_of_year+1):366, this_year] = pd.NA\n",
    "\n",
    "running_total_crashes = crashes_by_day_of_year.cumsum()"
   ]
  },
  {
   "cell_type": "code",
   "execution_count": 10,
   "metadata": {},
   "outputs": [],
   "source": [
    "# Determine the number of days in each year. 365 normally, 366 for leap years\n",
    "\n",
    "years_in_data = sorted(crashes_by_day_of_year_long.crash_year.unique())\n",
    "days_in_year = pd.Series(index=years_in_data, dtype=int)\n",
    "\n",
    "for year in years_in_data:\n",
    "    \n",
    "    if year == this_year:\n",
    "        days_in_year.loc[year] = max_day_of_year\n",
    "\n",
    "    else:\n",
    "        days_in_year.loc[year] = pd.Timestamp(year, 12, 31).dayofyear\n",
    "\n",
    "# Series showing the total number of days in each year, for trendline chart\n",
    "total_days_in_year = days_in_year.copy()\n",
    "total_days_in_year.loc[this_year] = pd.Timestamp(this_year, 12, 31).dayofyear"
   ]
  },
  {
   "cell_type": "code",
   "execution_count": 11,
   "metadata": {},
   "outputs": [],
   "source": [
    "# Make DataFrame with info about every month\n",
    "\n",
    "first_of_month = pd.DataFrame({'month_int': range(1,13)})\n",
    "first_of_month['month_str'] = first_of_month.apply(\n",
    "    lambda row: pd.Timestamp(this_year, row.month_int, 1).strftime('%b'), axis=1)\n",
    "first_of_month['day_of_year'] = first_of_month.apply(\n",
    "    lambda row: pd.Timestamp(this_year, row.month_int, 1).day_of_year, axis=1)\n",
    "\n",
    "first_of_month['label'] = first_of_month['month_str'] + '\\n1'\n",
    "first_of_month.loc[12, 'month_int'] = 13\n",
    "first_of_month.loc[12, 'label'] = 'EOY'\n",
    "first_of_month.loc[12, 'day_of_year'] = 366"
   ]
  },
  {
   "cell_type": "code",
   "execution_count": 12,
   "metadata": {},
   "outputs": [],
   "source": [
    "fatality_crashes_by_year = crashes_by_day_of_year_long.groupby('crash_year').deadly_crashes.sum()"
   ]
  },
  {
   "cell_type": "code",
   "execution_count": 13,
   "metadata": {},
   "outputs": [],
   "source": [
    "fatality_crash_per_day = fatality_crashes_by_year / days_in_year\n",
    "\n",
    "projected_fatality_crashes_by_year = fatality_crashes_by_year.astype(float).copy()\n",
    "projected_fatality_crashes_by_year[this_year] = (\n",
    "    fatality_crash_per_day[this_year] * pd.Timestamp(this_year, 12, 31).dayofyear\n",
    ")"
   ]
  },
  {
   "cell_type": "code",
   "execution_count": 14,
   "metadata": {},
   "outputs": [
    {
     "data": {
      "image/png": "[encoded data removed]",
      "text/plain": [
       "<Figure size 720x504 with 1 Axes>"
      ]
     },
     "metadata": {
      "needs_background": "light"
     },
     "output_type": "display_data"
    }
   ],
   "source": [
    "# Make the running total chart\n",
    "fig, ax = plt.subplots(figsize=(10,7))\n",
    "\n",
    "max_x_value = 380\n",
    "plt.plot(range(0, max_x_value), [1] * max_x_value, alpha=0)\n",
    "\n",
    "year_colors = {\n",
    "    2020: 'tab:green'\n",
    "    , 2021: 'tab:blue'\n",
    "    , 2022: 'tab:orange'\n",
    "    , 2023: 'tab:red'\n",
    "    , 2024: 'black'\n",
    "}\n",
    "\n",
    "for year in years_in_data:\n",
    "    if year in year_colors.keys():\n",
    "        color = year_colors[year]\n",
    "    else:\n",
    "        color = 'lightgray'\n",
    "        \n",
    "    plt.plot(running_total_crashes[year], label=year, color=color)\n",
    "    \n",
    "    # trendline\n",
    "#     plt.plot(\n",
    "#         [0, total_days_in_year[year]]\n",
    "#         , [0, projected_fatality_crashes_by_year[year]]\n",
    "#         , color=color\n",
    "#         , linestyle=':'\n",
    "#     )\n",
    "    \n",
    "    if year == this_year:\n",
    "        annotation_x = max_day_of_year\n",
    "        annotation_y = max(running_total_crashes[year]) + 2\n",
    "    else:\n",
    "        annotation_x = max_x_value\n",
    "        annotation_y = max(running_total_crashes[year])\n",
    "\n",
    "    ax.annotate(\n",
    "        xy=(annotation_x, annotation_y)\n",
    "        , text=year\n",
    "        , color=color\n",
    "        , fontweight='bold'\n",
    "        , horizontalalignment='center'\n",
    "        , verticalalignment='center'\n",
    "    )\n",
    "\n",
    "    \n",
    "plt.xticks(ticks=first_of_month['day_of_year'], labels=first_of_month['label'])\n",
    "plt.grid(axis='x', linestyle=':')\n",
    "\n",
    "ax.annotate(xy=(0, -0.2), text=citation, xycoords='axes fraction', ha='left', va='center')\n",
    "plt.xlabel('Day of Year')\n",
    "plt.ylabel('Running Total of Deadly Crashes')\n",
    "plt.title('Deadly Crashes on Denver Streets by Year')\n",
    "_ = plt.savefig(\n",
    "    'images/deadly_crashes_running_total.png', transparent=False, facecolor='white', bbox_inches='tight')"
   ]
  },
  {
   "cell_type": "markdown",
   "metadata": {},
   "source": [
    "## Counts"
   ]
  },
  {
   "cell_type": "code",
   "execution_count": 15,
   "metadata": {},
   "outputs": [
    {
     "data": {
      "text/plain": [
       "crash_year\n",
       "2013    42\n",
       "2014    48\n",
       "2015    54\n",
       "2016    56\n",
       "2017    50\n",
       "2018    62\n",
       "2019    63\n",
       "2020    54\n",
       "2021    76\n",
       "2022    81\n",
       "2023    78\n",
       "2024     2\n",
       "Name: deadly_crashes, dtype: int64"
      ]
     },
     "execution_count": 15,
     "metadata": {},
     "output_type": "execute_result"
    }
   ],
   "source": [
    "fatality_crashes_by_year"
   ]
  },
  {
   "cell_type": "code",
   "execution_count": 16,
   "metadata": {},
   "outputs": [
    {
     "data": {
      "image/png": "[encoded data removed]",
      "text/plain": [
       "<Figure size 576x432 with 1 Axes>"
      ]
     },
     "metadata": {
      "needs_background": "light"
     },
     "output_type": "display_data"
    }
   ],
   "source": [
    "# Fatality crashes as of this day in the year\n",
    "fig, ax = plt.subplots(figsize=(8,6))\n",
    "\n",
    "crashes_at_this_point_in_year = running_total_crashes.loc[max_day_of_year].astype(int)\n",
    "ax.bar(\n",
    "    x=crashes_at_this_point_in_year.index\n",
    "    , height=crashes_at_this_point_in_year\n",
    "    , color=TABLEAU_COLORS['tab:green']\n",
    ")\n",
    "ax.set_xticks(crashes_at_this_point_in_year.index)\n",
    "\n",
    "transform_offset = mtransforms.offset_copy(ax.transData, fig=fig, x=0, y=-0.2, units='inches')\n",
    "\n",
    "for year in years_in_data:\n",
    "    plt.text(\n",
    "        x=year\n",
    "        , y=crashes_at_this_point_in_year[year]\n",
    "        , s=crashes_at_this_point_in_year[year]\n",
    "        , ha='center'\n",
    "        , va='center'\n",
    "        , color='white'\n",
    "        , fontsize=16\n",
    "        , fontweight='bold'\n",
    "        , transform=transform_offset\n",
    "    )\n",
    "\n",
    "date_string = max_crash_timestamp.strftime('%B ')\n",
    "date_string += p.ordinal(max_crash_timestamp.strftime('%-d'))\n",
    "\n",
    "plt.title(f\"Deadly crashes as of {date_string} in each year\")\n",
    "\n",
    "ax.annotate(xy=(0, -0.1), text=citation, xycoords='axes fraction', ha='left', va='center')\n",
    "\n",
    "plt.xlabel('')\n",
    "\n",
    "_ = plt.savefig(\n",
    "    'images/deadly_crashes_as_of_this_day_of_year.png', transparent=False, facecolor='white', bbox_inches='tight')"
   ]
  },
  {
   "cell_type": "code",
   "execution_count": 17,
   "metadata": {},
   "outputs": [
    {
     "data": {
      "text/plain": [
       "2013    8.690476\n",
       "2014    7.604167\n",
       "2015    6.759259\n",
       "2016    6.535714\n",
       "2017    7.300000\n",
       "2018    5.887097\n",
       "2019    5.793651\n",
       "2020    6.777778\n",
       "2021    4.802632\n",
       "2022    4.506173\n",
       "2023    4.679487\n",
       "2024    3.500000\n",
       "dtype: float64"
      ]
     },
     "execution_count": 17,
     "metadata": {},
     "output_type": "execute_result"
    }
   ],
   "source": [
    "days_per_fatality_crash = days_in_year / fatality_crashes_by_year\n",
    "days_per_fatality_crash"
   ]
  },
  {
   "cell_type": "code",
   "execution_count": 18,
   "metadata": {},
   "outputs": [
    {
     "data": {
      "image/png": "[encoded data removed]",
      "text/plain": [
       "<Figure size 576x432 with 1 Axes>"
      ]
     },
     "metadata": {
      "needs_background": "light"
     },
     "output_type": "display_data"
    }
   ],
   "source": [
    "# Fatality crashes per year, current year projected\n",
    "fig, ax = plt.subplots(figsize=(8,6))\n",
    "\n",
    "ax.bar(\n",
    "    x=this_year\n",
    "    , height=projected_fatality_crashes_by_year[this_year]\n",
    "    , hatch='///'\n",
    "    , fill=False\n",
    "    , edgecolor=TABLEAU_COLORS['tab:blue']\n",
    "    , label='Projected'\n",
    ")\n",
    "\n",
    "ax.bar(\n",
    "    x=fatality_crashes_by_year.index\n",
    "    , height=fatality_crashes_by_year\n",
    "    , color=TABLEAU_COLORS['tab:blue']\n",
    "    , label='Actual'\n",
    ")\n",
    "\n",
    "ax.set_xticks(fatality_crashes_by_year.index)\n",
    "\n",
    "transform_offset = mtransforms.offset_copy(ax.transData, fig=fig, x=0, y=-0.2, units='inches')\n",
    "transform_offset_proj = mtransforms.offset_copy(ax.transData, fig=fig, x=0, y=0.15, units='inches')\n",
    "\n",
    "for year in years_in_data:\n",
    "    plt.text(\n",
    "        x=year\n",
    "        , y=fatality_crashes_by_year[year]\n",
    "        , s=fatality_crashes_by_year[year]\n",
    "        , ha='center'\n",
    "        , va='center'\n",
    "        , color='white'\n",
    "        , fontsize=16\n",
    "        , fontweight='bold'\n",
    "        , transform=transform_offset\n",
    "    )\n",
    "\n",
    "    if year == this_year:\n",
    "        plt.text(\n",
    "            x=year\n",
    "            , y=projected_fatality_crashes_by_year[year]\n",
    "            , s='{:.1f}'.format(projected_fatality_crashes_by_year[year])\n",
    "            , ha='center'\n",
    "            , va='center'\n",
    "            , color=TABLEAU_COLORS['tab:blue']\n",
    "            , fontsize=16\n",
    "            , fontweight='bold'\n",
    "            , transform=transform_offset_proj\n",
    "        )\n",
    "\n",
    "plt.ylim([0, max(fatality_crashes_by_year.max(), projected_fatality_crashes_by_year[this_year]) + 10])\n",
    "# ax.tick_params(axis='x' ,direction='in', pad=-50, rotation=90, colors='white', labelsize=16)\n",
    "# ax.xaxis.label.set_color('white')\n",
    "# ax.tick_params(axis='x', rotation=90)\n",
    "plt.title('Deadly crashes in Denver by year')\n",
    "\n",
    "ax.annotate(xy=(0, -0.1), text=citation, xycoords='axes fraction', ha='left', va='center')\n",
    "\n",
    "handles, labels = plt.gca().get_legend_handles_labels()\n",
    "order = [1,0]\n",
    "plt.legend([handles[idx] for idx in order],[labels[idx] for idx in order], loc='upper left')\n",
    "\n",
    "_ = plt.savefig('images/deadly_crashes_barplot.png', transparent=False, facecolor='white', bbox_inches='tight')"
   ]
  },
  {
   "cell_type": "markdown",
   "metadata": {},
   "source": [
    "## Deadly crashes as a percentage of all crashes\n",
    "\n",
    "Is there deviation between these two metrics?"
   ]
  },
  {
   "cell_type": "code",
   "execution_count": 19,
   "metadata": {},
   "outputs": [],
   "source": [
    "query = \"\"\"\n",
    "select\n",
    "to_char(reported_date, 'YYYY-MM') as year_month\n",
    ", count(*) as crashes\n",
    ", sum(fatality::int) as deadly_crashes\n",
    "\n",
    "from crashes\n",
    "\n",
    "group by 1\n",
    "order by 1\n",
    "\"\"\"\n",
    "\n",
    "monthly_crash_rate = pd.read_sql(query, cda.conn)"
   ]
  },
  {
   "cell_type": "code",
   "execution_count": 20,
   "metadata": {},
   "outputs": [],
   "source": [
    "monthly_crash_rate['crashes_per_deadly_crash'] = monthly_crash_rate['crashes'] / monthly_crash_rate['deadly_crashes']\n",
    "monthly_crash_rate['deadly_crash_perc'] = monthly_crash_rate['deadly_crashes'] / monthly_crash_rate['crashes']"
   ]
  },
  {
   "cell_type": "code",
   "execution_count": 21,
   "metadata": {},
   "outputs": [
    {
     "data": {
      "image/png": "[encoded data removed]",
      "text/plain": [
       "<Figure size 1152x432 with 1 Axes>"
      ]
     },
     "metadata": {
      "needs_background": "light"
     },
     "output_type": "display_data"
    }
   ],
   "source": [
    "fig, ax = plt.subplots(figsize=(16,6))\n",
    "\n",
    "# data_to_plot = monthly_crash_rate.copy()\n",
    "data_to_plot = monthly_crash_rate.tail(24).copy()\n",
    "\n",
    "ax.bar(\n",
    "    x=data_to_plot['year_month']\n",
    "    , height=data_to_plot['deadly_crash_perc']\n",
    "    , color=TABLEAU_COLORS['tab:red']\n",
    ")\n",
    "\n",
    "ax.plot(\n",
    "    [0, len(data_to_plot) - 1]\n",
    "    , 2 * [data_to_plot['deadly_crash_perc'].median()]\n",
    "    , color='black'\n",
    "    , linestyle=':'\n",
    ")\n",
    "\n",
    "ax.tick_params(axis='x', rotation=70)\n",
    "\n",
    "n = 6  # Keep every Nth label\n",
    "[l.set_visible(False) for (i,l) in enumerate(ax.xaxis.get_ticklabels()) if i % n != 0]\n",
    "\n",
    "ax.yaxis.set_major_formatter(mtick.PercentFormatter(xmax=1))\n",
    "\n",
    "plt.ylabel('Percentage of crashes that involve a death')\n",
    "_ = plt.title('Deadly crashes as a percentage of all crashes by month')"
   ]
  },
  {
   "cell_type": "markdown",
   "metadata": {},
   "source": [
    "## Year Thresholds\n",
    "\n",
    "At what day in the current year are we matching the number of deadly crashes from previous years?"
   ]
  },
  {
   "cell_type": "code",
   "execution_count": 22,
   "metadata": {},
   "outputs": [
    {
     "data": {
      "text/html": [
       "<div>\n",
       "<style scoped>\n",
       "    .dataframe tbody tr th:only-of-type {\n",
       "        vertical-align: middle;\n",
       "    }\n",
       "\n",
       "    .dataframe tbody tr th {\n",
       "        vertical-align: top;\n",
       "    }\n",
       "\n",
       "    .dataframe thead th {\n",
       "        text-align: right;\n",
       "    }\n",
       "</style>\n",
       "<table border=\"1\" class=\"dataframe\">\n",
       "  <thead>\n",
       "    <tr style=\"text-align: right;\">\n",
       "      <th></th>\n",
       "      <th>deadly_crashes</th>\n",
       "      <th>date_surpassed_this_year</th>\n",
       "    </tr>\n",
       "    <tr>\n",
       "      <th>crash_year</th>\n",
       "      <th></th>\n",
       "      <th></th>\n",
       "    </tr>\n",
       "  </thead>\n",
       "  <tbody>\n",
       "    <tr>\n",
       "      <th>2013</th>\n",
       "      <td>42</td>\n",
       "      <td>None</td>\n",
       "    </tr>\n",
       "    <tr>\n",
       "      <th>2014</th>\n",
       "      <td>48</td>\n",
       "      <td>None</td>\n",
       "    </tr>\n",
       "    <tr>\n",
       "      <th>2015</th>\n",
       "      <td>54</td>\n",
       "      <td>None</td>\n",
       "    </tr>\n",
       "    <tr>\n",
       "      <th>2016</th>\n",
       "      <td>56</td>\n",
       "      <td>None</td>\n",
       "    </tr>\n",
       "    <tr>\n",
       "      <th>2017</th>\n",
       "      <td>50</td>\n",
       "      <td>None</td>\n",
       "    </tr>\n",
       "    <tr>\n",
       "      <th>2018</th>\n",
       "      <td>62</td>\n",
       "      <td>None</td>\n",
       "    </tr>\n",
       "    <tr>\n",
       "      <th>2019</th>\n",
       "      <td>63</td>\n",
       "      <td>None</td>\n",
       "    </tr>\n",
       "    <tr>\n",
       "      <th>2020</th>\n",
       "      <td>54</td>\n",
       "      <td>None</td>\n",
       "    </tr>\n",
       "    <tr>\n",
       "      <th>2021</th>\n",
       "      <td>76</td>\n",
       "      <td>None</td>\n",
       "    </tr>\n",
       "    <tr>\n",
       "      <th>2022</th>\n",
       "      <td>81</td>\n",
       "      <td>None</td>\n",
       "    </tr>\n",
       "    <tr>\n",
       "      <th>2023</th>\n",
       "      <td>78</td>\n",
       "      <td>None</td>\n",
       "    </tr>\n",
       "  </tbody>\n",
       "</table>\n",
       "</div>"
      ],
      "text/plain": [
       "            deadly_crashes date_surpassed_this_year\n",
       "crash_year                                         \n",
       "2013                    42                     None\n",
       "2014                    48                     None\n",
       "2015                    54                     None\n",
       "2016                    56                     None\n",
       "2017                    50                     None\n",
       "2018                    62                     None\n",
       "2019                    63                     None\n",
       "2020                    54                     None\n",
       "2021                    76                     None\n",
       "2022                    81                     None\n",
       "2023                    78                     None"
      ]
     },
     "execution_count": 22,
     "metadata": {},
     "output_type": "execute_result"
    }
   ],
   "source": [
    "date_surpassed = pd.DataFrame(fatality_crashes_by_year)\n",
    "date_surpassed.rename(columns={'fatality': 'deadly_crashes'}, inplace=True)\n",
    "date_surpassed['date_surpassed_this_year'] = None\n",
    "\n",
    "for year in date_surpassed.index:\n",
    "\n",
    "    if date_surpassed.loc[this_year, 'deadly_crashes'] > date_surpassed.loc[year, 'deadly_crashes']:        \n",
    "        day_of_year = int(\n",
    "            running_total_crashes[\n",
    "                running_total_crashes[this_year] > date_surpassed.loc[year, 'deadly_crashes']\n",
    "            ].index.min()\n",
    "        )\n",
    "        date_this_year = (datetime(this_year, 1, 1) + timedelta(day_of_year - 1)).strftime('%B %-d, %Y')\n",
    "        date_surpassed.loc[year, 'date_surpassed_this_year'] = date_this_year\n",
    "\n",
    "date_surpassed.drop(index=this_year, inplace=True)\n",
    "date_surpassed"
   ]
  },
  {
   "cell_type": "markdown",
   "metadata": {},
   "source": [
    "## Recent deadly crashes"
   ]
  },
  {
   "cell_type": "code",
   "execution_count": 23,
   "metadata": {},
   "outputs": [
    {
     "data": {
      "text/html": [
       "<div>\n",
       "<style scoped>\n",
       "    .dataframe tbody tr th:only-of-type {\n",
       "        vertical-align: middle;\n",
       "    }\n",
       "\n",
       "    .dataframe tbody tr th {\n",
       "        vertical-align: top;\n",
       "    }\n",
       "\n",
       "    .dataframe thead th {\n",
       "        text-align: right;\n",
       "    }\n",
       "</style>\n",
       "<table border=\"1\" class=\"dataframe\">\n",
       "  <thead>\n",
       "    <tr style=\"text-align: right;\">\n",
       "      <th></th>\n",
       "      <th>crash_time_str</th>\n",
       "      <th>pedestrian</th>\n",
       "      <th>bicycle</th>\n",
       "      <th>incident_address_corrected</th>\n",
       "      <th>neighborhood_id</th>\n",
       "    </tr>\n",
       "  </thead>\n",
       "  <tbody>\n",
       "    <tr>\n",
       "      <th>646</th>\n",
       "      <td>Sat Sep 30, 12:29 PM</td>\n",
       "      <td></td>\n",
       "      <td></td>\n",
       "      <td>E 49TH AVE / N RACE ST</td>\n",
       "      <td>Elyria Swansea</td>\n",
       "    </tr>\n",
       "    <tr>\n",
       "      <th>647</th>\n",
       "      <td>Sun Oct 1, 11:11 PM</td>\n",
       "      <td></td>\n",
       "      <td></td>\n",
       "      <td>5000 BLOCK E 6TH AVE</td>\n",
       "      <td>Hilltop</td>\n",
       "    </tr>\n",
       "    <tr>\n",
       "      <th>648</th>\n",
       "      <td>Tue Oct 3, 1:28 PM</td>\n",
       "      <td></td>\n",
       "      <td></td>\n",
       "      <td>400 S ZUNI ST</td>\n",
       "      <td>Athmar Park</td>\n",
       "    </tr>\n",
       "    <tr>\n",
       "      <th>649</th>\n",
       "      <td>Fri Oct 6, 8:43 PM</td>\n",
       "      <td>x</td>\n",
       "      <td></td>\n",
       "      <td>6800 BLOCK E YALE AVE</td>\n",
       "      <td>Hampden</td>\n",
       "    </tr>\n",
       "    <tr>\n",
       "      <th>650</th>\n",
       "      <td>Sun Oct 8, 7:52 PM</td>\n",
       "      <td></td>\n",
       "      <td></td>\n",
       "      <td>N YORK ST / E 23RD AVE</td>\n",
       "      <td>City Park West</td>\n",
       "    </tr>\n",
       "    <tr>\n",
       "      <th>651</th>\n",
       "      <td>Mon Oct 23, 1:39 AM</td>\n",
       "      <td></td>\n",
       "      <td></td>\n",
       "      <td>INTERSTATE 70 / N CENTRAL PARK BLVD</td>\n",
       "      <td>Central Park</td>\n",
       "    </tr>\n",
       "    <tr>\n",
       "      <th>652</th>\n",
       "      <td>Sat Nov 18, 1:54 AM</td>\n",
       "      <td></td>\n",
       "      <td></td>\n",
       "      <td>N SPEER BLVD / N GROVE ST</td>\n",
       "      <td>West Highland</td>\n",
       "    </tr>\n",
       "    <tr>\n",
       "      <th>653</th>\n",
       "      <td>Sun Nov 19, 4:22 AM</td>\n",
       "      <td>x</td>\n",
       "      <td></td>\n",
       "      <td>INTERSTATE 70 / INTERSTATE 225</td>\n",
       "      <td>Central Park</td>\n",
       "    </tr>\n",
       "    <tr>\n",
       "      <th>654</th>\n",
       "      <td>Sun Nov 19, 6:36 PM</td>\n",
       "      <td>x</td>\n",
       "      <td></td>\n",
       "      <td>N COLORADO BLVD / E 48TH AVE</td>\n",
       "      <td>Elyria Swansea</td>\n",
       "    </tr>\n",
       "    <tr>\n",
       "      <th>655</th>\n",
       "      <td>Sat Nov 25, 10:01 PM</td>\n",
       "      <td></td>\n",
       "      <td></td>\n",
       "      <td>1200 BLOCK N QUEBEC ST</td>\n",
       "      <td>East Colfax</td>\n",
       "    </tr>\n",
       "    <tr>\n",
       "      <th>656</th>\n",
       "      <td>Thu Nov 30, 12:28 PM</td>\n",
       "      <td>x</td>\n",
       "      <td></td>\n",
       "      <td>N FEDERAL BLVD / W 10TH AVE</td>\n",
       "      <td>Villa Park</td>\n",
       "    </tr>\n",
       "    <tr>\n",
       "      <th>657</th>\n",
       "      <td>Tue Dec 5, 6:15 PM</td>\n",
       "      <td>x</td>\n",
       "      <td></td>\n",
       "      <td>N HAVANA ST / E 47TH AVE</td>\n",
       "      <td>Montbello</td>\n",
       "    </tr>\n",
       "    <tr>\n",
       "      <th>658</th>\n",
       "      <td>Sun Dec 17, 7:11 PM</td>\n",
       "      <td></td>\n",
       "      <td></td>\n",
       "      <td>1800 BLOCK S SHERIDAN BLVD</td>\n",
       "      <td>Mar Lee</td>\n",
       "    </tr>\n",
       "    <tr>\n",
       "      <th>659</th>\n",
       "      <td>Tue Dec 26, 7:03 AM</td>\n",
       "      <td></td>\n",
       "      <td></td>\n",
       "      <td>4400 BLOCK E YALE AVE</td>\n",
       "      <td>University Hills</td>\n",
       "    </tr>\n",
       "    <tr>\n",
       "      <th>660</th>\n",
       "      <td>Tue Dec 26, 1:30 PM</td>\n",
       "      <td>x</td>\n",
       "      <td></td>\n",
       "      <td>S BIRCH ST / E EVANS AVE</td>\n",
       "      <td>University Hills</td>\n",
       "    </tr>\n",
       "    <tr>\n",
       "      <th>661</th>\n",
       "      <td>Fri Dec 29, 4:39 PM</td>\n",
       "      <td></td>\n",
       "      <td></td>\n",
       "      <td>INTERSTATE 225 / S YOSEMITE ST</td>\n",
       "      <td>Hampden South</td>\n",
       "    </tr>\n",
       "    <tr>\n",
       "      <th>662</th>\n",
       "      <td>Fri Dec 29, 4:39 PM</td>\n",
       "      <td></td>\n",
       "      <td></td>\n",
       "      <td>INTERSTATE 225 / S YOSEMITE ST</td>\n",
       "      <td>Hampden South</td>\n",
       "    </tr>\n",
       "    <tr>\n",
       "      <th>663</th>\n",
       "      <td>Sat Dec 30, 7:48 PM</td>\n",
       "      <td>x</td>\n",
       "      <td></td>\n",
       "      <td>E 56TH AVE / N DUNKIRK ST</td>\n",
       "      <td>Gateway - Green Valley Ranch</td>\n",
       "    </tr>\n",
       "    <tr>\n",
       "      <th>664</th>\n",
       "      <td>Mon Jan 1, 4:51 AM</td>\n",
       "      <td></td>\n",
       "      <td></td>\n",
       "      <td>N CHAMBERS RD / E 53RD AVE</td>\n",
       "      <td>Montbello</td>\n",
       "    </tr>\n",
       "    <tr>\n",
       "      <th>665</th>\n",
       "      <td>Thu Jan 4, 5:44 PM</td>\n",
       "      <td>x</td>\n",
       "      <td></td>\n",
       "      <td>N COLORADO BLVD / E 48TH AVE</td>\n",
       "      <td>Elyria Swansea</td>\n",
       "    </tr>\n",
       "  </tbody>\n",
       "</table>\n",
       "</div>"
      ],
      "text/plain": [
       "           crash_time_str pedestrian bicycle   \n",
       "646  Sat Sep 30, 12:29 PM                     \\\n",
       "647   Sun Oct 1, 11:11 PM                      \n",
       "648    Tue Oct 3, 1:28 PM                      \n",
       "649    Fri Oct 6, 8:43 PM          x           \n",
       "650    Sun Oct 8, 7:52 PM                      \n",
       "651   Mon Oct 23, 1:39 AM                      \n",
       "652   Sat Nov 18, 1:54 AM                      \n",
       "653   Sun Nov 19, 4:22 AM          x           \n",
       "654   Sun Nov 19, 6:36 PM          x           \n",
       "655  Sat Nov 25, 10:01 PM                      \n",
       "656  Thu Nov 30, 12:28 PM          x           \n",
       "657    Tue Dec 5, 6:15 PM          x           \n",
       "658   Sun Dec 17, 7:11 PM                      \n",
       "659   Tue Dec 26, 7:03 AM                      \n",
       "660   Tue Dec 26, 1:30 PM          x           \n",
       "661   Fri Dec 29, 4:39 PM                      \n",
       "662   Fri Dec 29, 4:39 PM                      \n",
       "663   Sat Dec 30, 7:48 PM          x           \n",
       "664    Mon Jan 1, 4:51 AM                      \n",
       "665    Thu Jan 4, 5:44 PM          x           \n",
       "\n",
       "              incident_address_corrected               neighborhood_id  \n",
       "646               E 49TH AVE / N RACE ST                Elyria Swansea  \n",
       "647                 5000 BLOCK E 6TH AVE                       Hilltop  \n",
       "648                        400 S ZUNI ST                   Athmar Park  \n",
       "649                6800 BLOCK E YALE AVE                       Hampden  \n",
       "650               N YORK ST / E 23RD AVE                City Park West  \n",
       "651  INTERSTATE 70 / N CENTRAL PARK BLVD                  Central Park  \n",
       "652            N SPEER BLVD / N GROVE ST                 West Highland  \n",
       "653       INTERSTATE 70 / INTERSTATE 225                  Central Park  \n",
       "654         N COLORADO BLVD / E 48TH AVE                Elyria Swansea  \n",
       "655               1200 BLOCK N QUEBEC ST                   East Colfax  \n",
       "656          N FEDERAL BLVD / W 10TH AVE                    Villa Park  \n",
       "657             N HAVANA ST / E 47TH AVE                     Montbello  \n",
       "658           1800 BLOCK S SHERIDAN BLVD                       Mar Lee  \n",
       "659                4400 BLOCK E YALE AVE              University Hills  \n",
       "660             S BIRCH ST / E EVANS AVE              University Hills  \n",
       "661       INTERSTATE 225 / S YOSEMITE ST                 Hampden South  \n",
       "662       INTERSTATE 225 / S YOSEMITE ST                 Hampden South  \n",
       "663            E 56TH AVE / N DUNKIRK ST  Gateway - Green Valley Ranch  \n",
       "664           N CHAMBERS RD / E 53RD AVE                     Montbello  \n",
       "665         N COLORADO BLVD / E 48TH AVE                Elyria Swansea  "
      ]
     },
     "execution_count": 23,
     "metadata": {},
     "output_type": "execute_result"
    }
   ],
   "source": [
    "f = cda.recent_deadly_crashes()\n",
    "f[['crash_time_str', 'pedestrian', 'bicycle', 'incident_address_corrected', 'neighborhood_id']].tail(20)"
   ]
  },
  {
   "cell_type": "markdown",
   "metadata": {},
   "source": [
    "## Alt text"
   ]
  },
  {
   "cell_type": "code",
   "execution_count": 24,
   "metadata": {},
   "outputs": [],
   "source": [
    "# print(\n",
    "#     'Line chart showing the running total for deadly crashes on Denver streets by year. '\n",
    "#     + f'The red line shows {this_year}, it is already above other years. '\n",
    "# )"
   ]
  },
  {
   "cell_type": "code",
   "execution_count": 25,
   "metadata": {},
   "outputs": [
    {
     "name": "stdout",
     "output_type": "stream",
     "text": [
      "Bar chart showing the total number of deadly crashes as of this date in the year in Denver. In 2024, there have already been 2 deadly crashes, 0 more than any previous year as of this date. \n"
     ]
    }
   ],
   "source": [
    "more_than_previous = deadly_crashes_this_year - max(\n",
    "    crashes_at_this_point_in_year.loc[crashes_at_this_point_in_year.index != this_year]\n",
    ")\n",
    "\n",
    "print(\n",
    "    'Bar chart showing the total number of deadly crashes as of this date in the year in Denver. '\n",
    "    + f'In {this_year}, there have already been {deadly_crashes_this_year} deadly crashes, '\n",
    "    + f'{more_than_previous} more than any previous year as of this date. '\n",
    ")"
   ]
  },
  {
   "cell_type": "code",
   "execution_count": 26,
   "metadata": {},
   "outputs": [
    {
     "name": "stdout",
     "output_type": "stream",
     "text": [
      "Bar chart showing the total number of deadly crashes by year in Denver. 2024 is projected to have 104.6 deadly crashes as of yesterday.\n"
     ]
    }
   ],
   "source": [
    "print(\n",
    "    f'Bar chart showing the total number of deadly crashes by year in Denver. {this_year} is projected to have ' \n",
    "    + f'{projected_fatality_crashes_by_year[this_year]:.1f} deadly crashes as of yesterday.'\n",
    "     )"
   ]
  },
  {
   "cell_type": "code",
   "execution_count": 27,
   "metadata": {},
   "outputs": [],
   "source": [
    "cda.conn.dispose()"
   ]
  },
  {
   "cell_type": "code",
   "execution_count": 28,
   "metadata": {},
   "outputs": [],
   "source": [
    "# query = \"\"\"\n",
    "#     select\n",
    "#     reported_date\n",
    "#     , incident_address\n",
    "#     , neighborhood_id\n",
    "#     , crash_time_str\n",
    "\n",
    "#     from crashes\n",
    "\n",
    "#     where fatality\n",
    "# \"\"\"\n",
    "\n",
    "# f = pd.read_sql(query, cda.conn)"
   ]
  },
  {
   "cell_type": "code",
   "execution_count": 29,
   "metadata": {},
   "outputs": [],
   "source": [
    "# f['reported_dt'] = pd.to_datetime(f['reported_date'])"
   ]
  },
  {
   "cell_type": "code",
   "execution_count": 30,
   "metadata": {},
   "outputs": [],
   "source": [
    "# f['days_between'] = (f['reported_date'] - f['reported_date'].shift(1)).dt.total_seconds() / 60 / 60 / 24"
   ]
  },
  {
   "cell_type": "code",
   "execution_count": 31,
   "metadata": {},
   "outputs": [],
   "source": [
    "# f['rdt'] = pd.to_datetime('1900-01-01')"
   ]
  },
  {
   "cell_type": "code",
   "execution_count": 32,
   "metadata": {},
   "outputs": [],
   "source": [
    "\n",
    "# for idx, row in f.iterrows():\n",
    "#     f.loc[idx, 'rdt'] = pd.to_datetime(row['reported_date'])"
   ]
  },
  {
   "cell_type": "code",
   "execution_count": 33,
   "metadata": {
    "scrolled": true
   },
   "outputs": [],
   "source": [
    "# f.info()"
   ]
  },
  {
   "cell_type": "code",
   "execution_count": 34,
   "metadata": {},
   "outputs": [],
   "source": [
    "# df = pd.read_csv('data/preprocessed_crash_data.csv')\n",
    "# df.reported_date.max()"
   ]
  },
  {
   "cell_type": "code",
   "execution_count": null,
   "metadata": {},
   "outputs": [],
   "source": []
  },
  {
   "cell_type": "code",
   "execution_count": null,
   "metadata": {},
   "outputs": [],
   "source": []
  }
 ],
 "metadata": {
  "kernelspec": {
   "display_name": "Python 3 (ipykernel)",
   "language": "python",
   "name": "python3"
  },
  "language_info": {
   "codemirror_mode": {
    "name": "ipython",
    "version": 3
   },
   "file_extension": ".py",
   "mimetype": "text/x-python",
   "name": "python",
   "nbconvert_exporter": "python",
   "pygments_lexer": "ipython3",
   "version": "3.10.3"
  }
 },
 "nbformat": 4,
 "nbformat_minor": 2
}
