{
 "cells": [
  {
   "cell_type": "markdown",
   "metadata": {},
   "source": [
    "Join the crash dataset to the street centerline dataset. "
   ]
  },
  {
   "cell_type": "code",
   "execution_count": 1,
   "metadata": {},
   "outputs": [],
   "source": [
    "import warnings\n",
    "warnings.filterwarnings('ignore')\n",
    "\n",
    "from tqdm import tqdm\n",
    "import numpy as np\n",
    "import pandas as pd\n",
    "import geopandas as gpd\n",
    "import matplotlib.pyplot as plt\n",
    "from scipy.interpolate import interp1d\n",
    "from shapely.geometry import Point, LineString\n",
    "\n",
    "pd.set_option('display.max_rows', 100)\n",
    "pd.set_option('max_colwidth', 200)"
   ]
  },
  {
   "cell_type": "code",
   "execution_count": 2,
   "metadata": {},
   "outputs": [],
   "source": [
    "denver_crs = 3502\n",
    "web_crs = 4326"
   ]
  },
  {
   "cell_type": "code",
   "execution_count": 3,
   "metadata": {},
   "outputs": [],
   "source": [
    "from crash_data_analysis import CrashDataAnalysis\n",
    "cda = CrashDataAnalysis()\n",
    "df = cda.crash_dataframe()"
   ]
  },
  {
   "cell_type": "code",
   "execution_count": 4,
   "metadata": {},
   "outputs": [],
   "source": [
    "df = df[df.geo_lon.notnull()].reset_index().copy()"
   ]
  },
  {
   "cell_type": "code",
   "execution_count": 5,
   "metadata": {},
   "outputs": [],
   "source": [
    "crashes = gpd.GeoDataFrame(\n",
    "    data=df\n",
    "    , geometry=gpd.points_from_xy(df['geo_lon'], df['geo_lat'])\n",
    "    , crs=web_crs\n",
    ")"
   ]
  },
  {
   "cell_type": "code",
   "execution_count": 6,
   "metadata": {},
   "outputs": [],
   "source": [
    "# crashes = crashes.tail(100).copy()\n",
    "# crashes = crashes[crashes.reported_date.dt.strftime('%Y-%m') == '2022-07']\n",
    "crashes = crashes[crashes.reported_date.dt.year == 2022]"
   ]
  },
  {
   "cell_type": "code",
   "execution_count": 7,
   "metadata": {},
   "outputs": [],
   "source": [
    "crashes[['street_a', 'street_b', 'street_c']] = crashes.incident_address.str.split('/', expand=True)\n",
    "crashes['street_a'] = crashes['street_a'].str.strip()\n",
    "crashes['street_b'] = crashes['street_b'].str.strip()\n",
    "crashes['street_c'] = crashes['street_c'].str.strip()"
   ]
  },
  {
   "cell_type": "code",
   "execution_count": 8,
   "metadata": {},
   "outputs": [],
   "source": [
    "crashes['link'] = crashes.apply(\n",
    "    lambda row: f'https://www.google.com/maps/search/?api=1&query={row.geo_lat},{row.geo_lon}', axis=1\n",
    ")"
   ]
  },
  {
   "cell_type": "code",
   "execution_count": 9,
   "metadata": {},
   "outputs": [],
   "source": [
    "centerlines = gpd.read_file('shapefiles/street_centerline/street_centerline.shp')"
   ]
  },
  {
   "cell_type": "code",
   "execution_count": 10,
   "metadata": {},
   "outputs": [],
   "source": [
    "centerlines = centerlines[centerlines['FULLNAME'] != 'PRIVATE RD'].reset_index().copy()"
   ]
  },
  {
   "cell_type": "code",
   "execution_count": 11,
   "metadata": {},
   "outputs": [],
   "source": [
    "centerlines = centerlines.to_crs(denver_crs)\n",
    "crashes = crashes.to_crs(denver_crs)"
   ]
  },
  {
   "cell_type": "code",
   "execution_count": 12,
   "metadata": {},
   "outputs": [],
   "source": [
    "offset = 35 # feet\n",
    "bbox = crashes.bounds + [-offset, -offset, offset, offset]"
   ]
  },
  {
   "cell_type": "code",
   "execution_count": 13,
   "metadata": {},
   "outputs": [],
   "source": [
    "hits = bbox.apply(lambda row: list(centerlines.sindex.intersection(row)), axis=1)"
   ]
  },
  {
   "cell_type": "code",
   "execution_count": 14,
   "metadata": {},
   "outputs": [
    {
     "name": "stderr",
     "output_type": "stream",
     "text": [
      "100%|██████████| 11103/11103 [00:59<00:00, 186.28it/s]\n"
     ]
    }
   ],
   "source": [
    "crashes_streets_list = []\n",
    "\n",
    "for crash_index, row in tqdm(hits.iteritems(), total=len(hits)):\n",
    "    for street_index in row:\n",
    "        new_row = [\n",
    "            crashes.loc[crash_index].incident_id\n",
    "            , centerlines.loc[street_index].MASTERID\n",
    "        ]\n",
    "        \n",
    "        crashes_streets_list += [new_row]\n",
    "\n",
    "crashes_streets = pd.DataFrame(crashes_streets_list, columns=['incident_id', 'MASTERID'])"
   ]
  },
  {
   "cell_type": "code",
   "execution_count": 15,
   "metadata": {},
   "outputs": [],
   "source": [
    "# for street in hits[212222]:\n",
    "#     print('{}: {} from {} to {}'.format(\n",
    "#         centerlines.loc[street].MASTERID\n",
    "#         , centerlines.loc[street].FULLNAME\n",
    "#         , centerlines.loc[street].FROMNAME\n",
    "#         , centerlines.loc[street].TONAME\n",
    "#     ))"
   ]
  },
  {
   "cell_type": "code",
   "execution_count": 16,
   "metadata": {},
   "outputs": [],
   "source": [
    "crashes_streets = pd.merge(crashes_streets, crashes, how='inner', on='incident_id')\n",
    "crashes_streets = pd.merge(crashes_streets, centerlines, how='inner', on='MASTERID')"
   ]
  },
  {
   "cell_type": "code",
   "execution_count": 17,
   "metadata": {},
   "outputs": [],
   "source": [
    "incident_mapping = {\n",
    "    'N BIGHTON BLVD': 'N BRIGHTON BLVD'\n",
    "    , 'I25 HWYNB': 'INTERSTATE 25'\n",
    "    , 'I25 HWYSB': 'INTERSTATE 25'\n",
    "    , 'I25HWY': 'INTERSTATE 25'\n",
    "    , 'I70 HWYWB': 'INTERSTATE 70'\n",
    "    , 'I70 HWYEB': 'INTERSTATE 70'\n",
    "    , 'I225 HWYNB': 'INTERSTATE 225'\n",
    "    , 'I225 HWYSB': 'INTERSTATE 225'\n",
    "    , 'W 6TH AVE': 'W 6TH AVENUE FWY'\n",
    "    , 'PARK AVEW': 'PARK AVE W'\n",
    "    , 'S MONACO ST': 'S MONACO STREET PKWY'\n",
    "    , 'N MONACO ST': 'N MONACO STREET PKWY'\n",
    "    , 'E MLK BLVD': 'E MARTIN LUTHER KING BLVD'\n",
    "    , 'E MARTIN LUTHER KING BLVD': 'E MARTIN LUTHER KING JR BLVD'\n",
    "    , 'E GVR BLVD': 'GREEN VALLEY RANCH BLVD'\n",
    "}\n",
    "crashes_streets['incident_address_corrected'] = crashes_streets.incident_address.replace(incident_mapping, regex=True)"
   ]
  },
  {
   "cell_type": "code",
   "execution_count": 18,
   "metadata": {},
   "outputs": [],
   "source": [
    "crashes_streets['street_named_in_crash'] = crashes_streets.apply(\n",
    "    lambda row: row.FULLNAME in row.incident_address_corrected, axis=1)"
   ]
  },
  {
   "cell_type": "code",
   "execution_count": 19,
   "metadata": {},
   "outputs": [],
   "source": [
    "freeways = [\n",
    "    'INTERSTATE 25'\n",
    "    , 'INTERSTATE 70'\n",
    "    , 'INTERSTATE 225'\n",
    "    , 'W 6TH AVENUE FWY'\n",
    "]\n",
    "crashes_streets['at_freeway'] = False\n",
    "\n",
    "for f in freeways:\n",
    "    crashes_streets.loc[crashes_streets.incident_address_corrected.str.contains(f), 'at_freeway'] = True"
   ]
  },
  {
   "cell_type": "code",
   "execution_count": 20,
   "metadata": {},
   "outputs": [],
   "source": [
    "bad_mapping = crashes_streets[~crashes_streets.street_named_in_crash][\n",
    "    ['incident_address_corrected', 'FULLNAME', 'link']\n",
    "]"
   ]
  },
  {
   "cell_type": "code",
   "execution_count": 21,
   "metadata": {},
   "outputs": [],
   "source": [
    "most_common = bad_mapping.groupby('FULLNAME').size().sort_values(ascending=False)\n",
    "# most_common.head(20)"
   ]
  },
  {
   "cell_type": "code",
   "execution_count": 22,
   "metadata": {},
   "outputs": [],
   "source": [
    "# bad_mapping[bad_mapping.FULLNAME == 'E MARTIN LUTHER KING JR BLVD']"
   ]
  },
  {
   "cell_type": "code",
   "execution_count": 23,
   "metadata": {},
   "outputs": [
    {
     "data": {
      "text/html": [
       "<div>\n",
       "<style scoped>\n",
       "    .dataframe tbody tr th:only-of-type {\n",
       "        vertical-align: middle;\n",
       "    }\n",
       "\n",
       "    .dataframe tbody tr th {\n",
       "        vertical-align: top;\n",
       "    }\n",
       "\n",
       "    .dataframe thead th {\n",
       "        text-align: right;\n",
       "    }\n",
       "</style>\n",
       "<table border=\"1\" class=\"dataframe\">\n",
       "  <thead>\n",
       "    <tr style=\"text-align: right;\">\n",
       "      <th>at_freeway</th>\n",
       "      <th>False</th>\n",
       "      <th>True</th>\n",
       "      <th>All</th>\n",
       "    </tr>\n",
       "    <tr>\n",
       "      <th>street_named_in_crash</th>\n",
       "      <th></th>\n",
       "      <th></th>\n",
       "      <th></th>\n",
       "    </tr>\n",
       "  </thead>\n",
       "  <tbody>\n",
       "    <tr>\n",
       "      <th>False</th>\n",
       "      <td>3440</td>\n",
       "      <td>1938</td>\n",
       "      <td>5378</td>\n",
       "    </tr>\n",
       "    <tr>\n",
       "      <th>True</th>\n",
       "      <td>23134</td>\n",
       "      <td>8407</td>\n",
       "      <td>31541</td>\n",
       "    </tr>\n",
       "    <tr>\n",
       "      <th>All</th>\n",
       "      <td>26574</td>\n",
       "      <td>10345</td>\n",
       "      <td>36919</td>\n",
       "    </tr>\n",
       "  </tbody>\n",
       "</table>\n",
       "</div>"
      ],
      "text/plain": [
       "at_freeway             False   True    All\n",
       "street_named_in_crash                     \n",
       "False                   3440   1938   5378\n",
       "True                   23134   8407  31541\n",
       "All                    26574  10345  36919"
      ]
     },
     "execution_count": 23,
     "metadata": {},
     "output_type": "execute_result"
    }
   ],
   "source": [
    "pd.pivot_table(\n",
    "    data=crashes_streets\n",
    "    , index='street_named_in_crash'\n",
    "    , columns='at_freeway'\n",
    "    , values='one'\n",
    "    , aggfunc=sum\n",
    "    , margins=True\n",
    ")"
   ]
  },
  {
   "cell_type": "code",
   "execution_count": 24,
   "metadata": {},
   "outputs": [],
   "source": [
    "crashes_streets.to_csv('crashes_streets.csv', index=False)"
   ]
  },
  {
   "cell_type": "markdown",
   "metadata": {},
   "source": [
    "## Measure Street Length from Crash Locations "
   ]
  },
  {
   "cell_type": "code",
   "execution_count": 25,
   "metadata": {},
   "outputs": [],
   "source": [
    "main_streets = [\n",
    "    '15TH ST', '20TH ST', 'E 13TH AVE', 'E 14TH AVE', 'E 16TH AVE', 'E 17TH AVE', 'E 18TH AVE'\n",
    "    , 'E 47TH AVE', 'E 56TH AVE', 'E 8TH AVE', 'E ALAMEDA AVE', 'E COLFAX AVE', 'E EVANS AVE'\n",
    "    , 'E HAMPDEN AVE', 'E MARTIN LUTHER KING BLVD', 'GREEN VALLEY RANCH BLVD', 'LEETSDALE DR'\n",
    "    , 'N BROADWAY', 'N CENTRAL PARK BLVD', 'N COLORADO BLVD', 'N DOWNING ST', 'N FEDERAL BLVD'\n",
    "    , 'N LINCOLN ST', 'N PEORIA ST', 'N QUEBEC ST', 'N SHERIDAN BLVD', 'N SPEER BLVD', 'N TOWER RD'\n",
    "    , 'N YORK ST', 'PARK AVE W', 'S COLORADO BLVD', 'S FEDERAL BLVD', 'S MONACO STREET PKWY'\n",
    "    , 'S QUEBEC ST', 'S SANTA FE DR', 'S UNIVERSITY BLVD', 'W ALAMEDA AVE', 'W COLFAX AVE'\n",
    "    ]"
   ]
  },
  {
   "cell_type": "code",
   "execution_count": 26,
   "metadata": {},
   "outputs": [],
   "source": [
    "crashes_on_main_streets = crashes_streets[crashes_streets.FULLNAME.isin(main_streets)].drop_duplicates(\n",
    "    subset=['geo_lon', 'geo_lat']\n",
    ")"
   ]
  },
  {
   "cell_type": "code",
   "execution_count": 27,
   "metadata": {},
   "outputs": [],
   "source": [
    "street_lengths = pd.DataFrame()\n",
    "street_lengths['geometry'] = None\n",
    "\n",
    "for street in main_streets:\n",
    "    data_to_plot = crashes_on_main_streets[crashes_streets.FULLNAME == street].copy()\n",
    "\n",
    "    lon_extent = data_to_plot.geo_lon.max() - data_to_plot.geo_lon.min()\n",
    "    lat_extent = data_to_plot.geo_lat.max() - data_to_plot.geo_lat.min()\n",
    "\n",
    "    # Linear interpretation seems to need an X and a Y value, and I think it would be different\n",
    "    # if it's a north-south street versus an east-west street\n",
    "    if lon_extent > lat_extent:\n",
    "        x_value = 'geo_lon'\n",
    "        y_value = 'geo_lat'\n",
    "    else:\n",
    "        x_value = 'geo_lat'\n",
    "        y_value = 'geo_lon'\n",
    "        \n",
    "    data_to_plot = data_to_plot.sort_values(by=x_value)\n",
    "    \n",
    "    fit_function = interp1d(\n",
    "        x=data_to_plot[x_value]\n",
    "        , y=data_to_plot[y_value]\n",
    "        , kind='linear'\n",
    "    )\n",
    "\n",
    "    xnew = np.arange(data_to_plot[x_value].min(), data_to_plot[x_value].max(), 0.001)\n",
    "    ynew = fit_function(xnew)\n",
    "    \n",
    "    if lon_extent > lat_extent:\n",
    "        xyList = [xy for xy in zip(xnew, ynew)]\n",
    "    else:\n",
    "        xyList = [xy for xy in zip(ynew, xnew)]\n",
    "\n",
    "    street_lengths.loc[street, 'geometry'] = LineString(xyList)"
   ]
  },
  {
   "cell_type": "code",
   "execution_count": 28,
   "metadata": {},
   "outputs": [],
   "source": [
    "street_lengths_gdf = gpd.GeoDataFrame(\n",
    "    street_lengths\n",
    "    , geometry=street_lengths['geometry']\n",
    "    , crs=web_crs\n",
    ")\n",
    "\n",
    "street_lengths_gdf = street_lengths_gdf.to_crs(denver_crs)\n",
    "street_lengths_gdf['length_miles'] = street_lengths_gdf.geometry.length / 5280"
   ]
  },
  {
   "cell_type": "code",
   "execution_count": 29,
   "metadata": {},
   "outputs": [],
   "source": [
    "street_lengths_gdf.to_file('street_lengths.geojson', driver='GeoJSON')"
   ]
  },
  {
   "cell_type": "code",
   "execution_count": 33,
   "metadata": {},
   "outputs": [
    {
     "data": {
      "text/plain": [
       "20TH ST                       1.384466\n",
       "15TH ST                       1.681067\n",
       "PARK AVE W                    1.733552\n",
       "LEETSDALE DR                  1.979670\n",
       "N PEORIA ST                   2.729205\n",
       "E 18TH AVE                    2.823291\n",
       "S SANTA FE DR                 3.234136\n",
       "N SPEER BLVD                  3.311649\n",
       "N DOWNING ST                  3.313165\n",
       "W COLFAX AVE                  3.383274\n",
       "W ALAMEDA AVE                 3.466204\n",
       "S COLORADO BLVD               3.589645\n",
       "E MARTIN LUTHER KING BLVD     3.683949\n",
       "GREEN VALLEY RANCH BLVD       3.750130\n",
       "N CENTRAL PARK BLVD           3.815138\n",
       "S FEDERAL BLVD                3.864852\n",
       "E HAMPDEN AVE                 3.951304\n",
       "S UNIVERSITY BLVD             4.071071\n",
       "N TOWER RD                    4.283965\n",
       "E EVANS AVE                   4.331147\n",
       "N YORK ST                     4.348465\n",
       "S MONACO STREET PKWY          4.763915\n",
       "N COLORADO BLVD               4.831758\n",
       "E 8TH AVE                     4.904420\n",
       "N LINCOLN ST                  4.969240\n",
       "N SHERIDAN BLVD               5.038578\n",
       "N FEDERAL BLVD                5.111047\n",
       "N BROADWAY                    5.125032\n",
       "E 16TH AVE                    5.227694\n",
       "E 13TH AVE                    5.334776\n",
       "E COLFAX AVE                  5.381307\n",
       "E 17TH AVE                    5.436032\n",
       "E 14TH AVE                    5.437175\n",
       "N QUEBEC ST                   5.769949\n",
       "S QUEBEC ST                   5.879577\n",
       "E ALAMEDA AVE                 6.574502\n",
       "E 56TH AVE                    8.466115\n",
       "E 47TH AVE                   12.273015\n",
       "Name: length_miles, dtype: float64"
      ]
     },
     "execution_count": 33,
     "metadata": {},
     "output_type": "execute_result"
    }
   ],
   "source": [
    "street_lengths_gdf['length_miles'].sort_values()"
   ]
  },
  {
   "cell_type": "code",
   "execution_count": 32,
   "metadata": {},
   "outputs": [
    {
     "data": {
      "text/plain": [
       "8.975899650068687"
      ]
     },
     "execution_count": 32,
     "metadata": {},
     "output_type": "execute_result"
    }
   ],
   "source": [
    "street_lengths_gdf.loc[street_lengths_gdf.index.str.contains('FEDERAL'), 'length_miles'].sum()"
   ]
  },
  {
   "cell_type": "code",
   "execution_count": 34,
   "metadata": {},
   "outputs": [],
   "source": []
  },
  {
   "cell_type": "code",
   "execution_count": 44,
   "metadata": {},
   "outputs": [
    {
     "data": {
      "image/png": "[encoded data removed]",
      "text/plain": [
       "<Figure size 720x504 with 1 Axes>"
      ]
     },
     "metadata": {
      "needs_background": "light"
     },
     "output_type": "display_data"
    }
   ],
   "source": [
    "fig, ax = plt.subplots(figsize=(10,7))\n",
    "\n",
    "data_to_plot = crashes_on_main_streets[crashes_streets.FULLNAME == 'E 47TH AVE'].copy()\n",
    "\n",
    "plt.scatter(x=crashes_on_main_streets.geo_lon, y=crashes_on_main_streets.geo_lat)\n",
    "_ = plt.scatter(x=data_to_plot.geo_lon, y=data_to_plot.geo_lat)"
   ]
  },
  {
   "cell_type": "code",
   "execution_count": 41,
   "metadata": {},
   "outputs": [],
   "source": [
    "# todo: handle discontinuous streets like E 47th Ave"
   ]
  },
  {
   "cell_type": "code",
   "execution_count": null,
   "metadata": {},
   "outputs": [],
   "source": []
  }
 ],
 "metadata": {
  "kernelspec": {
   "display_name": "Python 3",
   "language": "python",
   "name": "python3"
  },
  "language_info": {
   "codemirror_mode": {
    "name": "ipython",
    "version": 3
   },
   "file_extension": ".py",
   "mimetype": "text/x-python",
   "name": "python",
   "nbconvert_exporter": "python",
   "pygments_lexer": "ipython3",
   "version": "3.7.1"
  }
 },
 "nbformat": 4,
 "nbformat_minor": 2
}
