{
 "cells": [
  {
   "cell_type": "markdown",
   "id": "27137e14",
   "metadata": {},
   "source": [
    "# One Crash\n",
    "\n",
    "All available info about one crash"
   ]
  },
  {
   "cell_type": "code",
   "execution_count": 2,
   "id": "d9d34024",
   "metadata": {},
   "outputs": [],
   "source": [
    "import pandas as pd"
   ]
  },
  {
   "cell_type": "code",
   "execution_count": 3,
   "id": "e7ad45a6",
   "metadata": {},
   "outputs": [],
   "source": [
    "df = pd.read_csv('data/raw_crash_data.csv', low_memory=False)"
   ]
  },
  {
   "cell_type": "code",
   "execution_count": 5,
   "id": "a7eb3695",
   "metadata": {},
   "outputs": [
    {
     "data": {
      "text/plain": [
       "shape                            <geoprocessing describe geometry object object...\n",
       "object_id                                                                    48394\n",
       "incident_id                                                             2023182255\n",
       "offense_id                                                         202318225554411\n",
       "offense_code                                                                  5441\n",
       "offense_code_extension                                                           1\n",
       "top_traffic_accident_offense                        TRAF - ACCIDENT - SBI         \n",
       "first_occurrence_date                                          2023-04-09 00:01:00\n",
       "last_occurrence_date                                           2023-04-09 00:01:00\n",
       "reported_date                                                  2023-04-09 00:14:00\n",
       "incident_address                                      E COLFAX AVE / N BROADWAY ST\n",
       "geo_x                                                                    3144156.0\n",
       "geo_y                                                                    1694853.0\n",
       "geo_lon                                                                -104.987391\n",
       "geo_lat                                                                  39.740059\n",
       "district_id                                                                 6     \n",
       "precinct_id                                                                  611.0\n",
       "neighborhood_id                                                       Civic Center\n",
       "bicycle_ind                                                                    0.0\n",
       "pedestrian_ind                                                                 0.0\n",
       "HARMFUL_EVENT_SEQ_1                                            UNDER INVESTIGATION\n",
       "HARMFUL_EVENT_SEQ_2                                            UNDER INVESTIGATION\n",
       "HARMFUL_EVENT_SEQ_MOST                                         UNDER INVESTIGATION\n",
       "road_location                                                  UNDER INVESTIGATION\n",
       "ROAD_DESCRIPTION                                               UNDER INVESTIGATION\n",
       "ROAD_CONTOUR                                                   UNDER INVESTIGATION\n",
       "ROAD_CONDITION                                                 UNDER INVESTIGATION\n",
       "LIGHT_CONDITION                                                UNDER INVESTIGATION\n",
       "TU1_VEHICLE_TYPE                                               UNDER INVESTIGATION\n",
       "TU1_TRAVEL_DIRECTION                                           UNDER INVESTIGATION\n",
       "TU1_VEHICLE_MOVEMENT                                           UNDER INVESTIGATION\n",
       "TU1_DRIVER_ACTION                                              UNDER INVESTIGATION\n",
       "TU1_DRIVER_HUMANCONTRIBFACTOR                                  UNDER INVESTIGATION\n",
       "TU1_PEDESTRIAN_ACTION                                          UNDER INVESTIGATION\n",
       "TU2_VEHICLE_TYPE                                               UNDER INVESTIGATION\n",
       "TU2_TRAVEL_DIRECTION                                           UNDER INVESTIGATION\n",
       "TU2_VEHICLE_MOVEMENT                                           UNDER INVESTIGATION\n",
       "TU2_DRIVER_ACTION                                              UNDER INVESTIGATION\n",
       "TU2_DRIVER_HUMANCONTRIBFACTOR                                  UNDER INVESTIGATION\n",
       "TU2_PEDESTRIAN_ACTION                                          UNDER INVESTIGATION\n",
       "SERIOUSLY_INJURED                                                              NaN\n",
       "FATALITIES                                                                     NaN\n",
       "FATALITY_MODE_1                                                UNDER INVESTIGATION\n",
       "FATALITY_MODE_2                                                UNDER INVESTIGATION\n",
       "SERIOUSLY_INJURED_MODE_1                                       UNDER INVESTIGATION\n",
       "SERIOUSLY_INJURED_MODE_2                                       UNDER INVESTIGATION\n",
       "POINT_X                                                                        NaN\n",
       "POINT_Y                                                                        NaN\n",
       "updated_at                                        2023-04-14T21:25:50.626224+00:00\n",
       "Name: 21613, dtype: object"
      ]
     },
     "execution_count": 5,
     "metadata": {},
     "output_type": "execute_result"
    }
   ],
   "source": [
    "df[df.incident_id == 2023182255].squeeze() # Scooter crash\n",
    "# df[df.incident_id == 202291920].squeeze() # Snowmobile"
   ]
  },
  {
   "cell_type": "code",
   "execution_count": null,
   "id": "05ba5019",
   "metadata": {},
   "outputs": [],
   "source": []
  }
 ],
 "metadata": {
  "kernelspec": {
   "display_name": "Python 3 (ipykernel)",
   "language": "python",
   "name": "python3"
  },
  "language_info": {
   "codemirror_mode": {
    "name": "ipython",
    "version": 3
   },
   "file_extension": ".py",
   "mimetype": "text/x-python",
   "name": "python",
   "nbconvert_exporter": "python",
   "pygments_lexer": "ipython3",
   "version": "3.10.3"
  }
 },
 "nbformat": 4,
 "nbformat_minor": 5
}
