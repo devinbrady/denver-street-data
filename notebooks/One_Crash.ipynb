{
 "cells": [
  {
   "cell_type": "markdown",
   "id": "27137e14",
   "metadata": {},
   "source": [
    "# One Crash\n",
    "\n",
    "All available info about one crash, from the raw data."
   ]
  },
  {
   "cell_type": "code",
   "execution_count": 1,
   "id": "d9d34024",
   "metadata": {},
   "outputs": [],
   "source": [
    "import pandas as pd"
   ]
  },
  {
   "cell_type": "code",
   "execution_count": 2,
   "id": "e7ad45a6",
   "metadata": {},
   "outputs": [],
   "source": [
    "df = pd.read_csv('../data/crash_data_raw.csv', low_memory=False)"
   ]
  },
  {
   "cell_type": "code",
   "execution_count": 5,
   "id": "a7eb3695",
   "metadata": {},
   "outputs": [
    {
     "data": {
      "text/plain": [
       "object_id                                               290171200\n",
       "incident_id                                            2025225957\n",
       "offense_id                                        202522595754412\n",
       "offense_code                                                 5441\n",
       "offense_code_extension                                          2\n",
       "top_traffic_accident_offense       TRAF - ACCIDENT - FATAL       \n",
       "first_occurrence_date                         5/4/2025 8:01:00 PM\n",
       "last_occurrence_date                          5/4/2025 8:01:00 PM\n",
       "reported_date                                 5/4/2025 8:55:00 PM\n",
       "incident_address                           700 BLOCK E COLFAX AVE\n",
       "geo_x                                                   3146622.0\n",
       "geo_y                                                   1694800.0\n",
       "geo_lon                                               -104.978624\n",
       "geo_lat                                                 39.739875\n",
       "district_id                                                6     \n",
       "precinct_id                                                 623.0\n",
       "neighborhood_id                                      Capitol Hill\n",
       "bicycle_ind                                                   0.0\n",
       "pedestrian_ind                                                1.0\n",
       "HARMFUL_EVENT_SEQ_1                                    Pedestrian\n",
       "HARMFUL_EVENT_SEQ_2                                           NaN\n",
       "HARMFUL_EVENT_SEQ_3                                    Pedestrian\n",
       "road_location                                          On Roadway\n",
       "ROAD_DESCRIPTION                                 Non-Intersection\n",
       "ROAD_CONTOUR                                     Straight - Level\n",
       "ROAD_CONDITION                                                Dry\n",
       "LIGHT_CONDITION                                          Daylight\n",
       "TU1_VEHICLE_TYPE                      Passenger Car/Passenger Van\n",
       "TU1_TRAVEL_DIRECTION                                         East\n",
       "TU1_VEHICLE_MOVEMENT                               Going Straight\n",
       "TU1_DRIVER_ACTION                                Reckless Driving\n",
       "TU1_DRIVER_HUMANCONTRIBFACTOR                        Not Observed\n",
       "TU1_PEDESTRIAN_ACTION                                         NaN\n",
       "TU2_VEHICLE_TYPE                                              NaN\n",
       "TU2_TRAVEL_DIRECTION                                          NaN\n",
       "TU2_VEHICLE_MOVEMENT                                          NaN\n",
       "TU2_DRIVER_ACTION                                             NaN\n",
       "TU2_DRIVER_HUMANCONTRIBFACTOR                                 NaN\n",
       "TU2_PEDESTRIAN_ACTION                      No Contributing Action\n",
       "SERIOUSLY_INJURED                                             0.0\n",
       "FATALITIES                                                    0.0\n",
       "FATALITY_MODE_1                                               NaN\n",
       "FATALITY_MODE_2                                               NaN\n",
       "SERIOUSLY_INJURED_MODE_1                                      NaN\n",
       "SERIOUSLY_INJURED_MODE_2                                      NaN\n",
       "POINT_X                                                       NaN\n",
       "POINT_Y                                                       NaN\n",
       "x                                                  3146621.999865\n",
       "y                                                   1694799.99996\n",
       "updated_at                       2025-06-04T18:46:54.971038+00:00\n",
       "Name: 32611, dtype: object"
      ]
     },
     "execution_count": 5,
     "metadata": {},
     "output_type": "execute_result"
    }
   ],
   "source": [
    "# df[df.incident_id == 2023237260].squeeze() # Crash on 18th ave while we moved out\n",
    "# df[df.incident_id == 2023182255].squeeze() # Scooter crash\n",
    "# df[df.incident_id == 202291920].squeeze() # Snowmobile\n",
    "# df[df.incident_id == 20242697].squeeze() # Florida and South Platte, Jan 2 2024\n",
    "df[df.incident_id == 2025225957].squeeze() # Scooter murder on Colfax"
   ]
  },
  {
   "cell_type": "code",
   "execution_count": 4,
   "id": "05ba5019",
   "metadata": {},
   "outputs": [
    {
     "data": {
      "text/plain": [
       "object_id                                               290145023\n",
       "incident_id                                            2025274084\n",
       "offense_id                                        202527408454410\n",
       "offense_code                                                 5441\n",
       "offense_code_extension                                          0\n",
       "top_traffic_accident_offense       TRAF - ACCIDENT               \n",
       "first_occurrence_date                        5/29/2025 5:33:00 PM\n",
       "last_occurrence_date                         5/29/2025 5:33:00 PM\n",
       "reported_date                                5/29/2025 5:33:00 PM\n",
       "incident_address                             4560 E MONTVIEW BLVD\n",
       "geo_x                                                   3159143.0\n",
       "geo_y                                                   1697493.0\n",
       "geo_lon                                               -104.934042\n",
       "geo_lat                                                 39.747062\n",
       "district_id                                                2     \n",
       "precinct_id                                                 222.0\n",
       "neighborhood_id                                   South Park Hill\n",
       "bicycle_ind                                                   0.0\n",
       "pedestrian_ind                                                0.0\n",
       "HARMFUL_EVENT_SEQ_1                                Front to Front\n",
       "HARMFUL_EVENT_SEQ_2                                Front to Front\n",
       "HARMFUL_EVENT_SEQ_3                                Front to Front\n",
       "road_location                                          On Roadway\n",
       "ROAD_DESCRIPTION                                  At Intersection\n",
       "ROAD_CONTOUR                                     Straight - Level\n",
       "ROAD_CONDITION                                                Dry\n",
       "LIGHT_CONDITION                                          Daylight\n",
       "TU1_VEHICLE_TYPE                                              SUV\n",
       "TU1_TRAVEL_DIRECTION                                        North\n",
       "TU1_VEHICLE_MOVEMENT                               Going Straight\n",
       "TU1_DRIVER_ACTION                          No Contributing Action\n",
       "TU1_DRIVER_HUMANCONTRIBFACTOR     No Apparent Contributing Factor\n",
       "TU1_PEDESTRIAN_ACTION                                         NaN\n",
       "TU2_VEHICLE_TYPE                                              NaN\n",
       "TU2_TRAVEL_DIRECTION                                          NaN\n",
       "TU2_VEHICLE_MOVEMENT                                          NaN\n",
       "TU2_DRIVER_ACTION                                             NaN\n",
       "TU2_DRIVER_HUMANCONTRIBFACTOR                                 NaN\n",
       "TU2_PEDESTRIAN_ACTION                      No Contributing Action\n",
       "SERIOUSLY_INJURED                                             0.0\n",
       "FATALITIES                                                    0.0\n",
       "FATALITY_MODE_1                                               NaN\n",
       "FATALITY_MODE_2                                               NaN\n",
       "SERIOUSLY_INJURED_MODE_1                                      NaN\n",
       "SERIOUSLY_INJURED_MODE_2                                      NaN\n",
       "POINT_X                                                       NaN\n",
       "POINT_Y                                                       NaN\n",
       "x                                                  3159143.000085\n",
       "y                                                  1697493.000151\n",
       "updated_at                       2025-06-04T18:46:54.971038+00:00\n",
       "Name: 6434, dtype: object"
      ]
     },
     "execution_count": 4,
     "metadata": {},
     "output_type": "execute_result"
    }
   ],
   "source": [
    "df[df.incident_id == 2025274084].squeeze() # Montview and Cherry"
   ]
  },
  {
   "cell_type": "code",
   "execution_count": null,
   "id": "ae544ebf",
   "metadata": {},
   "outputs": [],
   "source": []
  }
 ],
 "metadata": {
  "kernelspec": {
   "display_name": "Python 3 (ipykernel)",
   "language": "python",
   "name": "python3"
  },
  "language_info": {
   "codemirror_mode": {
    "name": "ipython",
    "version": 3
   },
   "file_extension": ".py",
   "mimetype": "text/x-python",
   "name": "python",
   "nbconvert_exporter": "python",
   "pygments_lexer": "ipython3",
   "version": "3.10.3"
  }
 },
 "nbformat": 4,
 "nbformat_minor": 5
}
