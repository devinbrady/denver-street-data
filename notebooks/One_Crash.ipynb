{
 "cells": [
  {
   "cell_type": "markdown",
   "id": "27137e14",
   "metadata": {},
   "source": [
    "# One Crash\n",
    "\n",
    "All available info about one crash"
   ]
  },
  {
   "cell_type": "code",
   "execution_count": 1,
   "id": "d9d34024",
   "metadata": {},
   "outputs": [],
   "source": [
    "import pandas as pd"
   ]
  },
  {
   "cell_type": "code",
   "execution_count": 2,
   "id": "e7ad45a6",
   "metadata": {},
   "outputs": [],
   "source": [
    "df = pd.read_csv('../data/crash_data_raw.csv', low_memory=False)"
   ]
  },
  {
   "cell_type": "code",
   "execution_count": 3,
   "id": "a7eb3695",
   "metadata": {},
   "outputs": [
    {
     "data": {
      "text/plain": [
       "shape                            <geoprocessing describe geometry object object...\n",
       "object_id                                                                    86894\n",
       "incident_id                                                               20242697\n",
       "offense_id                                                           2024269754410\n",
       "offense_code                                                                  5441\n",
       "offense_code_extension                                                           0\n",
       "top_traffic_accident_offense                        TRAF - ACCIDENT               \n",
       "first_occurrence_date                                          2024-01-02 11:31:00\n",
       "last_occurrence_date                                           2024-01-02 11:31:00\n",
       "reported_date                                           2024-01-02 12:11:00.000001\n",
       "incident_address                                 W FLORIDA AVE / S PLATTE RIVER DR\n",
       "geo_x                                                                    3141670.0\n",
       "geo_y                                                                    1676351.0\n",
       "geo_lon                                                                -104.996596\n",
       "geo_lat                                                                  39.689305\n",
       "district_id                                                                 3     \n",
       "precinct_id                                                                  313.0\n",
       "neighborhood_id                                                           Overland\n",
       "bicycle_ind                                                                    0.0\n",
       "pedestrian_ind                                                                 0.0\n",
       "HARMFUL_EVENT_SEQ_1                                                  Front to Side\n",
       "HARMFUL_EVENT_SEQ_2                                           Overturning/Rollover\n",
       "HARMFUL_EVENT_SEQ_MOST                                        Overturning/Rollover\n",
       "road_location                                                           On Roadway\n",
       "ROAD_DESCRIPTION                                                   At Intersection\n",
       "ROAD_CONTOUR                                                   Straight - Downhill\n",
       "ROAD_CONDITION                                                                 Dry\n",
       "LIGHT_CONDITION                                                           Daylight\n",
       "TU1_VEHICLE_TYPE                                       Passenger Car/Passenger Van\n",
       "TU1_TRAVEL_DIRECTION                                                          East\n",
       "TU1_VEHICLE_MOVEMENT                                              Making Left Turn\n",
       "TU1_DRIVER_ACTION                                         Failed to Stop at Signal\n",
       "TU1_DRIVER_HUMANCONTRIBFACTOR                                   Looked/Did Not See\n",
       "TU1_PEDESTRIAN_ACTION                                                          NaN\n",
       "TU2_VEHICLE_TYPE                                       Passenger Car/Passenger Van\n",
       "TU2_TRAVEL_DIRECTION                                                         South\n",
       "TU2_VEHICLE_MOVEMENT                                                Going Straight\n",
       "TU2_DRIVER_ACTION                                           No Contributing Action\n",
       "TU2_DRIVER_HUMANCONTRIBFACTOR                      No Apparent Contributing Factor\n",
       "TU2_PEDESTRIAN_ACTION                                                          NaN\n",
       "SERIOUSLY_INJURED                                                              0.0\n",
       "FATALITIES                                                                     0.0\n",
       "FATALITY_MODE_1                                                                NaN\n",
       "FATALITY_MODE_2                                                                NaN\n",
       "SERIOUSLY_INJURED_MODE_1                                                       NaN\n",
       "SERIOUSLY_INJURED_MODE_2                                                       NaN\n",
       "POINT_X                                                                        NaN\n",
       "POINT_Y                                                                        NaN\n",
       "updated_at                                        2024-01-04T17:19:09.593396+00:00\n",
       "Name: 107185, dtype: object"
      ]
     },
     "execution_count": 3,
     "metadata": {},
     "output_type": "execute_result"
    }
   ],
   "source": [
    "# df[df.incident_id == 2023237260].squeeze() # Crash on 18th ave while we moved out\n",
    "# df[df.incident_id == 2023182255].squeeze() # Scooter crash\n",
    "# df[df.incident_id == 202291920].squeeze() # Snowmobile\n",
    "df[df.incident_id == 20242697].squeeze() # Florida and South Platte, Jan 2 2024"
   ]
  },
  {
   "cell_type": "code",
   "execution_count": null,
   "id": "05ba5019",
   "metadata": {},
   "outputs": [],
   "source": []
  }
 ],
 "metadata": {
  "kernelspec": {
   "display_name": "Python 3 (ipykernel)",
   "language": "python",
   "name": "python3"
  },
  "language_info": {
   "codemirror_mode": {
    "name": "ipython",
    "version": 3
   },
   "file_extension": ".py",
   "mimetype": "text/x-python",
   "name": "python",
   "nbconvert_exporter": "python",
   "pygments_lexer": "ipython3",
   "version": "3.10.3"
  }
 },
 "nbformat": 4,
 "nbformat_minor": 5
}
