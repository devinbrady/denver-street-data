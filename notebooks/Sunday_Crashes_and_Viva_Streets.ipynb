{
 "cells": [
  {
   "cell_type": "markdown",
   "id": "09e38576",
   "metadata": {},
   "source": [
    "# Sunday Crashes around Viva Streets\n",
    "\n",
    "Is there a reduction in crashes around Viva Streets on Sundays? Look for crashes in the vicinity compared to the city as a whole. \n",
    "\n",
    "Viva Streets closures:\n",
    "\n",
    "* Broadway from Alameda north\n",
    "* Continues up Welton\n",
    "* Ends at Downing"
   ]
  },
  {
   "cell_type": "code",
   "execution_count": 1,
   "id": "1098acd6",
   "metadata": {},
   "outputs": [],
   "source": [
    "import json\n",
    "import pytz\n",
    "import folium\n",
    "from folium.features import DivIcon\n",
    "from folium.plugins import HeatMap\n",
    "\n",
    "import numpy as np\n",
    "import pandas as pd\n",
    "from datetime import datetime, timedelta\n",
    "import matplotlib.pyplot as plt\n",
    "from matplotlib._color_data import TABLEAU_COLORS\n",
    "\n",
    "import os\n",
    "os.chdir('..')\n",
    "\n",
    "from scripts.crash_data_analysis import CrashDataAnalysis"
   ]
  },
  {
   "cell_type": "code",
   "execution_count": 2,
   "id": "027eed3d",
   "metadata": {},
   "outputs": [],
   "source": [
    "cda = CrashDataAnalysis()"
   ]
  },
  {
   "cell_type": "code",
   "execution_count": 3,
   "id": "b67d2042",
   "metadata": {},
   "outputs": [
    {
     "data": {
      "text/html": [
       "<div>\n",
       "<style scoped>\n",
       "    .dataframe tbody tr th:only-of-type {\n",
       "        vertical-align: middle;\n",
       "    }\n",
       "\n",
       "    .dataframe tbody tr th {\n",
       "        vertical-align: top;\n",
       "    }\n",
       "\n",
       "    .dataframe thead th {\n",
       "        text-align: right;\n",
       "    }\n",
       "</style>\n",
       "<table border=\"1\" class=\"dataframe\">\n",
       "  <thead>\n",
       "    <tr style=\"text-align: right;\">\n",
       "      <th></th>\n",
       "      <th>crash_date</th>\n",
       "      <th>crash_date_str</th>\n",
       "      <th>num_crashes</th>\n",
       "    </tr>\n",
       "  </thead>\n",
       "  <tbody>\n",
       "    <tr>\n",
       "      <th>0</th>\n",
       "      <td>2013-01-06</td>\n",
       "      <td>Jan 6, 2013</td>\n",
       "      <td>39</td>\n",
       "    </tr>\n",
       "    <tr>\n",
       "      <th>1</th>\n",
       "      <td>2013-01-13</td>\n",
       "      <td>Jan 13, 2013</td>\n",
       "      <td>50</td>\n",
       "    </tr>\n",
       "    <tr>\n",
       "      <th>2</th>\n",
       "      <td>2013-01-20</td>\n",
       "      <td>Jan 20, 2013</td>\n",
       "      <td>40</td>\n",
       "    </tr>\n",
       "    <tr>\n",
       "      <th>3</th>\n",
       "      <td>2013-01-27</td>\n",
       "      <td>Jan 27, 2013</td>\n",
       "      <td>29</td>\n",
       "    </tr>\n",
       "    <tr>\n",
       "      <th>4</th>\n",
       "      <td>2013-02-03</td>\n",
       "      <td>Feb 3, 2013</td>\n",
       "      <td>47</td>\n",
       "    </tr>\n",
       "    <tr>\n",
       "      <th>...</th>\n",
       "      <td>...</td>\n",
       "      <td>...</td>\n",
       "      <td>...</td>\n",
       "    </tr>\n",
       "    <tr>\n",
       "      <th>536</th>\n",
       "      <td>2023-04-16</td>\n",
       "      <td>Apr 16, 2023</td>\n",
       "      <td>41</td>\n",
       "    </tr>\n",
       "    <tr>\n",
       "      <th>537</th>\n",
       "      <td>2023-04-23</td>\n",
       "      <td>Apr 23, 2023</td>\n",
       "      <td>32</td>\n",
       "    </tr>\n",
       "    <tr>\n",
       "      <th>538</th>\n",
       "      <td>2023-04-30</td>\n",
       "      <td>Apr 30, 2023</td>\n",
       "      <td>41</td>\n",
       "    </tr>\n",
       "    <tr>\n",
       "      <th>539</th>\n",
       "      <td>2023-05-07</td>\n",
       "      <td>May 7, 2023</td>\n",
       "      <td>43</td>\n",
       "    </tr>\n",
       "    <tr>\n",
       "      <th>540</th>\n",
       "      <td>2023-05-14</td>\n",
       "      <td>May 14, 2023</td>\n",
       "      <td>30</td>\n",
       "    </tr>\n",
       "  </tbody>\n",
       "</table>\n",
       "<p>541 rows × 3 columns</p>\n",
       "</div>"
      ],
      "text/plain": [
       "     crash_date crash_date_str  num_crashes\n",
       "0    2013-01-06    Jan 6, 2013           39\n",
       "1    2013-01-13   Jan 13, 2013           50\n",
       "2    2013-01-20   Jan 20, 2013           40\n",
       "3    2013-01-27   Jan 27, 2013           29\n",
       "4    2013-02-03    Feb 3, 2013           47\n",
       "..          ...            ...          ...\n",
       "536  2023-04-16   Apr 16, 2023           41\n",
       "537  2023-04-23   Apr 23, 2023           32\n",
       "538  2023-04-30   Apr 30, 2023           41\n",
       "539  2023-05-07    May 7, 2023           43\n",
       "540  2023-05-14   May 14, 2023           30\n",
       "\n",
       "[541 rows x 3 columns]"
      ]
     },
     "execution_count": 3,
     "metadata": {},
     "output_type": "execute_result"
    }
   ],
   "source": [
    "query = \"\"\"\n",
    "select\n",
    "to_char(reported_date at time zone 'America/Denver', 'YYYY-MM-DD') as crash_date\n",
    ", to_char(reported_date at time zone 'America/Denver', 'Mon FMDD, YYYY') as crash_date_str\n",
    ", count(*) as num_crashes\n",
    "\n",
    "from crashes c\n",
    "\n",
    "where extract(isodow from reported_date at time zone 'America/Denver') = 7\n",
    "\n",
    "group by 1,2\n",
    "order by 1\n",
    "\"\"\"\n",
    "\n",
    "sunday_crashes = pd.read_sql(query, cda.conn)\n",
    "sunday_crashes"
   ]
  },
  {
   "cell_type": "code",
   "execution_count": 4,
   "id": "40f8c51a",
   "metadata": {},
   "outputs": [
    {
     "data": {
      "image/png": "[encoded data removed]",
      "text/plain": [
       "<Figure size 576x432 with 1 Axes>"
      ]
     },
     "metadata": {
      "needs_background": "light"
     },
     "output_type": "display_data"
    }
   ],
   "source": [
    "fig, ax = plt.subplots(figsize=(8,6))\n",
    "\n",
    "data_to_plot = sunday_crashes.tail(20)\n",
    "\n",
    "ax.bar(\n",
    "    x=data_to_plot.crash_date_str\n",
    "    , height=data_to_plot.num_crashes\n",
    "    , color=TABLEAU_COLORS['tab:blue']\n",
    ")\n",
    "\n",
    "ax.tick_params(axis='x', rotation=90)\n",
    "\n",
    "_ = plt.title('Sunday Crashes')"
   ]
  },
  {
   "cell_type": "code",
   "execution_count": 5,
   "id": "b62853b8",
   "metadata": {},
   "outputs": [],
   "source": [
    "viva_sundays = [\n",
    "    datetime(2023, 5, 14)\n",
    "    , datetime(2023, 6, 4)\n",
    "    , datetime(2023, 7, 9)\n",
    "    , datetime(2023, 8, 6)\n",
    "]"
   ]
  },
  {
   "cell_type": "code",
   "execution_count": null,
   "id": "8f392121",
   "metadata": {},
   "outputs": [],
   "source": []
  }
 ],
 "metadata": {
  "kernelspec": {
   "display_name": "Python 3 (ipykernel)",
   "language": "python",
   "name": "python3"
  },
  "language_info": {
   "codemirror_mode": {
    "name": "ipython",
    "version": 3
   },
   "file_extension": ".py",
   "mimetype": "text/x-python",
   "name": "python",
   "nbconvert_exporter": "python",
   "pygments_lexer": "ipython3",
   "version": "3.10.3"
  }
 },
 "nbformat": 4,
 "nbformat_minor": 5
}
