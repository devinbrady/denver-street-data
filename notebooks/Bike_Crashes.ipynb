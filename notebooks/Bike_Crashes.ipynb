{
 "cells": [
  {
   "cell_type": "markdown",
   "id": "373b0500",
   "metadata": {},
   "source": [
    "# Bike Crashes\n",
    "\n",
    "Make a map of recent crashes involving bikes. The Ride of Silence is Thursday, May 21, 2025. "
   ]
  },
  {
   "cell_type": "code",
   "execution_count": null,
   "id": "5aedeb26",
   "metadata": {},
   "outputs": [],
   "source": []
  }
 ],
 "metadata": {
  "kernelspec": {
   "display_name": "Python 3 (ipykernel)",
   "language": "python",
   "name": "python3"
  },
  "language_info": {
   "codemirror_mode": {
    "name": "ipython",
    "version": 3
   },
   "file_extension": ".py",
   "mimetype": "text/x-python",
   "name": "python",
   "nbconvert_exporter": "python",
   "pygments_lexer": "ipython3",
   "version": "3.10.3"
  }
 },
 "nbformat": 4,
 "nbformat_minor": 5
}
