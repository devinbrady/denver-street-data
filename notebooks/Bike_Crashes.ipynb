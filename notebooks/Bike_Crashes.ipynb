{
 "cells": [
  {
   "cell_type": "markdown",
   "id": "373b0500",
   "metadata": {},
   "source": [
    "# Bike Crashes\n",
    "\n",
    "Make a map of recent crashes involving bikes. The Ride of Silence is Thursday, May 21, 2025. "
   ]
  },
  {
   "cell_type": "code",
   "execution_count": 1,
   "id": "5aedeb26",
   "metadata": {},
   "outputs": [],
   "source": [
    "import pandas as pd\n",
    "import matplotlib.pyplot as plt\n",
    "from matplotlib._color_data import TABLEAU_COLORS\n",
    "import matplotlib.ticker as mtick\n",
    "import folium\n",
    "import datetime\n",
    "from folium.plugins import HeatMap\n",
    "\n",
    "import os\n",
    "os.chdir('..')\n",
    "\n",
    "from scripts.crash_data_analysis import CrashDataAnalysis\n",
    "cda = CrashDataAnalysis()"
   ]
  },
  {
   "cell_type": "code",
   "execution_count": 2,
   "id": "6f4c2614",
   "metadata": {},
   "outputs": [],
   "source": [
    "f = cda.recent_deadly_crashes(\n",
    "    additional_columns=[\n",
    "        'incident_id', 'top_traffic_accident_offense', 'geo_lon', 'geo_lat'\n",
    "    ]\n",
    ")"
   ]
  },
  {
   "cell_type": "code",
   "execution_count": 3,
   "id": "328ce5b2",
   "metadata": {},
   "outputs": [],
   "source": [
    "f['reported_date_local'] = f['reported_date'].dt.tz_convert('America/Denver')\n",
    "f['crash_year_time_str'] = f['reported_date_local'].dt.strftime('%a %b %-d, %Y, %-I:%M %p')"
   ]
  },
  {
   "cell_type": "code",
   "execution_count": 4,
   "id": "75c3084d",
   "metadata": {},
   "outputs": [],
   "source": [
    "# f[(f.bicycle == 'x') & (f.reported_date.dt.year > 2020)]"
   ]
  },
  {
   "cell_type": "code",
   "execution_count": 5,
   "id": "9e2ace12",
   "metadata": {},
   "outputs": [
    {
     "data": {
      "text/html": [
       "<div>\n",
       "<style scoped>\n",
       "    .dataframe tbody tr th:only-of-type {\n",
       "        vertical-align: middle;\n",
       "    }\n",
       "\n",
       "    .dataframe tbody tr th {\n",
       "        vertical-align: top;\n",
       "    }\n",
       "\n",
       "    .dataframe thead th {\n",
       "        text-align: right;\n",
       "    }\n",
       "</style>\n",
       "<table border=\"1\" class=\"dataframe\">\n",
       "  <thead>\n",
       "    <tr style=\"text-align: right;\">\n",
       "      <th></th>\n",
       "      <th>incident_id</th>\n",
       "      <th>top_traffic_accident_offense</th>\n",
       "      <th>crash_year_time_str</th>\n",
       "      <th>incident_address_corrected</th>\n",
       "      <th>geo_lon</th>\n",
       "      <th>geo_lat</th>\n",
       "    </tr>\n",
       "  </thead>\n",
       "  <tbody>\n",
       "    <tr>\n",
       "      <th>477</th>\n",
       "      <td>2021528820</td>\n",
       "      <td>TRAF - ACCIDENT - FATAL</td>\n",
       "      <td>Mon Sep 13, 2021, 7:26 PM</td>\n",
       "      <td>COURT PL / W COLFAX AVE</td>\n",
       "      <td>-104.991655</td>\n",
       "      <td>39.740067</td>\n",
       "    </tr>\n",
       "    <tr>\n",
       "      <th>544</th>\n",
       "      <td>2022320933</td>\n",
       "      <td>TRAF - ACCIDENT - FATAL</td>\n",
       "      <td>Sat Jun 25, 2022, 1:50 AM</td>\n",
       "      <td>N FOX ST / W 6TH AVENUE FWY</td>\n",
       "      <td>-104.995194</td>\n",
       "      <td>39.725686</td>\n",
       "    </tr>\n",
       "    <tr>\n",
       "      <th>557</th>\n",
       "      <td>2022407970</td>\n",
       "      <td>TRAF - ACCIDENT - FATAL</td>\n",
       "      <td>Wed Aug 10, 2022, 7:01 AM</td>\n",
       "      <td>E 13TH AVE / N SYRACUSE ST</td>\n",
       "      <td>-104.898751</td>\n",
       "      <td>39.737273</td>\n",
       "    </tr>\n",
       "    <tr>\n",
       "      <th>580</th>\n",
       "      <td>2022631618</td>\n",
       "      <td>TRAF - ACCIDENT - FATAL</td>\n",
       "      <td>Fri Dec 9, 2022, 8:31 PM</td>\n",
       "      <td>N SHERIDAN BLVD / W 38TH AVE</td>\n",
       "      <td>-105.053243</td>\n",
       "      <td>39.769320</td>\n",
       "    </tr>\n",
       "    <tr>\n",
       "      <th>583</th>\n",
       "      <td>2022646836</td>\n",
       "      <td>TRAF - ACCIDENT - FATAL</td>\n",
       "      <td>Sun Dec 18, 2022, 2:23 PM</td>\n",
       "      <td>N FEDERAL BLVD / W 35TH AVE</td>\n",
       "      <td>-105.025235</td>\n",
       "      <td>39.765609</td>\n",
       "    </tr>\n",
       "    <tr>\n",
       "      <th>626</th>\n",
       "      <td>2023380548</td>\n",
       "      <td>TRAF - ACCIDENT - FATAL</td>\n",
       "      <td>Sun Jul 16, 2023, 7:06 AM</td>\n",
       "      <td>S BIRCH ST / E LOUISIANA AVE</td>\n",
       "      <td>-104.936226</td>\n",
       "      <td>39.692957</td>\n",
       "    </tr>\n",
       "    <tr>\n",
       "      <th>634</th>\n",
       "      <td>2023449174</td>\n",
       "      <td>TRAF - ACCIDENT - FATAL</td>\n",
       "      <td>Sun Aug 20, 2023, 9:28 AM</td>\n",
       "      <td>600 BLOCK S KALAMATH ST</td>\n",
       "      <td>-104.996796</td>\n",
       "      <td>39.706432</td>\n",
       "    </tr>\n",
       "    <tr>\n",
       "      <th>745</th>\n",
       "      <td>2025136503</td>\n",
       "      <td>TRAF - ACCIDENT - FATAL</td>\n",
       "      <td>Tue Mar 18, 2025, 7:29 AM</td>\n",
       "      <td>W 52ND AVE / N FEDERAL BLVD</td>\n",
       "      <td>-105.025191</td>\n",
       "      <td>39.791103</td>\n",
       "    </tr>\n",
       "    <tr>\n",
       "      <th>750</th>\n",
       "      <td>2025180292</td>\n",
       "      <td>TRAF - ACCIDENT - FATAL</td>\n",
       "      <td>Thu Apr 10, 2025, 8:12 PM</td>\n",
       "      <td>N COLORADO BLVD / E 11TH AVE</td>\n",
       "      <td>-104.940681</td>\n",
       "      <td>39.732846</td>\n",
       "    </tr>\n",
       "  </tbody>\n",
       "</table>\n",
       "</div>"
      ],
      "text/plain": [
       "     incident_id    top_traffic_accident_offense        crash_year_time_str   \n",
       "477   2021528820  TRAF - ACCIDENT - FATAL         Mon Sep 13, 2021, 7:26 PM  \\\n",
       "544   2022320933  TRAF - ACCIDENT - FATAL         Sat Jun 25, 2022, 1:50 AM   \n",
       "557   2022407970  TRAF - ACCIDENT - FATAL         Wed Aug 10, 2022, 7:01 AM   \n",
       "580   2022631618  TRAF - ACCIDENT - FATAL          Fri Dec 9, 2022, 8:31 PM   \n",
       "583   2022646836  TRAF - ACCIDENT - FATAL         Sun Dec 18, 2022, 2:23 PM   \n",
       "626   2023380548  TRAF - ACCIDENT - FATAL         Sun Jul 16, 2023, 7:06 AM   \n",
       "634   2023449174  TRAF - ACCIDENT - FATAL         Sun Aug 20, 2023, 9:28 AM   \n",
       "745   2025136503  TRAF - ACCIDENT - FATAL         Tue Mar 18, 2025, 7:29 AM   \n",
       "750   2025180292  TRAF - ACCIDENT - FATAL         Thu Apr 10, 2025, 8:12 PM   \n",
       "\n",
       "       incident_address_corrected     geo_lon    geo_lat  \n",
       "477       COURT PL / W COLFAX AVE -104.991655  39.740067  \n",
       "544   N FOX ST / W 6TH AVENUE FWY -104.995194  39.725686  \n",
       "557    E 13TH AVE / N SYRACUSE ST -104.898751  39.737273  \n",
       "580  N SHERIDAN BLVD / W 38TH AVE -105.053243  39.769320  \n",
       "583   N FEDERAL BLVD / W 35TH AVE -105.025235  39.765609  \n",
       "626  S BIRCH ST / E LOUISIANA AVE -104.936226  39.692957  \n",
       "634       600 BLOCK S KALAMATH ST -104.996796  39.706432  \n",
       "745   W 52ND AVE / N FEDERAL BLVD -105.025191  39.791103  \n",
       "750  N COLORADO BLVD / E 11TH AVE -104.940681  39.732846  "
      ]
     },
     "execution_count": 5,
     "metadata": {},
     "output_type": "execute_result"
    }
   ],
   "source": [
    "my_maps_columns = [\n",
    "    'incident_id'\n",
    "    , 'top_traffic_accident_offense'\n",
    "    , 'crash_year_time_str'\n",
    "    , 'incident_address_corrected'\n",
    "    , 'geo_lon'\n",
    "    , 'geo_lat'\n",
    "]\n",
    "\n",
    "f.loc[(f.bicycle == 'x') & (f.reported_date.dt.year > 2020), my_maps_columns]"
   ]
  },
  {
   "cell_type": "code",
   "execution_count": 6,
   "id": "bf2987bd",
   "metadata": {},
   "outputs": [],
   "source": [
    "# f.loc[(f.bicycle == 'x') & (f.reported_date.dt.year > 2020), my_maps_columns].to_csv(\n",
    "#     'data/deadly_bicycle_crashes_to_google_my_maps.csv', index=False)"
   ]
  },
  {
   "cell_type": "code",
   "execution_count": 7,
   "id": "63839e9b",
   "metadata": {},
   "outputs": [],
   "source": [
    "# f[['reported_date', 'reported_date_local', 'crash_time_str', 'crash_year_time_str']]"
   ]
  },
  {
   "cell_type": "code",
   "execution_count": null,
   "id": "96d3f11e",
   "metadata": {},
   "outputs": [],
   "source": []
  },
  {
   "cell_type": "code",
   "execution_count": null,
   "id": "202f8f0d",
   "metadata": {},
   "outputs": [],
   "source": []
  }
 ],
 "metadata": {
  "kernelspec": {
   "display_name": "Python 3 (ipykernel)",
   "language": "python",
   "name": "python3"
  },
  "language_info": {
   "codemirror_mode": {
    "name": "ipython",
    "version": 3
   },
   "file_extension": ".py",
   "mimetype": "text/x-python",
   "name": "python",
   "nbconvert_exporter": "python",
   "pygments_lexer": "ipython3",
   "version": "3.10.3"
  }
 },
 "nbformat": 4,
 "nbformat_minor": 5
}
