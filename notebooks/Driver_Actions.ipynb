{
 "cells": [
  {
   "cell_type": "markdown",
   "id": "e48af09e",
   "metadata": {},
   "source": [
    "# Driver Actions\n",
    "\n",
    "What the hell are drivers doing out there?"
   ]
  },
  {
   "cell_type": "code",
   "execution_count": 1,
   "id": "15d51f75",
   "metadata": {},
   "outputs": [],
   "source": [
    "import pandas as pd"
   ]
  },
  {
   "cell_type": "code",
   "execution_count": 2,
   "id": "a9d02fa7",
   "metadata": {},
   "outputs": [],
   "source": [
    "df = pd.read_csv('../data/crash_data_raw.csv', low_memory=False)"
   ]
  },
  {
   "cell_type": "code",
   "execution_count": 7,
   "id": "53fc01e0",
   "metadata": {},
   "outputs": [
    {
     "data": {
      "text/plain": [
       "TU1_DRIVER_ACTION\n",
       "CARELESS DRIVING            41447\n",
       "FOLLOWED TOO CLOSELY        29812\n",
       "OTHER                       22237\n",
       "FAILED TO YIELD ROW         19539\n",
       "LANE VIOLATION              14862\n",
       "Careless Driving             9363\n",
       "17                           8629\n",
       "FAILED TO STOP AT SIGNAL     7345\n",
       "WEAVING                      6862\n",
       "No Action                    6319\n",
       "IMPROPER BACKING             6139\n",
       "                             5791\n",
       "Followed Too Closely         5633\n",
       "STOPPED IN TRAFFIC           4487\n",
       "Failed to Yield ROW          4306\n",
       "EXCEED SAFE/POSTED SPEED     3886\n",
       "Lane Violation               3366\n",
       "PARKED                       3302\n",
       "00                           3267\n",
       "RECKLESS DRIVING             2796\n",
       "Name: count, dtype: int64"
      ]
     },
     "execution_count": 7,
     "metadata": {},
     "output_type": "execute_result"
    }
   ],
   "source": [
    "df.TU1_DRIVER_ACTION.value_counts().head(20)"
   ]
  },
  {
   "cell_type": "code",
   "execution_count": 8,
   "id": "a347c01c",
   "metadata": {},
   "outputs": [
    {
     "data": {
      "text/plain": [
       "TU1_DRIVER_HUMANCONTRIBFACTOR\n",
       "NO APPARENT                        78494\n",
       "OTHER                              37676\n",
       "AGGRESSIVE DRIVING                 18529\n",
       "DISTRACTED-OTHER                   16724\n",
       "DRIVER INEXPERIENCE                13704\n",
       "DUI/DWAI/DUID                      10713\n",
       "                                    8811\n",
       "No Apparent Contributing Factor     8457\n",
       "DRIVER UNFAMILIAR WITH AREA         7293\n",
       "Not Observed                        5853\n",
       "Looked/Did Not See                  3740\n",
       "Aggressive Driving                  3115\n",
       "DISTRACTED CELLPHONE                2815\n",
       "Distracted/Other Interior           2326\n",
       "Other Factor                        1826\n",
       "DISTRACTED PASSENGER                1616\n",
       "DRIVER FATIGUE                      1398\n",
       "Driver Inexperience                 1222\n",
       "ILLNESS/MEDICAL                     1159\n",
       "Distracted/Other Exterior           1108\n",
       "Name: count, dtype: int64"
      ]
     },
     "execution_count": 8,
     "metadata": {},
     "output_type": "execute_result"
    }
   ],
   "source": [
    "df.TU1_DRIVER_HUMANCONTRIBFACTOR.value_counts().head(20)"
   ]
  },
  {
   "cell_type": "code",
   "execution_count": null,
   "id": "1099774f",
   "metadata": {},
   "outputs": [],
   "source": []
  }
 ],
 "metadata": {
  "kernelspec": {
   "display_name": "Python 3 (ipykernel)",
   "language": "python",
   "name": "python3"
  },
  "language_info": {
   "codemirror_mode": {
    "name": "ipython",
    "version": 3
   },
   "file_extension": ".py",
   "mimetype": "text/x-python",
   "name": "python",
   "nbconvert_exporter": "python",
   "pygments_lexer": "ipython3",
   "version": "3.10.3"
  }
 },
 "nbformat": 4,
 "nbformat_minor": 5
}
