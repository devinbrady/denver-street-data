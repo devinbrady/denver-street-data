{
 "cells": [
  {
   "cell_type": "markdown",
   "id": "e48af09e",
   "metadata": {},
   "source": [
    "# Driver Actions\n",
    "\n",
    "What the hell are drivers doing out there?"
   ]
  },
  {
   "cell_type": "code",
   "execution_count": 1,
   "id": "15d51f75",
   "metadata": {},
   "outputs": [],
   "source": [
    "import pandas as pd"
   ]
  },
  {
   "cell_type": "code",
   "execution_count": 2,
   "id": "a9d02fa7",
   "metadata": {},
   "outputs": [],
   "source": [
    "df = pd.read_csv('../data/crash_data_raw.csv', low_memory=False)"
   ]
  },
  {
   "cell_type": "code",
   "execution_count": 19,
   "id": "53fc01e0",
   "metadata": {},
   "outputs": [
    {
     "data": {
      "text/plain": [
       "TU1_DRIVER_ACTION\n",
       "CARELESS DRIVING            41447\n",
       "FOLLOWED TOO CLOSELY        29812\n",
       "OTHER                       22237\n",
       "FAILED TO YIELD ROW         19539\n",
       "LANE VIOLATION              14862\n",
       "Careless Driving             9495\n",
       "17                           8629\n",
       "FAILED TO STOP AT SIGNAL     7345\n",
       "WEAVING                      6862\n",
       "No Action                    6319\n",
       "Name: count, dtype: int64"
      ]
     },
     "execution_count": 19,
     "metadata": {},
     "output_type": "execute_result"
    }
   ],
   "source": [
    "df.TU1_DRIVER_ACTION.value_counts().head(10) #.to_clipboard()"
   ]
  },
  {
   "cell_type": "code",
   "execution_count": 10,
   "id": "a347c01c",
   "metadata": {},
   "outputs": [],
   "source": [
    "# df.TU1_DRIVER_HUMANCONTRIBFACTOR.value_counts().head(30)"
   ]
  },
  {
   "cell_type": "code",
   "execution_count": 16,
   "id": "1099774f",
   "metadata": {},
   "outputs": [
    {
     "data": {
      "text/plain": [
       "38.0"
      ]
     },
     "execution_count": 16,
     "metadata": {},
     "output_type": "execute_result"
    }
   ],
   "source": [
    "df.TU1_DRIVER_ACTION.str.len().max()"
   ]
  },
  {
   "cell_type": "code",
   "execution_count": 21,
   "id": "ef3e0ad3",
   "metadata": {},
   "outputs": [
    {
     "name": "stdout",
     "output_type": "stream",
     "text": [
      "<class 'pandas.core.frame.DataFrame'>\n",
      "RangeIndex: 242759 entries, 0 to 242758\n",
      "Data columns (total 49 columns):\n",
      " #   Column                         Non-Null Count   Dtype  \n",
      "---  ------                         --------------   -----  \n",
      " 0   shape                          233382 non-null  object \n",
      " 1   object_id                      242759 non-null  int64  \n",
      " 2   incident_id                    242759 non-null  int64  \n",
      " 3   offense_id                     242759 non-null  int64  \n",
      " 4   offense_code                   242759 non-null  int64  \n",
      " 5   offense_code_extension         242759 non-null  int64  \n",
      " 6   top_traffic_accident_offense   242759 non-null  object \n",
      " 7   first_occurrence_date          242759 non-null  object \n",
      " 8   last_occurrence_date           147161 non-null  object \n",
      " 9   reported_date                  242759 non-null  object \n",
      " 10  incident_address               242759 non-null  object \n",
      " 11  geo_x                          233382 non-null  float64\n",
      " 12  geo_y                          233382 non-null  float64\n",
      " 13  geo_lon                        233382 non-null  float64\n",
      " 14  geo_lat                        233382 non-null  float64\n",
      " 15  district_id                    239942 non-null  object \n",
      " 16  precinct_id                    233314 non-null  float64\n",
      " 17  neighborhood_id                230907 non-null  object \n",
      " 18  bicycle_ind                    237740 non-null  float64\n",
      " 19  pedestrian_ind                 237740 non-null  float64\n",
      " 20  HARMFUL_EVENT_SEQ_1            242410 non-null  object \n",
      " 21  HARMFUL_EVENT_SEQ_2            210299 non-null  object \n",
      " 22  HARMFUL_EVENT_SEQ_MOST         241029 non-null  object \n",
      " 23  road_location                  240955 non-null  object \n",
      " 24  ROAD_DESCRIPTION               242492 non-null  object \n",
      " 25  ROAD_CONTOUR                   241115 non-null  object \n",
      " 26  ROAD_CONDITION                 242393 non-null  object \n",
      " 27  LIGHT_CONDITION                242442 non-null  object \n",
      " 28  TU1_VEHICLE_TYPE               239379 non-null  object \n",
      " 29  TU1_TRAVEL_DIRECTION           237908 non-null  object \n",
      " 30  TU1_VEHICLE_MOVEMENT           237739 non-null  object \n",
      " 31  TU1_DRIVER_ACTION              236315 non-null  object \n",
      " 32  TU1_DRIVER_HUMANCONTRIBFACTOR  234687 non-null  object \n",
      " 33  TU1_PEDESTRIAN_ACTION          203415 non-null  object \n",
      " 34  TU2_VEHICLE_TYPE               237487 non-null  object \n",
      " 35  TU2_TRAVEL_DIRECTION           236287 non-null  object \n",
      " 36  TU2_VEHICLE_MOVEMENT           237222 non-null  object \n",
      " 37  TU2_DRIVER_ACTION              234741 non-null  object \n",
      " 38  TU2_DRIVER_HUMANCONTRIBFACTOR  234904 non-null  object \n",
      " 39  TU2_PEDESTRIAN_ACTION          203824 non-null  object \n",
      " 40  SERIOUSLY_INJURED              241928 non-null  float64\n",
      " 41  FATALITIES                     241928 non-null  float64\n",
      " 42  FATALITY_MODE_1                202972 non-null  object \n",
      " 43  FATALITY_MODE_2                202892 non-null  object \n",
      " 44  SERIOUSLY_INJURED_MODE_1       203686 non-null  object \n",
      " 45  SERIOUSLY_INJURED_MODE_2       202969 non-null  object \n",
      " 46  POINT_X                        0 non-null       float64\n",
      " 47  POINT_Y                        0 non-null       float64\n",
      " 48  updated_at                     242759 non-null  object \n",
      "dtypes: float64(11), int64(5), object(33)\n",
      "memory usage: 90.8+ MB\n"
     ]
    }
   ],
   "source": [
    "df.info()"
   ]
  },
  {
   "cell_type": "code",
   "execution_count": null,
   "id": "5724ccf6",
   "metadata": {},
   "outputs": [],
   "source": []
  }
 ],
 "metadata": {
  "kernelspec": {
   "display_name": "Python 3 (ipykernel)",
   "language": "python",
   "name": "python3"
  },
  "language_info": {
   "codemirror_mode": {
    "name": "ipython",
    "version": 3
   },
   "file_extension": ".py",
   "mimetype": "text/x-python",
   "name": "python",
   "nbconvert_exporter": "python",
   "pygments_lexer": "ipython3",
   "version": "3.10.3"
  }
 },
 "nbformat": 4,
 "nbformat_minor": 5
}
