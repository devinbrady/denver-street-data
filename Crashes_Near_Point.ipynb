{
 "cells": [
  {
   "cell_type": "markdown",
   "id": "6f43ff1c",
   "metadata": {},
   "source": [
    "# Crashes Near Point\n",
    "\n",
    "Find the crash incident_id for a specific crash given its location and time. "
   ]
  },
  {
   "cell_type": "code",
   "execution_count": 1,
   "id": "88dd3a90",
   "metadata": {},
   "outputs": [],
   "source": [
    "import datetime\n",
    "import pandas as pd\n",
    "\n",
    "from crash_data_analysis import CrashDataAnalysis"
   ]
  },
  {
   "cell_type": "code",
   "execution_count": 2,
   "id": "e83d1f7c",
   "metadata": {},
   "outputs": [],
   "source": [
    "cda = CrashDataAnalysis()"
   ]
  },
  {
   "cell_type": "code",
   "execution_count": 3,
   "id": "9cc7c80c",
   "metadata": {},
   "outputs": [],
   "source": [
    "df = cda.crash_dataframe()"
   ]
  },
  {
   "cell_type": "code",
   "execution_count": 4,
   "id": "1066595e",
   "metadata": {},
   "outputs": [],
   "source": [
    "lat = 39.720934\n",
    "lon = -104.959436"
   ]
  },
  {
   "cell_type": "code",
   "execution_count": 9,
   "id": "5f70a68b",
   "metadata": {},
   "outputs": [],
   "source": [
    "nearby = cda.crashes_near_point(\n",
    "    df[df.reported_date.dt.date == datetime.date(2022,12,14)]\n",
    "    , lat\n",
    "    , lon\n",
    "    , radius_miles=1\n",
    ")"
   ]
  },
  {
   "cell_type": "code",
   "execution_count": 10,
   "id": "e8971482",
   "metadata": {},
   "outputs": [
    {
     "data": {
      "text/html": [
       "<div>\n",
       "<style scoped>\n",
       "    .dataframe tbody tr th:only-of-type {\n",
       "        vertical-align: middle;\n",
       "    }\n",
       "\n",
       "    .dataframe tbody tr th {\n",
       "        vertical-align: top;\n",
       "    }\n",
       "\n",
       "    .dataframe thead th {\n",
       "        text-align: right;\n",
       "    }\n",
       "</style>\n",
       "<table border=\"1\" class=\"dataframe\">\n",
       "  <thead>\n",
       "    <tr style=\"text-align: right;\">\n",
       "      <th></th>\n",
       "      <th>incident_id</th>\n",
       "      <th>top_traffic_accident_offense</th>\n",
       "      <th>reported_date</th>\n",
       "      <th>incident_address</th>\n",
       "      <th>geo_lon</th>\n",
       "      <th>geo_lat</th>\n",
       "      <th>neighborhood_id</th>\n",
       "      <th>bicycle_ind</th>\n",
       "      <th>pedestrian_ind</th>\n",
       "      <th>SERIOUSLY_INJURED</th>\n",
       "      <th>...</th>\n",
       "      <th>fatality</th>\n",
       "      <th>sbi_or_fatality</th>\n",
       "      <th>crash_date_str</th>\n",
       "      <th>crash_time_str</th>\n",
       "      <th>crash_year</th>\n",
       "      <th>crash_day_of_year</th>\n",
       "      <th>one</th>\n",
       "      <th>target_lat</th>\n",
       "      <th>target_lon</th>\n",
       "      <th>distance_miles</th>\n",
       "    </tr>\n",
       "  </thead>\n",
       "  <tbody>\n",
       "    <tr>\n",
       "      <th>22839</th>\n",
       "      <td>2022639693</td>\n",
       "      <td>TRAF - ACCIDENT - HIT &amp; RUN</td>\n",
       "      <td>2022-12-14 13:00:00-07:00</td>\n",
       "      <td>E 10TH AVE / N LAFAYETTE ST</td>\n",
       "      <td>-104.970639</td>\n",
       "      <td>39.732046</td>\n",
       "      <td>Cheesman Park</td>\n",
       "      <td>0.0</td>\n",
       "      <td>0.0</td>\n",
       "      <td>NaN</td>\n",
       "      <td>...</td>\n",
       "      <td>False</td>\n",
       "      <td>False</td>\n",
       "      <td>2022-12-14 Wed</td>\n",
       "      <td>Wed Dec 14, 1:00 PM</td>\n",
       "      <td>2022</td>\n",
       "      <td>348</td>\n",
       "      <td>1</td>\n",
       "      <td>39.720934</td>\n",
       "      <td>-104.959436</td>\n",
       "      <td>0.971498</td>\n",
       "    </tr>\n",
       "    <tr>\n",
       "      <th>22359</th>\n",
       "      <td>2022639830</td>\n",
       "      <td>TRAF - ACCIDENT</td>\n",
       "      <td>2022-12-14 15:02:00-07:00</td>\n",
       "      <td>E 3RD AVE / N UNIVERSITY BLVD</td>\n",
       "      <td>-104.959436</td>\n",
       "      <td>39.720981</td>\n",
       "      <td>Country Club</td>\n",
       "      <td>0.0</td>\n",
       "      <td>1.0</td>\n",
       "      <td>0.0</td>\n",
       "      <td>...</td>\n",
       "      <td>False</td>\n",
       "      <td>False</td>\n",
       "      <td>2022-12-14 Wed</td>\n",
       "      <td>Wed Dec 14, 3:02 PM</td>\n",
       "      <td>2022</td>\n",
       "      <td>348</td>\n",
       "      <td>1</td>\n",
       "      <td>39.720934</td>\n",
       "      <td>-104.959436</td>\n",
       "      <td>0.003213</td>\n",
       "    </tr>\n",
       "  </tbody>\n",
       "</table>\n",
       "<p>2 rows × 22 columns</p>\n",
       "</div>"
      ],
      "text/plain": [
       "       incident_id    top_traffic_accident_offense             reported_date  \\\n",
       "22839   2022639693  TRAF - ACCIDENT - HIT & RUN    2022-12-14 13:00:00-07:00   \n",
       "22359   2022639830  TRAF - ACCIDENT                2022-12-14 15:02:00-07:00   \n",
       "\n",
       "                    incident_address     geo_lon    geo_lat neighborhood_id  \\\n",
       "22839    E 10TH AVE / N LAFAYETTE ST -104.970639  39.732046   Cheesman Park   \n",
       "22359  E 3RD AVE / N UNIVERSITY BLVD -104.959436  39.720981    Country Club   \n",
       "\n",
       "       bicycle_ind  pedestrian_ind  SERIOUSLY_INJURED  ...  fatality  \\\n",
       "22839          0.0             0.0                NaN  ...     False   \n",
       "22359          0.0             1.0                0.0  ...     False   \n",
       "\n",
       "       sbi_or_fatality  crash_date_str       crash_time_str crash_year  \\\n",
       "22839            False  2022-12-14 Wed  Wed Dec 14, 1:00 PM       2022   \n",
       "22359            False  2022-12-14 Wed  Wed Dec 14, 3:02 PM       2022   \n",
       "\n",
       "      crash_day_of_year  one  target_lat  target_lon  distance_miles  \n",
       "22839               348    1   39.720934 -104.959436        0.971498  \n",
       "22359               348    1   39.720934 -104.959436        0.003213  \n",
       "\n",
       "[2 rows x 22 columns]"
      ]
     },
     "execution_count": 10,
     "metadata": {},
     "output_type": "execute_result"
    }
   ],
   "source": [
    "nearby"
   ]
  },
  {
   "cell_type": "code",
   "execution_count": 11,
   "id": "1b7e4218",
   "metadata": {},
   "outputs": [
    {
     "data": {
      "text/plain": [
       "incident_id                                         2022639830\n",
       "top_traffic_accident_offense    TRAF - ACCIDENT               \n",
       "reported_date                        2022-12-14 15:02:00-07:00\n",
       "incident_address                 E 3RD AVE / N UNIVERSITY BLVD\n",
       "geo_lon                                            -104.959436\n",
       "geo_lat                                              39.720981\n",
       "neighborhood_id                                   Country Club\n",
       "bicycle_ind                                                0.0\n",
       "pedestrian_ind                                             1.0\n",
       "SERIOUSLY_INJURED                                          0.0\n",
       "FATALITIES                                                 0.0\n",
       "sbi                                                      False\n",
       "fatality                                                 False\n",
       "sbi_or_fatality                                          False\n",
       "crash_date_str                                  2022-12-14 Wed\n",
       "crash_time_str                             Wed Dec 14, 3:02 PM\n",
       "crash_year                                                2022\n",
       "crash_day_of_year                                          348\n",
       "one                                                          1\n",
       "Name: 22359, dtype: object"
      ]
     },
     "execution_count": 11,
     "metadata": {},
     "output_type": "execute_result"
    }
   ],
   "source": [
    "df[df.incident_id == 2022639830].squeeze()"
   ]
  },
  {
   "cell_type": "code",
   "execution_count": 8,
   "id": "53038ee6",
   "metadata": {},
   "outputs": [
    {
     "data": {
      "text/plain": [
       "51"
      ]
     },
     "execution_count": 8,
     "metadata": {},
     "output_type": "execute_result"
    }
   ],
   "source": [
    "len(df[df.reported_date.dt.date == datetime.date(2022,12,14)])"
   ]
  },
  {
   "cell_type": "code",
   "execution_count": null,
   "id": "07885012",
   "metadata": {},
   "outputs": [],
   "source": []
  }
 ],
 "metadata": {
  "kernelspec": {
   "display_name": "Python 3 (ipykernel)",
   "language": "python",
   "name": "python3"
  },
  "language_info": {
   "codemirror_mode": {
    "name": "ipython",
    "version": 3
   },
   "file_extension": ".py",
   "mimetype": "text/x-python",
   "name": "python",
   "nbconvert_exporter": "python",
   "pygments_lexer": "ipython3",
   "version": "3.7.1"
  }
 },
 "nbformat": 4,
 "nbformat_minor": 5
}
