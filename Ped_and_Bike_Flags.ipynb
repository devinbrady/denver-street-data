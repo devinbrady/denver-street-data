{
 "cells": [
  {
   "cell_type": "markdown",
   "id": "533f79e6",
   "metadata": {},
   "source": [
    "# Pedestrian and Bicycle Indicated flags\n",
    "\n",
    "When did they start being populated for 2022?"
   ]
  },
  {
   "cell_type": "code",
   "execution_count": 1,
   "id": "dadce8e5",
   "metadata": {},
   "outputs": [],
   "source": [
    "import warnings\n",
    "warnings.filterwarnings('ignore')\n",
    "import os\n",
    "import numpy as np\n",
    "import pandas as pd\n",
    "import matplotlib\n",
    "import matplotlib.pyplot as plt\n",
    "from matplotlib._color_data import BASE_COLORS, TABLEAU_COLORS, CSS4_COLORS, XKCD_COLORS\n",
    "from datetime import datetime, timedelta\n",
    "import pytz\n",
    "import inflect\n",
    "p = inflect.engine()\n",
    "\n",
    "from matplotlib import rc\n",
    "rc('font',**{'family':'sans-serif','sans-serif':['Helvetica']})\n",
    "\n",
    "from crash_data_analysis import CrashDataAnalysis"
   ]
  },
  {
   "cell_type": "code",
   "execution_count": 2,
   "id": "1c19d70f",
   "metadata": {},
   "outputs": [],
   "source": [
    "cda = CrashDataAnalysis()"
   ]
  },
  {
   "cell_type": "code",
   "execution_count": 3,
   "id": "2f7b5e98",
   "metadata": {},
   "outputs": [],
   "source": [
    "files = sorted(os.listdir('data'))\n",
    "csv_files = [f for f in files if '.csv' in f]"
   ]
  },
  {
   "cell_type": "code",
   "execution_count": 4,
   "id": "e083623d",
   "metadata": {},
   "outputs": [
    {
     "name": "stdout",
     "output_type": "stream",
     "text": [
      "denver_crashes_2022_11_05__10_01.csv\n",
      "3.0\n",
      "denver_crashes_2022_11_06__17_00.csv\n",
      "3.0\n",
      "denver_crashes_2022_11_07__09_00.csv\n",
      "3.0\n",
      "denver_crashes_2022_11_08__11_00.csv\n",
      "3.0\n",
      "denver_crashes_2022_11_09__09_00.csv\n",
      "3.0\n",
      "denver_crashes_2022_11_10__09_01.csv\n",
      "3.0\n",
      "denver_crashes_2022_11_11__11_00.csv\n",
      "3.0\n",
      "denver_crashes_2022_11_12__10_00.csv\n",
      "3.0\n",
      "denver_crashes_2022_11_13__09_00.csv\n",
      "3.0\n",
      "denver_crashes_2022_11_14__18_01.csv\n",
      "3.0\n",
      "denver_crashes_2022_11_15__09_00.csv\n",
      "3.0\n",
      "denver_crashes_2022_11_16__09_00.csv\n",
      "3.0\n",
      "denver_crashes_2022_11_17__10_02.csv\n",
      "3.0\n",
      "denver_crashes_2022_11_18__09_01.csv\n",
      "3.0\n",
      "denver_crashes_2022_11_19__13_00.csv\n",
      "3.0\n",
      "denver_crashes_2022_11_20__14_01.csv\n",
      "3.0\n",
      "denver_crashes_2022_11_21__09_00.csv\n",
      "3.0\n",
      "denver_crashes_2022_11_22__13_04.csv\n",
      "3.0\n",
      "denver_crashes_2022_11_23__10_00.csv\n",
      "3.0\n",
      "denver_crashes_2022_11_26__18_00.csv\n",
      "3.0\n",
      "denver_crashes_2022_11_28__11_01.csv\n",
      "3.0\n",
      "denver_crashes_2022_11_29__10_00.csv\n",
      "3.0\n",
      "denver_crashes_2022_11_30__12_00.csv\n",
      "3.0\n",
      "denver_crashes_2022_12_02__12_00.csv\n",
      "159.0\n",
      "denver_crashes_2022_12_03__09_00.csv\n",
      "Text values\n",
      "denver_crashes_2022_12_05__12_00.csv\n",
      "159.0\n",
      "denver_crashes_2022_12_06__14_01.csv\n",
      "159.0\n",
      "denver_crashes_2022_12_07__13_00.csv\n",
      "160.0\n",
      "denver_crashes_2022_12_08__12_00.csv\n",
      "160.0\n",
      "denver_crashes_2022_12_09__13_02.csv\n",
      "162.0\n",
      "denver_crashes_2022_12_10__18_00.csv\n",
      "162.0\n",
      "denver_crashes_2022_12_11__15_01.csv\n",
      "162.0\n",
      "denver_crashes_2022_12_13__09_00.csv\n",
      "165.0\n",
      "denver_crashes_2022_12_14__19_00.csv\n",
      "165.0\n",
      "denver_crashes_2022_12_15__02_10.csv\n",
      "165.0\n",
      "denver_crashes_2022_12_16__14_00.csv\n",
      "165.0\n",
      "denver_crashes_2022_12_17__11_00.csv\n",
      "165.0\n"
     ]
    }
   ],
   "source": [
    "for f in csv_files:\n",
    "    df = cda.crash_dataframe(csv_file=f'data/{f}')\n",
    "    \n",
    "    print(f)\n",
    "    \n",
    "    if df.bicycle_ind.dtype == 'O':\n",
    "        print('Text values')\n",
    "    else:\n",
    "        print(df[df.reported_date.dt.year == 2022].bicycle_ind.sum())"
   ]
  },
  {
   "cell_type": "code",
   "execution_count": null,
   "id": "27cc5e33",
   "metadata": {},
   "outputs": [],
   "source": []
  },
  {
   "cell_type": "code",
   "execution_count": null,
   "id": "4c8c6125",
   "metadata": {},
   "outputs": [],
   "source": []
  }
 ],
 "metadata": {
  "kernelspec": {
   "display_name": "Python 3 (ipykernel)",
   "language": "python",
   "name": "python3"
  },
  "language_info": {
   "codemirror_mode": {
    "name": "ipython",
    "version": 3
   },
   "file_extension": ".py",
   "mimetype": "text/x-python",
   "name": "python",
   "nbconvert_exporter": "python",
   "pygments_lexer": "ipython3",
   "version": "3.7.1"
  }
 },
 "nbformat": 4,
 "nbformat_minor": 5
}
