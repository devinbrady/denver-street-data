{
 "cells": [
  {
   "cell_type": "markdown",
   "id": "c36b6d55",
   "metadata": {},
   "source": [
    "# Crashes on a Street"
   ]
  },
  {
   "cell_type": "code",
   "execution_count": 1,
   "id": "011ba2bc",
   "metadata": {},
   "outputs": [],
   "source": [
    "import pytz\n",
    "import folium\n",
    "from folium.plugins import HeatMap\n",
    "\n",
    "import pandas as pd\n",
    "from datetime import datetime, timedelta\n",
    "from crash_data_analysis import CrashDataAnalysis"
   ]
  },
  {
   "cell_type": "code",
   "execution_count": 2,
   "id": "c2f9d040",
   "metadata": {},
   "outputs": [],
   "source": [
    "cda = CrashDataAnalysis()"
   ]
  },
  {
   "cell_type": "code",
   "execution_count": 3,
   "id": "11cf99ca",
   "metadata": {},
   "outputs": [],
   "source": [
    "start_date = pytz.timezone('America/Denver').localize(datetime(2022,1,1))\n",
    "end_date = pytz.timezone('America/Denver').localize(datetime(2023,1,1))\n",
    "most_recent_crash = cda.most_recent_crash_timestamp()"
   ]
  },
  {
   "cell_type": "code",
   "execution_count": 4,
   "id": "71b10a01",
   "metadata": {},
   "outputs": [],
   "source": [
    "query = f\"\"\"\n",
    "select\n",
    "sr.gid\n",
    ", sr.lrsroute\n",
    ", st_length(sr.geom_denver) / 5280 as length_miles\n",
    ", c.sbi\n",
    ", c.fatality\n",
    ", c.pedestrian_ind\n",
    ", c.bicycle_ind\n",
    ", c.geo_lon\n",
    ", c.geo_lat\n",
    ", c.reported_date\n",
    ", c.reported_date at time zone 'America/Denver' as reported_date_local\n",
    "\n",
    "from street_routes sr\n",
    "inner join crashes c on st_dwithin(sr.geom_denver, c.geom_denver, 25)\n",
    "\n",
    "    where sr.gid = 136 -- E 18th Ave\n",
    "and reported_date at time zone 'America/Denver' > '{start_date.strftime('%Y-%m-%d')}'\n",
    "and reported_date at time zone 'America/Denver' < '{end_date.strftime('%Y-%m-%d')}'\n",
    "\n",
    "order by reported_date desc\n",
    "\"\"\"\n",
    "\n",
    "# where lrsroute ~ '18TH     AV'\n",
    "\n",
    "street_crashes = pd.read_sql(query, cda.conn)"
   ]
  },
  {
   "cell_type": "code",
   "execution_count": 5,
   "id": "301d0f05",
   "metadata": {},
   "outputs": [
    {
     "data": {
      "text/html": [
       "<div>\n",
       "<style scoped>\n",
       "    .dataframe tbody tr th:only-of-type {\n",
       "        vertical-align: middle;\n",
       "    }\n",
       "\n",
       "    .dataframe tbody tr th {\n",
       "        vertical-align: top;\n",
       "    }\n",
       "\n",
       "    .dataframe thead th {\n",
       "        text-align: right;\n",
       "    }\n",
       "</style>\n",
       "<table border=\"1\" class=\"dataframe\">\n",
       "  <thead>\n",
       "    <tr style=\"text-align: right;\">\n",
       "      <th></th>\n",
       "      <th>crashes</th>\n",
       "      <th>fatalities</th>\n",
       "      <th>sbi</th>\n",
       "      <th>pedestrian_ind</th>\n",
       "      <th>bicycle_ind</th>\n",
       "    </tr>\n",
       "    <tr>\n",
       "      <th>reported_date_local</th>\n",
       "      <th></th>\n",
       "      <th></th>\n",
       "      <th></th>\n",
       "      <th></th>\n",
       "      <th></th>\n",
       "    </tr>\n",
       "  </thead>\n",
       "  <tbody>\n",
       "    <tr>\n",
       "      <th>2022</th>\n",
       "      <td>80</td>\n",
       "      <td>0</td>\n",
       "      <td>2</td>\n",
       "      <td>2</td>\n",
       "      <td>1</td>\n",
       "    </tr>\n",
       "  </tbody>\n",
       "</table>\n",
       "</div>"
      ],
      "text/plain": [
       "                     crashes  fatalities  sbi  pedestrian_ind  bicycle_ind\n",
       "reported_date_local                                                       \n",
       "2022                      80           0    2               2            1"
      ]
     },
     "execution_count": 5,
     "metadata": {},
     "output_type": "execute_result"
    }
   ],
   "source": [
    "street_crashes.groupby(street_crashes.reported_date_local.dt.year).agg(\n",
    "    crashes=('reported_date_local', 'count')\n",
    "    , fatalities=('fatality', 'sum')\n",
    "    , sbi=('sbi', 'sum')\n",
    "    , pedestrian_ind=('pedestrian_ind', 'sum')\n",
    "    , bicycle_ind=('bicycle_ind', 'sum')\n",
    ").astype(int)"
   ]
  },
  {
   "cell_type": "code",
   "execution_count": 6,
   "id": "98db0924",
   "metadata": {},
   "outputs": [
    {
     "data": {
      "text/html": [
       "<div style=\"width:100%;\"><div style=\"position:relative;width:100%;height:0;padding-bottom:60%;\"><span style=\"color:#565656\">Make this Notebook Trusted to load map: File -> Trust Notebook</span><iframe srcdoc=\"&lt;!DOCTYPE html&gt;\n",
       "&lt;html&gt;\n",
       "&lt;head&gt;\n",
       "    \n",
       "    &lt;meta http-equiv=&quot;content-type&quot; content=&quot;text/html; charset=UTF-8&quot; /&gt;\n",
       "    \n",
       "        &lt;script&gt;\n",
       "            L_NO_TOUCH = false;\n",
       "            L_DISABLE_3D = false;\n",
       "        &lt;/script&gt;\n",
       "    \n",
       "    &lt;style&gt;html, body {width: 100%;height: 100%;margin: 0;padding: 0;}&lt;/style&gt;\n",
       "    &lt;style&gt;#map {position:absolute;top:0;bottom:0;right:0;left:0;}&lt;/style&gt;\n",
       "    &lt;script src=&quot;https://cdn.jsdelivr.net/npm/leaflet@1.9.3/dist/leaflet.js&quot;&gt;&lt;/script&gt;\n",
       "    &lt;script src=&quot;https://code.jquery.com/jquery-1.12.4.min.js&quot;&gt;&lt;/script&gt;\n",
       "    &lt;script src=&quot;https://cdn.jsdelivr.net/npm/bootstrap@5.2.2/dist/js/bootstrap.bundle.min.js&quot;&gt;&lt;/script&gt;\n",
       "    &lt;script src=&quot;https://cdnjs.cloudflare.com/ajax/libs/Leaflet.awesome-markers/2.0.2/leaflet.awesome-markers.js&quot;&gt;&lt;/script&gt;\n",
       "    &lt;link rel=&quot;stylesheet&quot; href=&quot;https://cdn.jsdelivr.net/npm/leaflet@1.9.3/dist/leaflet.css&quot;/&gt;\n",
       "    &lt;link rel=&quot;stylesheet&quot; href=&quot;https://cdn.jsdelivr.net/npm/bootstrap@5.2.2/dist/css/bootstrap.min.css&quot;/&gt;\n",
       "    &lt;link rel=&quot;stylesheet&quot; href=&quot;https://netdna.bootstrapcdn.com/bootstrap/3.0.0/css/bootstrap.min.css&quot;/&gt;\n",
       "    &lt;link rel=&quot;stylesheet&quot; href=&quot;https://cdn.jsdelivr.net/npm/@fortawesome/fontawesome-free@6.2.0/css/all.min.css&quot;/&gt;\n",
       "    &lt;link rel=&quot;stylesheet&quot; href=&quot;https://cdnjs.cloudflare.com/ajax/libs/Leaflet.awesome-markers/2.0.2/leaflet.awesome-markers.css&quot;/&gt;\n",
       "    &lt;link rel=&quot;stylesheet&quot; href=&quot;https://cdn.jsdelivr.net/gh/python-visualization/folium/folium/templates/leaflet.awesome.rotate.min.css&quot;/&gt;\n",
       "    \n",
       "            &lt;meta name=&quot;viewport&quot; content=&quot;width=device-width,\n",
       "                initial-scale=1.0, maximum-scale=1.0, user-scalable=no&quot; /&gt;\n",
       "            &lt;style&gt;\n",
       "                #map_a53c3686408e925b130e864d2313caa0 {\n",
       "                    position: relative;\n",
       "                    width: 100.0%;\n",
       "                    height: 100.0%;\n",
       "                    left: 0.0%;\n",
       "                    top: 0.0%;\n",
       "                }\n",
       "                .leaflet-container { font-size: 1rem; }\n",
       "            &lt;/style&gt;\n",
       "        \n",
       "    &lt;script src=&quot;https://cdn.jsdelivr.net/gh/python-visualization/folium@main/folium/templates/leaflet_heat.min.js&quot;&gt;&lt;/script&gt;\n",
       "&lt;/head&gt;\n",
       "&lt;body&gt;\n",
       "    \n",
       "    \n",
       "            &lt;div class=&quot;folium-map&quot; id=&quot;map_a53c3686408e925b130e864d2313caa0&quot; &gt;&lt;/div&gt;\n",
       "        \n",
       "&lt;/body&gt;\n",
       "&lt;script&gt;\n",
       "    \n",
       "    \n",
       "            var map_a53c3686408e925b130e864d2313caa0 = L.map(\n",
       "                &quot;map_a53c3686408e925b130e864d2313caa0&quot;,\n",
       "                {\n",
       "                    center: [0, 0],\n",
       "                    crs: L.CRS.EPSG3857,\n",
       "                    zoom: 1,\n",
       "                    zoomControl: true,\n",
       "                    preferCanvas: true,\n",
       "                }\n",
       "            );\n",
       "\n",
       "            \n",
       "\n",
       "        \n",
       "    \n",
       "            var tile_layer_bcaf3bbb24d84edea829df9aa3e4714b = L.tileLayer(\n",
       "                &quot;https://{s}.tile.openstreetmap.org/{z}/{x}/{y}.png&quot;,\n",
       "                {&quot;attribution&quot;: &quot;Data by \\u0026copy; \\u003ca target=\\&quot;_blank\\&quot; href=\\&quot;http://openstreetmap.org\\&quot;\\u003eOpenStreetMap\\u003c/a\\u003e, under \\u003ca target=\\&quot;_blank\\&quot; href=\\&quot;http://www.openstreetmap.org/copyright\\&quot;\\u003eODbL\\u003c/a\\u003e.&quot;, &quot;detectRetina&quot;: false, &quot;maxNativeZoom&quot;: 18, &quot;maxZoom&quot;: 18, &quot;minZoom&quot;: 0, &quot;noWrap&quot;: false, &quot;opacity&quot;: 1, &quot;subdomains&quot;: &quot;abc&quot;, &quot;tms&quot;: false}\n",
       "            ).addTo(map_a53c3686408e925b130e864d2313caa0);\n",
       "        \n",
       "    \n",
       "            var heat_map_99d868213454825050f1e6b7665ee1b3 = L.heatLayer(\n",
       "                [[39.7448006, -104.96346968], [39.74486589, -104.98358668], [39.74486056, -104.97988115], [39.74484399, -104.97614725], [39.74488796, -104.98611854], [39.74488796, -104.98611854], [39.74484743, -104.9775377], [39.74483444, -104.97339125], [39.7448854, -104.98742014], [39.74486043, -104.98484562], [39.74486589, -104.98358668], [39.74486589, -104.98358668], [39.74483429, -104.97090902], [39.74476731, -104.95979281], [39.74484994, -104.9787219], [39.7448176, -104.96721068], [39.74486589, -104.98358668], [39.74486056, -104.97988115], [39.74482316, -104.96783298], [39.74486582, -104.98232067], [39.74486043, -104.98484562], [39.74476731, -104.95979281], [39.74476731, -104.95979281], [39.74487134, -104.98107951], [39.74480926, -104.96597674], [39.74480595, -104.96223563], [39.74484743, -104.9775377], [39.74486582, -104.98232067], [39.74480926, -104.96597674], [39.74486589, -104.98358668], [39.7448854, -104.98742014], [39.74476731, -104.95979281], [39.74484994, -104.9787219], [39.74483515, -104.97477817], [39.74488796, -104.98611854], [39.74480307, -104.9610052], [39.74488796, -104.98611854], [39.74483444, -104.97339125], [39.74476731, -104.95979281], [39.74483515, -104.97477817], [39.74484743, -104.9775377], [39.74486043, -104.98484562], [39.74482869, -104.96844816], [39.74484994, -104.9787219], [39.74486589, -104.98358668], [39.74486584, -104.98295012], [39.74488796, -104.98611854], [39.74483444, -104.97339125], [39.74482326, -104.96967865], [39.74484743, -104.9775377], [39.74488796, -104.98611854], [39.74483444, -104.97339125], [39.74483444, -104.97339125], [39.74483515, -104.97477817], [39.74486589, -104.98358668], [39.74482602, -104.97212531], [39.74483444, -104.97339125], [39.74484399, -104.97614725], [39.74486589, -104.98358668], [39.74483444, -104.97339125], [39.74480921, -104.96475696], [39.74480307, -104.9610052], [39.74486584, -104.98295012], [39.74486584, -104.98295012], [39.74480921, -104.96475696], [39.7448854, -104.98742014], [39.7448854, -104.98742014], [39.7448854, -104.98742014], [39.74484994, -104.9787219], [39.7448176, -104.96721068], [39.74483515, -104.97477817], [39.74480307, -104.9610052], [39.74484451, -104.97687982], [39.74484399, -104.97614725], [39.74487134, -104.98107951], [39.74486589, -104.98358668], [39.74482316, -104.96783298], [39.74483444, -104.97339125], [39.74488525, -104.98675512], [39.74483444, -104.97339125]],\n",
       "                {&quot;blur&quot;: 15, &quot;maxZoom&quot;: 18, &quot;minOpacity&quot;: 0.5, &quot;radius&quot;: 25}\n",
       "            ).addTo(map_a53c3686408e925b130e864d2313caa0);\n",
       "        \n",
       "    \n",
       "            map_a53c3686408e925b130e864d2313caa0.fitBounds(\n",
       "                [[39.74476731, -104.98742014], [39.74488796, -104.95979281]],\n",
       "                {}\n",
       "            );\n",
       "        \n",
       "&lt;/script&gt;\n",
       "&lt;/html&gt;\" style=\"position:absolute;width:100%;height:100%;left:0;top:0;border:none !important;\" allowfullscreen webkitallowfullscreen mozallowfullscreen></iframe></div></div>"
      ],
      "text/plain": [
       "<folium.folium.Map at 0x117e349e8>"
      ]
     },
     "execution_count": 6,
     "metadata": {},
     "output_type": "execute_result"
    }
   ],
   "source": [
    "this_map = folium.Map(prefer_canvas=True)\n",
    "HeatMap(street_crashes[['geo_lat', 'geo_lon']]).add_to(this_map)\n",
    "this_map.fit_bounds(this_map.get_bounds())\n",
    "this_map"
   ]
  },
  {
   "cell_type": "code",
   "execution_count": 7,
   "id": "33fdc1b4",
   "metadata": {},
   "outputs": [],
   "source": [
    "days_in_data = (end_date - start_date).days"
   ]
  },
  {
   "cell_type": "code",
   "execution_count": 8,
   "id": "60108aa3",
   "metadata": {},
   "outputs": [
    {
     "data": {
      "text/plain": [
       "4.5625"
      ]
     },
     "execution_count": 8,
     "metadata": {},
     "output_type": "execute_result"
    }
   ],
   "source": [
    "days_between_crashes = days_in_data / len(street_crashes)\n",
    "days_between_crashes"
   ]
  },
  {
   "cell_type": "code",
   "execution_count": 9,
   "id": "3ffc0974",
   "metadata": {},
   "outputs": [
    {
     "data": {
      "text/plain": [
       "0.9694417262155868"
      ]
     },
     "execution_count": 9,
     "metadata": {},
     "output_type": "execute_result"
    }
   ],
   "source": [
    "crashes_per_mile_per_week = (len(street_crashes) / street_crashes.iloc[0].length_miles) / (days_in_data/7)\n",
    "crashes_per_mile_per_week"
   ]
  },
  {
   "cell_type": "code",
   "execution_count": null,
   "id": "087eacaa",
   "metadata": {},
   "outputs": [],
   "source": []
  }
 ],
 "metadata": {
  "kernelspec": {
   "display_name": "Python 3 (ipykernel)",
   "language": "python",
   "name": "python3"
  },
  "language_info": {
   "codemirror_mode": {
    "name": "ipython",
    "version": 3
   },
   "file_extension": ".py",
   "mimetype": "text/x-python",
   "name": "python",
   "nbconvert_exporter": "python",
   "pygments_lexer": "ipython3",
   "version": "3.7.1"
  }
 },
 "nbformat": 4,
 "nbformat_minor": 5
}
