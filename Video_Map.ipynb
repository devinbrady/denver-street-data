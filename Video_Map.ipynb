{
 "cells": [
  {
   "cell_type": "markdown",
   "metadata": {},
   "source": [
    "# Crash Map Video\n",
    "\n",
    "Make a video showing crashes over time on a map\n",
    "\n",
    "Data source: https://www.denvergov.org/opendata/dataset/city-and-county-of-denver-traffic-accidents\n",
    "\n",
    "Based on: https://medium.com/udacity/creating-map-animations-with-python-97e24040f17b"
   ]
  },
  {
   "cell_type": "code",
   "execution_count": 1,
   "metadata": {},
   "outputs": [],
   "source": [
    "import os\n",
    "import pytz\n",
    "from datetime import datetime, timedelta\n",
    "import matplotlib.pyplot as plt\n",
    "import matplotlib.image as mpimg\n",
    "from matplotlib._color_data import TABLEAU_COLORS\n",
    "\n",
    "import cartopy.crs as ccrs\n",
    "from cartopy.io.img_tiles import OSM, Stamen\n",
    "import pandas as pd\n",
    "from tqdm.notebook import tqdm\n",
    "import geopy\n",
    "import geopy.distance\n",
    "\n",
    "from crash_data_analysis import CrashDataAnalysis\n",
    "cda = CrashDataAnalysis()"
   ]
  },
  {
   "cell_type": "code",
   "execution_count": 2,
   "metadata": {},
   "outputs": [],
   "source": [
    "# East Speer\n",
    "\n",
    "# frame_directory = 'video_speer'\n",
    "# paste_center = [39.726591, -104.986417]\n",
    "# miles_vertical = 0.9\n",
    "# zoom_level = 16"
   ]
  },
  {
   "cell_type": "code",
   "execution_count": 3,
   "metadata": {},
   "outputs": [],
   "source": [
    "# Westwood\n",
    "\n",
    "# frame_directory = 'video_kentucky'\n",
    "# paste_center = [39.70039857002305, -105.03918676552246]\n",
    "# miles_vertical = 1.7\n",
    "# zoom_level = 15"
   ]
  },
  {
   "cell_type": "code",
   "execution_count": 4,
   "metadata": {},
   "outputs": [],
   "source": [
    "# Downtown - Broadway / 20th St / California\n",
    "\n",
    "# frame_directory = 'video_downtown'\n",
    "# paste_center = [39.74891627011233, -104.98736403434121]\n",
    "# miles_vertical = 1.2\n",
    "# zoom_level = 16"
   ]
  },
  {
   "cell_type": "code",
   "execution_count": 5,
   "metadata": {},
   "outputs": [],
   "source": [
    "# CDOT HQ\n",
    "\n",
    "frame_directory = 'video_cdot'\n",
    "paste_center = [39.738465044125576, -105.02321500866896]\n",
    "miles_vertical = 0.5\n",
    "zoom_level = 17"
   ]
  },
  {
   "cell_type": "code",
   "execution_count": 6,
   "metadata": {},
   "outputs": [],
   "source": [
    "mrct = cda.most_recent_crash_timestamp()\n",
    "\n",
    "date_first = pytz.timezone('America/Denver').localize(datetime(2021,4,16))\n",
    "# date_last = datetime(2022,5,1) # df.crash_timestamp.max()\n",
    "date_last = mrct + timedelta(days=28)"
   ]
  },
  {
   "cell_type": "code",
   "execution_count": 7,
   "metadata": {},
   "outputs": [
    {
     "data": {
      "text/plain": [
       "Timestamp('2023-04-16 21:05:00-0600', tz='America/Denver')"
      ]
     },
     "execution_count": 7,
     "metadata": {},
     "output_type": "execute_result"
    }
   ],
   "source": [
    "mrct"
   ]
  },
  {
   "cell_type": "code",
   "execution_count": 8,
   "metadata": {},
   "outputs": [],
   "source": [
    "if not os.path.exists(frame_directory):\n",
    "    os.makedirs(frame_directory)"
   ]
  },
  {
   "cell_type": "code",
   "execution_count": 9,
   "metadata": {},
   "outputs": [],
   "source": [
    "d_vertical = geopy.distance.distance(miles=(miles_vertical)/2)\n",
    "d_horizontal = geopy.distance.distance(miles=(miles_vertical * 1.25)/2)\n",
    "\n",
    "center = geopy.Point(latitude=paste_center[0], longitude=paste_center[1])\n",
    "\n",
    "bounds = {}\n",
    "bounds['left'] = d_horizontal.destination(point=center, bearing=270).longitude\n",
    "bounds['top'] = d_vertical.destination(point=center, bearing=0).latitude\n",
    "bounds['right'] = d_horizontal.destination(point=center, bearing=90).longitude\n",
    "bounds['bottom'] = d_vertical.destination(point=center, bearing=180).latitude"
   ]
  },
  {
   "cell_type": "code",
   "execution_count": 10,
   "metadata": {},
   "outputs": [
    {
     "data": {
      "text/plain": [
       "0.3125"
      ]
     },
     "execution_count": 10,
     "metadata": {},
     "output_type": "execute_result"
    }
   ],
   "source": [
    "square_miles = (miles_vertical * 1.25) * miles_vertical\n",
    "square_miles"
   ]
  },
  {
   "cell_type": "code",
   "execution_count": 11,
   "metadata": {},
   "outputs": [],
   "source": [
    "query = f\"\"\"\n",
    "select \n",
    "*\n",
    ", reported_date at time zone 'America/Denver' as reported_date_local\n",
    "\n",
    "from crashes\n",
    "\n",
    "where {bounds['left']} < geo_lon\n",
    "and geo_lon < {bounds['right']}\n",
    "and {bounds['bottom']} < geo_lat\n",
    "and geo_lat < {bounds['top']}\n",
    "\n",
    "and '{date_first}' <= reported_date at time zone 'America/Denver'\n",
    "and reported_date at time zone 'America/Denver' <= '{date_last}'\n",
    "\n",
    "order by reported_date\n",
    "\"\"\"\n",
    "\n",
    "df_in_bounds = pd.read_sql(query, cda.conn)"
   ]
  },
  {
   "cell_type": "code",
   "execution_count": 12,
   "metadata": {},
   "outputs": [
    {
     "name": "stdout",
     "output_type": "stream",
     "text": [
      "Stats about crash database: \n",
      "Number of crashes: 121\n",
      "Unique IDs: 121\n",
      "Min date: 2021-04-20 13:40:00\n",
      "Max date: 2023-04-16 21:05:00\n"
     ]
    }
   ],
   "source": [
    "print('Stats about crash database: ')\n",
    "print(f'Number of crashes: {len(df_in_bounds):,}')\n",
    "print(f'Unique IDs: {df_in_bounds.incident_id.nunique():,}')\n",
    "print(f'Min date: {df_in_bounds.reported_date_local.min()}')\n",
    "print(f'Max date: {df_in_bounds.reported_date_local.max()}')"
   ]
  },
  {
   "cell_type": "code",
   "execution_count": 13,
   "metadata": {},
   "outputs": [],
   "source": [
    "df_in_bounds['reported_date_local'] = df_in_bounds['reported_date_local'].dt.tz_localize('America/Denver')"
   ]
  },
  {
   "cell_type": "code",
   "execution_count": 14,
   "metadata": {},
   "outputs": [
    {
     "data": {
      "text/plain": [
       "crashes             121.0\n",
       "fatalities            4.0\n",
       "serious_injuries      6.0\n",
       "pedestrians          11.0\n",
       "bicycles              2.0\n",
       "dtype: float64"
      ]
     },
     "execution_count": 14,
     "metadata": {},
     "output_type": "execute_result"
    }
   ],
   "source": [
    "stats_by_date = df_in_bounds.groupby('crash_date').agg(\n",
    "    crashes=('incident_id', 'size')\n",
    "    , fatalities=('fatality', 'sum')\n",
    "    , serious_injuries=('sbi', 'sum')\n",
    "    , pedestrians=('pedestrian_ind', 'sum')\n",
    "    , bicycles=('bicycle_ind', 'sum')\n",
    ")\n",
    "\n",
    "# stats_by_date.to_clipboard()\n",
    "\n",
    "stats_by_date.sum()"
   ]
  },
  {
   "cell_type": "code",
   "execution_count": 15,
   "metadata": {},
   "outputs": [],
   "source": [
    "df_in_bounds['marker_shape'] = 'o' # circle\n",
    "df_in_bounds.loc[df_in_bounds.pedestrian_ind > 0, 'marker_shape'] = 'D' # diamond\n",
    "df_in_bounds.loc[df_in_bounds.bicycle_ind > 0, 'marker_shape'] = 's' # square\n",
    "\n",
    "# https://colorbrewer2.org/#type=diverging&scheme=RdYlBu&n=4\n",
    "# https://colorbrewer2.org/#type=qualitative&scheme=Dark2&n=3\n",
    "colors = {}\n",
    "colors['crashes'] = '#1b9e77' # green\n",
    "colors['serious_injuries'] = '#d95f02' # orange\n",
    "colors['fatalities'] = '#7570b3' # purple\n",
    "\n",
    "df_in_bounds['marker_color'] = colors['crashes']\n",
    "df_in_bounds.loc[df_in_bounds.sbi, 'marker_color'] = colors['serious_injuries']\n",
    "df_in_bounds.loc[df_in_bounds.fatality, 'marker_color'] = colors['fatalities']"
   ]
  },
  {
   "cell_type": "code",
   "execution_count": 16,
   "metadata": {},
   "outputs": [],
   "source": [
    "# Save the base map\n",
    "imagery = Stamen(style='toner-lite', cache=True)"
   ]
  },
  {
   "cell_type": "code",
   "execution_count": 17,
   "metadata": {},
   "outputs": [],
   "source": [
    "fig = plt.figure(figsize=[16,9])\n",
    "fig.subplots_adjust(left=0, bottom=0.05, right=0.7, top=0.95)\n",
    "\n",
    "ax = plt.axes(projection=imagery.crs)\n",
    "ax.add_image(imagery, zoom_level)\n",
    "ax.set_extent((bounds['left'], bounds['right'], bounds['bottom'], bounds['top']))\n",
    "\n",
    "# plt.savefig(f'{frame_directory}/base_map.png', facecolor='white')\n",
    "plt.close()"
   ]
  },
  {
   "cell_type": "code",
   "execution_count": 18,
   "metadata": {},
   "outputs": [],
   "source": [
    "video_date_range = pd.date_range(date_first, date_last, freq='d')"
   ]
  },
  {
   "cell_type": "code",
   "execution_count": 19,
   "metadata": {},
   "outputs": [],
   "source": [
    "def save_one_frame(df, map_date, bounds, zoom_level, frame_filename, colors):\n",
    "    \"\"\"\n",
    "    Save one frame of the video with crashes from that day and previous days\n",
    "    \n",
    "    df : DataFrame containing crashes (already limited to the bounds). If None, only base map is saved\n",
    "    map_date : date for the crashes that will be plotted\n",
    "    bounds : dict containing left (lon), right (lon), top (lat), and bottom (lat) bounds of the map\n",
    "    frame_filename : the filename where to save the frame PNG\n",
    "    colors : dict containing colors for 'crashes', 'serious_injuries', and 'fatalities'\n",
    "    \"\"\"\n",
    "\n",
    "    fig = plt.figure(figsize=[16,9])\n",
    "\n",
    "    fig.subplots_adjust(left=0, bottom=0.05, right=0.7, top=0.95)\n",
    "\n",
    "    ax = plt.axes(projection=imagery.crs)\n",
    "    ax.set_extent((bounds['left'], bounds['right'], bounds['bottom'], bounds['top']))\n",
    "    ax.add_image(imagery, zoom_level)\n",
    "    \n",
    "    plt.gcf().text(\n",
    "        x=0.35\n",
    "        , y=0.53\n",
    "        , s='Colorado Department\\nof Transportation HQ'\n",
    "        , fontsize=14\n",
    "        , font='Menlo'\n",
    "        , color='white'\n",
    "        , backgroundcolor=TABLEAU_COLORS['tab:red']\n",
    "        , horizontalalignment='center'\n",
    "        , verticalalignment='center'\n",
    "    )\n",
    "    \n",
    "    \n",
    "    for days_back in range(27,-1,-1):\n",
    "        \n",
    "        rows_to_plot = df.crash_date == (map_date - timedelta(days=days_back)).strftime('%Y-%m-%d')\n",
    "\n",
    "        if rows_to_plot.sum() > 0:\n",
    "            for m in df[rows_to_plot]['marker_shape'].unique():\n",
    "                for c in df[rows_to_plot]['marker_color'].unique():\n",
    "                    \n",
    "                    # Make the crashes fade out sooner than the injuries and fatalities\n",
    "                    if c == colors['crashes']:\n",
    "                        fill_style='none'\n",
    "                        if days_back >= 14:\n",
    "                            alpha_value = 0\n",
    "                        elif days_back >= 7:\n",
    "                            alpha_value = 0.8 - (0.1 * (days_back - 6))\n",
    "                        else:\n",
    "                            alpha_value = 0.8\n",
    "\n",
    "                    else: # fatalities and serious injuries\n",
    "                        fill_style = 'full'\n",
    "                        if days_back >= 21:\n",
    "                            alpha_value = 0.8 - (0.1 * (days_back - 20))\n",
    "                        else:\n",
    "                            alpha_value = 0.8\n",
    "\n",
    "\n",
    "                    ax.plot(\n",
    "                        df.loc[\n",
    "                            (rows_to_plot) & (df['marker_shape'] == m) & (df['marker_color'] == c)\n",
    "                            , 'geo_lon'\n",
    "                            ].to_numpy()\n",
    "                        , df.loc[\n",
    "                            (rows_to_plot) & (df['marker_shape'] == m) & (df['marker_color'] == c)\n",
    "                            , 'geo_lat'\n",
    "                            ].to_numpy()\n",
    "                        , transform=ccrs.Geodetic()\n",
    "                        , marker=m\n",
    "                        , color=c\n",
    "                        , linestyle=''\n",
    "                        , markersize=(5*(days_back+1)) + 10\n",
    "                        , fillstyle=fill_style\n",
    "                        , markeredgewidth=6\n",
    "                        , alpha=alpha_value\n",
    "                    )\n",
    "\n",
    "\n",
    "    # Do counts of crashes up to map_date\n",
    "    counts = df[df.reported_date_local <= map_date].groupby('crash_date').agg(\n",
    "        crashes=('incident_id', 'size')\n",
    "        , fatalities=('fatality', 'sum')\n",
    "        , serious_injuries=('sbi', 'sum')\n",
    "        , pedestrians=('pedestrian_ind', 'sum')\n",
    "        , bicycles=('bicycle_ind', 'sum')\n",
    "    ).sum()    \n",
    "    \n",
    "    if map_date > mrct:\n",
    "        date_for_legend = mrct.strftime('%Y-%m-%d')\n",
    "    else:\n",
    "        date_for_legend = map_date.strftime('%Y-%m-%d')\n",
    "        \n",
    "    legend = [\n",
    "        ('Date: {}'.format(date_for_legend), 'black', 0.91)\n",
    "        , ('Car crashes:{: 6,.0f}'.format(counts['crashes']), colors['crashes'], 0.78)\n",
    "        , ('Crashes with a       \\nserious injury:{: 6,.0f}'.format(\n",
    "            counts['serious_injuries']), colors['serious_injuries'], 0.6175)\n",
    "        , ('Crashes with a       \\nfatality:{: 6,.0f}'.format(counts['fatalities']), colors['fatalities'], 0.455)\n",
    "        , (u\"\\n\\u25C7 Pedestrian       \\ninvolved:{: 6,.0f}\".format(counts['pedestrians']), 'black', 0.2925)\n",
    "        , (u\"\\n\\u25FB Bicycle       \\ninvolved:{: 6,.0f}\".format(counts['bicycles']), 'black', 0.13)\n",
    "    ]\n",
    "    \n",
    "    for idx, line in enumerate(legend):\n",
    "            \n",
    "        plt.gcf().text(\n",
    "            x=0.97\n",
    "            , y=line[2]\n",
    "            , s=line[0]\n",
    "            , fontsize=26\n",
    "            , horizontalalignment='right'\n",
    "            , verticalalignment='bottom'\n",
    "#             , family='monospace'\n",
    "            , font='Menlo'\n",
    "            , color=line[1]\n",
    "        )\n",
    "\n",
    "    plt.gcf().text(\n",
    "        x=0.97\n",
    "        , y=0.05\n",
    "        , s='Visualization by Devin Brady'\n",
    "        , fontsize=18\n",
    "        , horizontalalignment='right'\n",
    "#         , family='monospace'\n",
    "        , font='Menlo'\n",
    "        , color='black'\n",
    "    )\n",
    "\n",
    "    plt.savefig(frame_filename, facecolor='white')\n",
    "    plt.close()\n",
    "    \n",
    "    return legend"
   ]
  },
  {
   "cell_type": "code",
   "execution_count": 20,
   "metadata": {},
   "outputs": [],
   "source": [
    "# Save the initial map\n",
    "_ = save_one_frame(\n",
    "    pd.DataFrame(columns=df_in_bounds.columns)\n",
    "    , video_date_range[0]\n",
    "    , bounds\n",
    "    , zoom_level\n",
    "    , f'{frame_directory}/initial_map.png'\n",
    "    , colors\n",
    ")"
   ]
  },
  {
   "cell_type": "code",
   "execution_count": 21,
   "metadata": {},
   "outputs": [
    {
     "data": {
      "application/vnd.jupyter.widget-view+json": {
       "model_id": "f9a4d0c41b8b4096ba85e3d803bda166",
       "version_major": 2,
       "version_minor": 0
      },
      "text/plain": [
       "Saving map frames:   0%|          | 0/759 [00:00<?, ?it/s]"
      ]
     },
     "metadata": {},
     "output_type": "display_data"
    }
   ],
   "source": [
    "for counter, d in enumerate(tqdm(video_date_range, 'Saving map frames')):\n",
    "\n",
    "    # only save the last image\n",
    "#     if counter < 364:\n",
    "#         continue\n",
    "    \n",
    "    legend = save_one_frame(df_in_bounds, d, bounds, zoom_level, f'{frame_directory}/frame_{counter:04d}.png', colors)\n"
   ]
  },
  {
   "cell_type": "markdown",
   "metadata": {},
   "source": [
    "## Terminal command "
   ]
  },
  {
   "cell_type": "code",
   "execution_count": 22,
   "metadata": {},
   "outputs": [
    {
     "name": "stdout",
     "output_type": "stream",
     "text": [
      "ffmpeg -framerate 12 -i video_cdot/frame_%4d.png -c:v h264 -r 30 -s 1920x1080 video_cdot/crashes.mp4\n"
     ]
    }
   ],
   "source": [
    "print(\n",
    "    f'ffmpeg -framerate 12 -i {frame_directory}/frame_%4d.png -c:v h264 -r 30 '\n",
    "    + f'-s 1920x1080 {frame_directory}/crashes.mp4'\n",
    ")"
   ]
  },
  {
   "cell_type": "code",
   "execution_count": 23,
   "metadata": {},
   "outputs": [],
   "source": [
    "# import numpy as np\n",
    "# np.linspace(0.75, 0.1, num=5)"
   ]
  },
  {
   "cell_type": "code",
   "execution_count": 24,
   "metadata": {
    "scrolled": true
   },
   "outputs": [],
   "source": [
    "# import matplotlib\n",
    "# matplotlib.font_manager.findSystemFonts(fontpaths=None, fontext='ttf') #[:10]"
   ]
  },
  {
   "cell_type": "code",
   "execution_count": 25,
   "metadata": {},
   "outputs": [
    {
     "name": "stdout",
     "output_type": "stream",
     "text": [
      "Date: 2023-04-16\n",
      "Car crashes:   121\n",
      "Crashes with a       \n",
      "serious injury:     6\n",
      "Crashes with a       \n",
      "fatality:     4\n",
      "\n",
      "◇ Pedestrian       \n",
      "involved:    11\n",
      "\n",
      "◻ Bicycle       \n",
      "involved:     2\n"
     ]
    }
   ],
   "source": [
    "for leg in legend:\n",
    "    print(leg[0])"
   ]
  },
  {
   "cell_type": "code",
   "execution_count": 27,
   "metadata": {},
   "outputs": [
    {
     "data": {
      "text/html": [
       "<div>\n",
       "<style scoped>\n",
       "    .dataframe tbody tr th:only-of-type {\n",
       "        vertical-align: middle;\n",
       "    }\n",
       "\n",
       "    .dataframe tbody tr th {\n",
       "        vertical-align: top;\n",
       "    }\n",
       "\n",
       "    .dataframe thead th {\n",
       "        text-align: right;\n",
       "    }\n",
       "</style>\n",
       "<table border=\"1\" class=\"dataframe\">\n",
       "  <thead>\n",
       "    <tr style=\"text-align: right;\">\n",
       "      <th></th>\n",
       "      <th>incident_id</th>\n",
       "      <th>top_traffic_accident_offense</th>\n",
       "      <th>reported_date</th>\n",
       "      <th>incident_address_corrected</th>\n",
       "      <th>at_freeway</th>\n",
       "      <th>geo_lon</th>\n",
       "      <th>geo_lat</th>\n",
       "      <th>neighborhood_id</th>\n",
       "      <th>bicycle_ind</th>\n",
       "      <th>pedestrian_ind</th>\n",
       "      <th>...</th>\n",
       "      <th>crash_date</th>\n",
       "      <th>crash_date_str</th>\n",
       "      <th>crash_time_str</th>\n",
       "      <th>crash_year</th>\n",
       "      <th>crash_day_of_year</th>\n",
       "      <th>geom</th>\n",
       "      <th>geom_denver</th>\n",
       "      <th>reported_date_local</th>\n",
       "      <th>marker_shape</th>\n",
       "      <th>marker_color</th>\n",
       "    </tr>\n",
       "  </thead>\n",
       "  <tbody>\n",
       "    <tr>\n",
       "      <th>83</th>\n",
       "      <td>2022422591</td>\n",
       "      <td>TRAF - ACCIDENT - FATAL</td>\n",
       "      <td>2022-08-18 04:38:00.000001+00:00</td>\n",
       "      <td>2800 BLOCK W COLFAX AVE</td>\n",
       "      <td>False</td>\n",
       "      <td>-105.024140</td>\n",
       "      <td>39.740342</td>\n",
       "      <td>Sun Valley</td>\n",
       "      <td>0.0</td>\n",
       "      <td>1.0</td>\n",
       "      <td>...</td>\n",
       "      <td>2022-08-17</td>\n",
       "      <td>2022-08-17 Wed</td>\n",
       "      <td>Wed Aug 17, 10:38 PM</td>\n",
       "      <td>2022</td>\n",
       "      <td>229</td>\n",
       "      <td>0101000020E6100000AD2D02848B415AC0B43EC48AC3DE...</td>\n",
       "      <td>0101000020AE0D00005AADF97FBEE84741D534A3FFB3DC...</td>\n",
       "      <td>2022-08-17 22:38:00.000001-06:00</td>\n",
       "      <td>D</td>\n",
       "      <td>#7570b3</td>\n",
       "    </tr>\n",
       "    <tr>\n",
       "      <th>105</th>\n",
       "      <td>202370909</td>\n",
       "      <td>TRAF - ACCIDENT - FATAL</td>\n",
       "      <td>2023-02-09 01:15:00+00:00</td>\n",
       "      <td>1300 BLOCK N FEDERAL BLVD</td>\n",
       "      <td>False</td>\n",
       "      <td>-105.025075</td>\n",
       "      <td>39.737351</td>\n",
       "      <td>Sun Valley</td>\n",
       "      <td>0.0</td>\n",
       "      <td>1.0</td>\n",
       "      <td>...</td>\n",
       "      <td>2023-02-08</td>\n",
       "      <td>2023-02-08 Wed</td>\n",
       "      <td>Wed Feb 8, 6:15 PM</td>\n",
       "      <td>2023</td>\n",
       "      <td>39</td>\n",
       "      <td>0101000020E6100000AB5D13D29A415AC09E68EC8561DE...</td>\n",
       "      <td>0101000020AE0D0000510007003EE847410F5B550071D8...</td>\n",
       "      <td>2023-02-08 18:15:00-07:00</td>\n",
       "      <td>D</td>\n",
       "      <td>#7570b3</td>\n",
       "    </tr>\n",
       "    <tr>\n",
       "      <th>115</th>\n",
       "      <td>2023153590</td>\n",
       "      <td>TRAF - ACCIDENT - FATAL</td>\n",
       "      <td>2023-03-25 02:48:00+00:00</td>\n",
       "      <td>N FEDERAL BLVD / W 14TH AVE</td>\n",
       "      <td>False</td>\n",
       "      <td>-105.025152</td>\n",
       "      <td>39.738005</td>\n",
       "      <td>Sun Valley</td>\n",
       "      <td>0.0</td>\n",
       "      <td>1.0</td>\n",
       "      <td>...</td>\n",
       "      <td>2023-03-24</td>\n",
       "      <td>2023-03-24 Fri</td>\n",
       "      <td>Fri Mar 24, 8:48 PM</td>\n",
       "      <td>2023</td>\n",
       "      <td>83</td>\n",
       "      <td>0101000020E61000008C088C169C415AC00B8563F176DE...</td>\n",
       "      <td>0101000020AE0D0000FC58F77F32E847412F2DDFFF5ED9...</td>\n",
       "      <td>2023-03-24 20:48:00-06:00</td>\n",
       "      <td>D</td>\n",
       "      <td>#7570b3</td>\n",
       "    </tr>\n",
       "    <tr>\n",
       "      <th>120</th>\n",
       "      <td>2023197148</td>\n",
       "      <td>TRAF - ACCIDENT - FATAL</td>\n",
       "      <td>2023-04-17 03:05:00+00:00</td>\n",
       "      <td>N FEDERAL BLVD / W 14TH AVE</td>\n",
       "      <td>False</td>\n",
       "      <td>-105.025152</td>\n",
       "      <td>39.738005</td>\n",
       "      <td>Sun Valley</td>\n",
       "      <td>0.0</td>\n",
       "      <td>1.0</td>\n",
       "      <td>...</td>\n",
       "      <td>2023-04-16</td>\n",
       "      <td>2023-04-16 Sun</td>\n",
       "      <td>Sun Apr 16, 9:05 PM</td>\n",
       "      <td>2023</td>\n",
       "      <td>106</td>\n",
       "      <td>0101000020E61000008C088C169C415AC00B8563F176DE...</td>\n",
       "      <td>0101000020AE0D0000FC58F77F32E847412F2DDFFF5ED9...</td>\n",
       "      <td>2023-04-16 21:05:00-06:00</td>\n",
       "      <td>D</td>\n",
       "      <td>#7570b3</td>\n",
       "    </tr>\n",
       "  </tbody>\n",
       "</table>\n",
       "<p>4 rows × 24 columns</p>\n",
       "</div>"
      ],
      "text/plain": [
       "     incident_id    top_traffic_accident_offense   \n",
       "83    2022422591  TRAF - ACCIDENT - FATAL         \\\n",
       "105    202370909  TRAF - ACCIDENT - FATAL          \n",
       "115   2023153590  TRAF - ACCIDENT - FATAL          \n",
       "120   2023197148  TRAF - ACCIDENT - FATAL          \n",
       "\n",
       "                       reported_date   incident_address_corrected  at_freeway   \n",
       "83  2022-08-18 04:38:00.000001+00:00      2800 BLOCK W COLFAX AVE       False  \\\n",
       "105        2023-02-09 01:15:00+00:00    1300 BLOCK N FEDERAL BLVD       False   \n",
       "115        2023-03-25 02:48:00+00:00  N FEDERAL BLVD / W 14TH AVE       False   \n",
       "120        2023-04-17 03:05:00+00:00  N FEDERAL BLVD / W 14TH AVE       False   \n",
       "\n",
       "        geo_lon    geo_lat neighborhood_id  bicycle_ind  pedestrian_ind  ...   \n",
       "83  -105.024140  39.740342      Sun Valley          0.0             1.0  ...  \\\n",
       "105 -105.025075  39.737351      Sun Valley          0.0             1.0  ...   \n",
       "115 -105.025152  39.738005      Sun Valley          0.0             1.0  ...   \n",
       "120 -105.025152  39.738005      Sun Valley          0.0             1.0  ...   \n",
       "\n",
       "     crash_date  crash_date_str        crash_time_str  crash_year   \n",
       "83   2022-08-17  2022-08-17 Wed  Wed Aug 17, 10:38 PM        2022  \\\n",
       "105  2023-02-08  2023-02-08 Wed    Wed Feb 8, 6:15 PM        2023   \n",
       "115  2023-03-24  2023-03-24 Fri   Fri Mar 24, 8:48 PM        2023   \n",
       "120  2023-04-16  2023-04-16 Sun   Sun Apr 16, 9:05 PM        2023   \n",
       "\n",
       "    crash_day_of_year                                               geom   \n",
       "83                229  0101000020E6100000AD2D02848B415AC0B43EC48AC3DE...  \\\n",
       "105                39  0101000020E6100000AB5D13D29A415AC09E68EC8561DE...   \n",
       "115                83  0101000020E61000008C088C169C415AC00B8563F176DE...   \n",
       "120               106  0101000020E61000008C088C169C415AC00B8563F176DE...   \n",
       "\n",
       "                                           geom_denver   \n",
       "83   0101000020AE0D00005AADF97FBEE84741D534A3FFB3DC...  \\\n",
       "105  0101000020AE0D0000510007003EE847410F5B550071D8...   \n",
       "115  0101000020AE0D0000FC58F77F32E847412F2DDFFF5ED9...   \n",
       "120  0101000020AE0D0000FC58F77F32E847412F2DDFFF5ED9...   \n",
       "\n",
       "                 reported_date_local  marker_shape marker_color  \n",
       "83  2022-08-17 22:38:00.000001-06:00             D      #7570b3  \n",
       "105        2023-02-08 18:15:00-07:00             D      #7570b3  \n",
       "115        2023-03-24 20:48:00-06:00             D      #7570b3  \n",
       "120        2023-04-16 21:05:00-06:00             D      #7570b3  \n",
       "\n",
       "[4 rows x 24 columns]"
      ]
     },
     "execution_count": 27,
     "metadata": {},
     "output_type": "execute_result"
    }
   ],
   "source": [
    "df_in_bounds[df_in_bounds.fatality]"
   ]
  },
  {
   "cell_type": "code",
   "execution_count": null,
   "metadata": {},
   "outputs": [],
   "source": []
  }
 ],
 "metadata": {
  "kernelspec": {
   "display_name": "Python 3 (ipykernel)",
   "language": "python",
   "name": "python3"
  },
  "language_info": {
   "codemirror_mode": {
    "name": "ipython",
    "version": 3
   },
   "file_extension": ".py",
   "mimetype": "text/x-python",
   "name": "python",
   "nbconvert_exporter": "python",
   "pygments_lexer": "ipython3",
   "version": "3.10.3"
  }
 },
 "nbformat": 4,
 "nbformat_minor": 2
}
