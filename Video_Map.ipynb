{
 "cells": [
  {
   "cell_type": "markdown",
   "metadata": {},
   "source": [
    "# Crash Map Video\n",
    "\n",
    "Make a video showing crashes over time on a map\n",
    "\n",
    "Data source: https://www.denvergov.org/opendata/dataset/city-and-county-of-denver-traffic-accidents\n",
    "\n",
    "Based on: https://medium.com/udacity/creating-map-animations-with-python-97e24040f17b"
   ]
  },
  {
   "cell_type": "code",
   "execution_count": 1,
   "metadata": {},
   "outputs": [],
   "source": [
    "import os\n",
    "from datetime import datetime, timedelta\n",
    "import matplotlib.pyplot as plt\n",
    "import matplotlib.image as mpimg\n",
    "\n",
    "import cartopy.crs as ccrs\n",
    "from cartopy.io.img_tiles import OSM, Stamen\n",
    "import pandas as pd\n",
    "from tqdm.notebook import tqdm\n",
    "import geopy\n",
    "import geopy.distance\n",
    "\n",
    "from crash_data_analysis import CrashDataAnalysis\n",
    "cda = CrashDataAnalysis()"
   ]
  },
  {
   "cell_type": "code",
   "execution_count": 2,
   "metadata": {},
   "outputs": [],
   "source": [
    "# East Speer\n",
    "\n",
    "# frame_directory = 'video_speer'\n",
    "# paste_center = [39.726591, -104.986417]\n",
    "# miles_vertical = 0.9\n",
    "# zoom_level = 16"
   ]
  },
  {
   "cell_type": "code",
   "execution_count": 3,
   "metadata": {},
   "outputs": [],
   "source": [
    "# Westwood\n",
    "\n",
    "# frame_directory = 'video_kentucky'\n",
    "# paste_center = [39.70039857002305, -105.03918676552246]\n",
    "# miles_vertical = 1.7\n",
    "# zoom_level = 15"
   ]
  },
  {
   "cell_type": "code",
   "execution_count": 4,
   "metadata": {},
   "outputs": [],
   "source": [
    "# Downtown - Broadway / 20th St / California\n",
    "\n",
    "# frame_directory = 'video_downtown'\n",
    "# paste_center = [39.74891627011233, -104.98736403434121]\n",
    "# miles_vertical = 1.2\n",
    "# zoom_level = 16"
   ]
  },
  {
   "cell_type": "code",
   "execution_count": 5,
   "metadata": {},
   "outputs": [],
   "source": [
    "# CDOT HQ\n",
    "\n",
    "frame_directory = 'video_federal'\n",
    "paste_center = [39.73802448372717, -105.02517462078]\n",
    "miles_vertical = 0.5\n",
    "zoom_level = 17"
   ]
  },
  {
   "cell_type": "code",
   "execution_count": 6,
   "metadata": {},
   "outputs": [],
   "source": [
    "date_first = datetime(2022,1,1)\n",
    "date_last = datetime(2022,12,31) # df.crash_timestamp.max()"
   ]
  },
  {
   "cell_type": "code",
   "execution_count": 7,
   "metadata": {},
   "outputs": [],
   "source": [
    "if not os.path.exists(frame_directory):\n",
    "    os.makedirs(frame_directory)"
   ]
  },
  {
   "cell_type": "code",
   "execution_count": 8,
   "metadata": {},
   "outputs": [],
   "source": [
    "d_vertical = geopy.distance.distance(miles=(miles_vertical)/2)\n",
    "d_horizontal = geopy.distance.distance(miles=(miles_vertical * 1.25)/2)\n",
    "\n",
    "center = geopy.Point(latitude=paste_center[0], longitude=paste_center[1])\n",
    "\n",
    "bounds = {}\n",
    "bounds['left'] = d_horizontal.destination(point=center, bearing=270).longitude\n",
    "bounds['top'] = d_vertical.destination(point=center, bearing=0).latitude\n",
    "bounds['right'] = d_horizontal.destination(point=center, bearing=90).longitude\n",
    "bounds['bottom'] = d_vertical.destination(point=center, bearing=180).latitude"
   ]
  },
  {
   "cell_type": "code",
   "execution_count": 9,
   "metadata": {},
   "outputs": [
    {
     "data": {
      "text/plain": [
       "0.3125"
      ]
     },
     "execution_count": 9,
     "metadata": {},
     "output_type": "execute_result"
    }
   ],
   "source": [
    "square_miles = (miles_vertical * 1.25) * miles_vertical\n",
    "square_miles"
   ]
  },
  {
   "cell_type": "code",
   "execution_count": 10,
   "metadata": {},
   "outputs": [],
   "source": [
    "query = f\"\"\"\n",
    "select \n",
    "*\n",
    ", reported_date at time zone 'America/Denver' as reported_date_local\n",
    "\n",
    "from crashes\n",
    "\n",
    "where {bounds['left']} < geo_lon\n",
    "and geo_lon < {bounds['right']}\n",
    "and {bounds['bottom']} < geo_lat\n",
    "and geo_lat < {bounds['top']}\n",
    "\n",
    "and '{date_first}' <= reported_date at time zone 'America/Denver'\n",
    "and reported_date at time zone 'America/Denver' <= '{date_last}'\n",
    "\n",
    "order by reported_date\n",
    "\"\"\"\n",
    "\n",
    "df_in_bounds = pd.read_sql(query, cda.conn)"
   ]
  },
  {
   "cell_type": "code",
   "execution_count": 11,
   "metadata": {},
   "outputs": [
    {
     "name": "stdout",
     "output_type": "stream",
     "text": [
      "Stats about crash database: \n",
      "Number of crashes: 69\n",
      "Unique IDs: 69\n",
      "Min date: 2022-01-03 16:01:00\n",
      "Max date: 2022-12-27 21:53:00.000001\n"
     ]
    }
   ],
   "source": [
    "print('Stats about crash database: ')\n",
    "print(f'Number of crashes: {len(df_in_bounds):,}')\n",
    "print(f'Unique IDs: {df_in_bounds.incident_id.nunique():,}')\n",
    "print(f'Min date: {df_in_bounds.reported_date_local.min()}')\n",
    "print(f'Max date: {df_in_bounds.reported_date_local.max()}')"
   ]
  },
  {
   "cell_type": "code",
   "execution_count": 12,
   "metadata": {},
   "outputs": [
    {
     "data": {
      "text/plain": [
       "crashes             69.0\n",
       "fatalities           1.0\n",
       "serious_injuries     3.0\n",
       "pedestrians          4.0\n",
       "bicycles             1.0\n",
       "dtype: float64"
      ]
     },
     "execution_count": 12,
     "metadata": {},
     "output_type": "execute_result"
    }
   ],
   "source": [
    "stats_by_date = df_in_bounds.groupby('crash_date').agg(\n",
    "    crashes=('incident_id', 'size')\n",
    "    , fatalities=('fatality', 'sum')\n",
    "    , serious_injuries=('sbi', 'sum')\n",
    "    , pedestrians=('pedestrian_ind', 'sum')\n",
    "    , bicycles=('bicycle_ind', 'sum')\n",
    ")\n",
    "\n",
    "# stats_by_date.to_clipboard()\n",
    "\n",
    "stats_by_date.sum()"
   ]
  },
  {
   "cell_type": "code",
   "execution_count": 13,
   "metadata": {},
   "outputs": [],
   "source": [
    "df_in_bounds['marker_shape'] = 'o' # circle\n",
    "df_in_bounds.loc[df_in_bounds.pedestrian_ind > 0, 'marker_shape'] = 'D' # diamond\n",
    "df_in_bounds.loc[df_in_bounds.bicycle_ind > 0, 'marker_shape'] = 's' # square\n",
    "\n",
    "# https://colorbrewer2.org/#type=diverging&scheme=RdYlBu&n=4\n",
    "# https://colorbrewer2.org/#type=qualitative&scheme=Dark2&n=3\n",
    "colors = {}\n",
    "colors['crashes'] = '#1b9e77' # green\n",
    "colors['serious_injuries'] = '#d95f02' # orange\n",
    "colors['fatalities'] = '#7570b3' # purple\n",
    "\n",
    "df_in_bounds['marker_color'] = colors['crashes']\n",
    "df_in_bounds.loc[df_in_bounds.sbi, 'marker_color'] = colors['serious_injuries']\n",
    "df_in_bounds.loc[df_in_bounds.fatality, 'marker_color'] = colors['fatalities']"
   ]
  },
  {
   "cell_type": "code",
   "execution_count": 14,
   "metadata": {},
   "outputs": [],
   "source": [
    "# Save the base map\n",
    "imagery = Stamen(style='toner-lite', cache=True)"
   ]
  },
  {
   "cell_type": "code",
   "execution_count": 15,
   "metadata": {},
   "outputs": [],
   "source": [
    "fig = plt.figure(figsize=[16,9])\n",
    "fig.subplots_adjust(left=0, bottom=0.05, right=0.7, top=0.95)\n",
    "\n",
    "ax = plt.axes(projection=imagery.crs)\n",
    "ax.add_image(imagery, zoom_level)\n",
    "ax.set_extent((bounds['left'], bounds['right'], bounds['bottom'], bounds['top']))\n",
    "\n",
    "# plt.savefig(f'{frame_directory}/base_map.png', facecolor='white')\n",
    "plt.close()"
   ]
  },
  {
   "cell_type": "code",
   "execution_count": 16,
   "metadata": {},
   "outputs": [],
   "source": [
    "def save_one_frame(df, map_date, bounds, zoom_level, frame_filename, colors):\n",
    "    \"\"\"\n",
    "    Save one frame of the video with crashes from that day and previous days\n",
    "    \n",
    "    df : DataFrame containing crashes (already limited to the bounds). If None, only base map is saved\n",
    "    map_date : date for the crashes that will be plotted\n",
    "    bounds : dict containing left (lon), right (lon), top (lat), and bottom (lat) bounds of the map\n",
    "    frame_filename : the filename where to save the frame PNG\n",
    "    colors : dict containing colors for 'crashes', 'serious_injuries', and 'fatalities'\n",
    "    \"\"\"\n",
    "\n",
    "    fig = plt.figure(figsize=[16,9])\n",
    "\n",
    "    fig.subplots_adjust(left=0, bottom=0.05, right=0.7, top=0.95)\n",
    "\n",
    "    ax = plt.axes(projection=imagery.crs)\n",
    "    ax.set_extent((bounds['left'], bounds['right'], bounds['bottom'], bounds['top']))\n",
    "    ax.add_image(imagery, zoom_level)\n",
    "    \n",
    "    for days_back in range(27,-1,-1):\n",
    "        \n",
    "        rows_to_plot = df.crash_date == (map_date - timedelta(days=days_back)).strftime('%Y-%m-%d')\n",
    "\n",
    "        if rows_to_plot.sum() > 0:\n",
    "            for m in df[rows_to_plot]['marker_shape'].unique():\n",
    "                for c in df[rows_to_plot]['marker_color'].unique():\n",
    "                    \n",
    "                    # Make the crashes fade out sooner than the injuries and fatalities\n",
    "                    if c == colors['crashes']:\n",
    "                        fill_style='none'\n",
    "                        if days_back >= 14:\n",
    "                            alpha_value = 0\n",
    "                        elif days_back >= 7:\n",
    "                            alpha_value = 0.8 - (0.1 * (days_back - 6))\n",
    "                        else:\n",
    "                            alpha_value = 0.8\n",
    "\n",
    "                    else: # fatalities and serious injuries\n",
    "                        fill_style = 'full'\n",
    "                        if days_back >= 21:\n",
    "                            alpha_value = 0.8 - (0.1 * (days_back - 20))\n",
    "                        else:\n",
    "                            alpha_value = 0.8\n",
    "\n",
    "\n",
    "                    ax.plot(\n",
    "                        df.loc[\n",
    "                            (rows_to_plot) & (df['marker_shape'] == m) & (df['marker_color'] == c)\n",
    "                            , 'geo_lon'\n",
    "                            ].to_numpy()\n",
    "                        , df.loc[\n",
    "                            (rows_to_plot) & (df['marker_shape'] == m) & (df['marker_color'] == c)\n",
    "                            , 'geo_lat'\n",
    "                            ].to_numpy()\n",
    "                        , transform=ccrs.Geodetic()\n",
    "                        , marker=m\n",
    "                        , color=c\n",
    "                        , linestyle=''\n",
    "                        , markersize=(5*(days_back+1)) + 10\n",
    "                        , fillstyle=fill_style\n",
    "                        , markeredgewidth=6\n",
    "                        , alpha=alpha_value\n",
    "                    )\n",
    "\n",
    "\n",
    "    # Do counts of crashes up to map_date\n",
    "    counts = df[df.reported_date_local <= map_date].groupby('crash_date').agg(\n",
    "        crashes=('incident_id', 'size')\n",
    "        , fatalities=('fatality', 'sum')\n",
    "        , serious_injuries=('sbi', 'sum')\n",
    "        , pedestrians=('pedestrian_ind', 'sum')\n",
    "        , bicycles=('bicycle_ind', 'sum')\n",
    "    ).sum()    \n",
    "    \n",
    "    legend = [\n",
    "        ('Date: {}'.format(map_date.strftime('%Y-%m-%d')), 'black', 0.91)\n",
    "        , ('Car crashes:{: 6,.0f}'.format(counts['crashes']), colors['crashes'], 0.78)\n",
    "        , ('Crashes with a       \\nserious injury:{: 6,.0f}'.format(\n",
    "            counts['serious_injuries']), colors['serious_injuries'], 0.6175)\n",
    "        , ('Crashes with a       \\nfatality:{: 6,.0f}'.format(counts['fatalities']), colors['fatalities'], 0.455)\n",
    "        , (u\"\\n\\u25C7 Pedestrian       \\ninvolved:{: 6,.0f}\".format(counts['pedestrians']), 'black', 0.2925)\n",
    "        , (u\"\\n\\u25FB Bicycle       \\ninvolved:{: 6,.0f}\".format(counts['bicycles']), 'black', 0.13)\n",
    "    ]\n",
    "    \n",
    "    for idx, line in enumerate(legend):\n",
    "            \n",
    "        plt.gcf().text(\n",
    "            x=0.97\n",
    "            , y=line[2]\n",
    "            , s=line[0]\n",
    "            , fontsize=26\n",
    "            , horizontalalignment='right'\n",
    "            , verticalalignment='bottom'\n",
    "#             , family='monospace'\n",
    "            , font='Menlo'\n",
    "            , color=line[1]\n",
    "        )\n",
    "\n",
    "    plt.gcf().text(\n",
    "        x=0.97\n",
    "        , y=0.05\n",
    "        , s='Visualization by Devin Brady'\n",
    "        , fontsize=18\n",
    "        , horizontalalignment='right'\n",
    "#         , family='monospace'\n",
    "        , font='Menlo'\n",
    "        , color='black'\n",
    "    )\n",
    "\n",
    "    plt.savefig(frame_filename, facecolor='white')\n",
    "    plt.close()\n",
    "    \n",
    "    return legend"
   ]
  },
  {
   "cell_type": "code",
   "execution_count": 17,
   "metadata": {},
   "outputs": [
    {
     "data": {
      "application/vnd.jupyter.widget-view+json": {
       "model_id": "b95cd250ccf94340aa870890c73effdb",
       "version_major": 2,
       "version_minor": 0
      },
      "text/plain": [
       "Saving map frames:   0%|          | 0/365 [00:00<?, ?it/s]"
      ]
     },
     "metadata": {},
     "output_type": "display_data"
    }
   ],
   "source": [
    "video_date_range = pd.date_range(date_first,date_last,freq='d')\n",
    "\n",
    "for counter, d in enumerate(tqdm(video_date_range, 'Saving map frames')):\n",
    "\n",
    "    # only save the last image\n",
    "#     if counter < 364:\n",
    "#         continue\n",
    "    \n",
    "    legend = save_one_frame(df_in_bounds, d, bounds, zoom_level, f'{frame_directory}/frame_{counter:04d}.png', colors)\n",
    "\n"
   ]
  },
  {
   "cell_type": "code",
   "execution_count": 18,
   "metadata": {},
   "outputs": [],
   "source": [
    "# Save the initial map\n",
    "_ = save_one_frame(\n",
    "    pd.DataFrame(columns=df_in_bounds.columns)\n",
    "    , video_date_range[0]\n",
    "    , bounds\n",
    "    , zoom_level\n",
    "    , f'{frame_directory}/initial_map.png'\n",
    "    , colors\n",
    ")"
   ]
  },
  {
   "cell_type": "code",
   "execution_count": 19,
   "metadata": {},
   "outputs": [],
   "source": [
    "# df_in_bounds.info()"
   ]
  },
  {
   "cell_type": "markdown",
   "metadata": {},
   "source": [
    "## Terminal command "
   ]
  },
  {
   "cell_type": "code",
   "execution_count": 23,
   "metadata": {},
   "outputs": [
    {
     "name": "stdout",
     "output_type": "stream",
     "text": [
      "ffmpeg -framerate 12 -i video_federal/frame_%4d.png -c:v h264 -r 30 -s 1920x1080 video_federal/crashes.mp4\n"
     ]
    }
   ],
   "source": [
    "print(\n",
    "    f'ffmpeg -framerate 12 -i {frame_directory}/frame_%4d.png -c:v h264 -r 30 '\n",
    "    + f'-s 1920x1080 {frame_directory}/crashes.mp4'\n",
    ")"
   ]
  },
  {
   "cell_type": "code",
   "execution_count": 20,
   "metadata": {},
   "outputs": [],
   "source": [
    "# import numpy as np\n",
    "# np.linspace(0.75, 0.1, num=5)"
   ]
  },
  {
   "cell_type": "code",
   "execution_count": 21,
   "metadata": {
    "scrolled": true
   },
   "outputs": [],
   "source": [
    "# import matplotlib\n",
    "# matplotlib.font_manager.findSystemFonts(fontpaths=None, fontext='ttf') #[:10]"
   ]
  },
  {
   "cell_type": "code",
   "execution_count": 22,
   "metadata": {},
   "outputs": [
    {
     "name": "stdout",
     "output_type": "stream",
     "text": [
      "Date: 2022-12-31\n",
      "Car crashes:    69\n",
      "Crashes with a       \n",
      "serious injury:     3\n",
      "Crashes with a       \n",
      "fatality:     1\n",
      "\n",
      "◇ Pedestrian       \n",
      "involved:     4\n",
      "\n",
      "◻ Bicycle       \n",
      "involved:     1\n"
     ]
    }
   ],
   "source": [
    "for leg in legend:\n",
    "    print(leg[0])"
   ]
  },
  {
   "cell_type": "code",
   "execution_count": null,
   "metadata": {},
   "outputs": [],
   "source": []
  }
 ],
 "metadata": {
  "kernelspec": {
   "display_name": "Python 3 (ipykernel)",
   "language": "python",
   "name": "python3"
  },
  "language_info": {
   "codemirror_mode": {
    "name": "ipython",
    "version": 3
   },
   "file_extension": ".py",
   "mimetype": "text/x-python",
   "name": "python",
   "nbconvert_exporter": "python",
   "pygments_lexer": "ipython3",
   "version": "3.7.1"
  }
 },
 "nbformat": 4,
 "nbformat_minor": 2
}
