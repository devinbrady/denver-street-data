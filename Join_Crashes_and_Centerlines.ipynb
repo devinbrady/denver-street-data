{
 "cells": [
  {
   "cell_type": "markdown",
   "metadata": {},
   "source": [
    "Join the crash dataset to the street centerline dataset. "
   ]
  },
  {
   "cell_type": "code",
   "execution_count": 1,
   "metadata": {},
   "outputs": [],
   "source": [
    "import warnings\n",
    "warnings.filterwarnings('ignore')\n",
    "\n",
    "from tqdm import tqdm\n",
    "import numpy as np\n",
    "import pandas as pd\n",
    "import geopandas as gpd\n",
    "import matplotlib.pyplot as plt\n",
    "from shapely.geometry import Point\n",
    "\n",
    "pd.set_option('display.max_rows', 100)\n",
    "pd.set_option('max_colwidth', 200)"
   ]
  },
  {
   "cell_type": "code",
   "execution_count": 2,
   "metadata": {},
   "outputs": [],
   "source": [
    "denver_crs = 3502\n",
    "web_crs = 4326"
   ]
  },
  {
   "cell_type": "code",
   "execution_count": 3,
   "metadata": {},
   "outputs": [],
   "source": [
    "from crash_data_analysis import CrashDataAnalysis\n",
    "cda = CrashDataAnalysis()\n",
    "df = cda.crash_dataframe()"
   ]
  },
  {
   "cell_type": "code",
   "execution_count": 4,
   "metadata": {},
   "outputs": [],
   "source": [
    "df = df[df.geo_lon.notnull()].reset_index().copy()"
   ]
  },
  {
   "cell_type": "code",
   "execution_count": 5,
   "metadata": {},
   "outputs": [],
   "source": [
    "crashes = gpd.GeoDataFrame(\n",
    "    data=df\n",
    "    , geometry=gpd.points_from_xy(df['geo_lon'], df['geo_lat'])\n",
    "    , crs=4326\n",
    ")"
   ]
  },
  {
   "cell_type": "code",
   "execution_count": 6,
   "metadata": {},
   "outputs": [],
   "source": [
    "# crashes = crashes.tail(100).copy()\n",
    "crashes = crashes[crashes.reported_date.dt.strftime('%Y-%m') == '2022-06']"
   ]
  },
  {
   "cell_type": "code",
   "execution_count": 7,
   "metadata": {},
   "outputs": [],
   "source": [
    "crashes[['street_a', 'street_b']] = crashes.incident_address.str.split('/', expand=True)\n",
    "crashes['street_a'] = crashes['street_a'].str.strip()\n",
    "crashes['street_b'] = crashes['street_b'].str.strip()"
   ]
  },
  {
   "cell_type": "code",
   "execution_count": 8,
   "metadata": {},
   "outputs": [],
   "source": [
    "crashes['link'] = crashes.apply(\n",
    "    lambda row: f'https://www.google.com/maps/search/?api=1&query={row.geo_lat},{row.geo_lon}', axis=1\n",
    ")"
   ]
  },
  {
   "cell_type": "code",
   "execution_count": 9,
   "metadata": {},
   "outputs": [],
   "source": [
    "centerlines = gpd.read_file('shapefiles/street_centerline/street_centerline.shp')"
   ]
  },
  {
   "cell_type": "code",
   "execution_count": 10,
   "metadata": {},
   "outputs": [],
   "source": [
    "centerlines = centerlines[centerlines['FULLNAME'] != 'PRIVATE RD'].reset_index().copy()"
   ]
  },
  {
   "cell_type": "code",
   "execution_count": 11,
   "metadata": {},
   "outputs": [],
   "source": [
    "centerlines = centerlines.to_crs(denver_crs)\n",
    "crashes = crashes.to_crs(denver_crs)"
   ]
  },
  {
   "cell_type": "code",
   "execution_count": 12,
   "metadata": {},
   "outputs": [],
   "source": [
    "offset = 35 # feet\n",
    "bbox = crashes.bounds + [-offset, -offset, offset, offset]"
   ]
  },
  {
   "cell_type": "code",
   "execution_count": 13,
   "metadata": {},
   "outputs": [],
   "source": [
    "hits = bbox.apply(lambda row: list(centerlines.sindex.intersection(row)), axis=1)"
   ]
  },
  {
   "cell_type": "code",
   "execution_count": 14,
   "metadata": {},
   "outputs": [
    {
     "name": "stderr",
     "output_type": "stream",
     "text": [
      "100%|██████████| 1443/1443 [00:03<00:00, 382.14it/s]\n"
     ]
    }
   ],
   "source": [
    "crashes_streets_list = []\n",
    "\n",
    "for crash_index, row in tqdm(hits.iteritems(), total=len(hits)):\n",
    "    for street_index in row:\n",
    "        new_row = [\n",
    "            crashes.loc[crash_index].incident_id\n",
    "            , centerlines.loc[street_index].MASTERID\n",
    "        ]\n",
    "        \n",
    "        crashes_streets_list += [new_row]\n",
    "\n",
    "crashes_streets = pd.DataFrame(crashes_streets_list, columns=['incident_id', 'MASTERID'])"
   ]
  },
  {
   "cell_type": "code",
   "execution_count": 15,
   "metadata": {},
   "outputs": [],
   "source": [
    "# for street in hits[212222]:\n",
    "#     print('{}: {} from {} to {}'.format(\n",
    "#         centerlines.loc[street].MASTERID\n",
    "#         , centerlines.loc[street].FULLNAME\n",
    "#         , centerlines.loc[street].FROMNAME\n",
    "#         , centerlines.loc[street].TONAME\n",
    "#     ))"
   ]
  },
  {
   "cell_type": "code",
   "execution_count": 16,
   "metadata": {},
   "outputs": [],
   "source": [
    "crashes_streets = pd.merge(crashes_streets, crashes, how='inner', on='incident_id')\n",
    "crashes_streets = pd.merge(crashes_streets, centerlines, how='inner', on='MASTERID')"
   ]
  },
  {
   "cell_type": "code",
   "execution_count": 17,
   "metadata": {},
   "outputs": [],
   "source": [
    "incident_mapping = {\n",
    "    'N BIGHTON BLVD': 'N BRIGHTON BLVD'\n",
    "    , 'I25 HWYNB': 'INTERSTATE 25'\n",
    "    , 'I25 HWYSB': 'INTERSTATE 25'\n",
    "    , 'I25HWY': 'INTERSTATE 25'\n",
    "    , 'I70 HWYWB': 'INTERSTATE 70'\n",
    "    , 'I70 HWYEB': 'INTERSTATE 70'\n",
    "    , 'I225 HWYNB': 'INTERSTATE 225'\n",
    "    , 'I225 HWYSB': 'INTERSTATE 225'\n",
    "    , 'W 6TH AVE': 'W 6TH AVENUE FWY'\n",
    "    , 'PARK AVEW': 'PARK AVE W'\n",
    "    , 'S MONACO ST': 'S MONACO STREET PKWY'\n",
    "    , 'N MONACO ST': 'N MONACO STREET PKWY'\n",
    "    , 'E MLK BLVD': 'E MARTIN LUTHER KING BLVD'\n",
    "    , 'E MARTIN LUTHER KING BLVD': 'E MARTIN LUTHER KING JR BLVD'\n",
    "    , 'E GVR BLVD': 'GREEN VALLEY RANCH BLVD'\n",
    "}\n",
    "crashes_streets['incident_address_corrected'] = crashes_streets.incident_address.replace(incident_mapping, regex=True)"
   ]
  },
  {
   "cell_type": "code",
   "execution_count": 18,
   "metadata": {},
   "outputs": [],
   "source": [
    "crashes_streets['street_named_in_crash'] = crashes_streets.apply(\n",
    "    lambda row: row.FULLNAME in row.incident_address_corrected, axis=1)"
   ]
  },
  {
   "cell_type": "code",
   "execution_count": 19,
   "metadata": {},
   "outputs": [],
   "source": [
    "freeways = [\n",
    "    'INTERSTATE 25'\n",
    "    , 'INTERSTATE 70'\n",
    "    , 'INTERSTATE 225'\n",
    "    , 'W 6TH AVENUE FWY'\n",
    "]\n",
    "crashes_streets['at_freeway'] = False\n",
    "\n",
    "for f in freeways:\n",
    "    crashes_streets.loc[crashes_streets.incident_address_corrected.str.contains(f), 'at_freeway'] = True"
   ]
  },
  {
   "cell_type": "code",
   "execution_count": 20,
   "metadata": {},
   "outputs": [],
   "source": [
    "bad_mapping = crashes_streets[~crashes_streets.street_named_in_crash][\n",
    "    ['incident_address_corrected', 'FULLNAME', 'link']\n",
    "]"
   ]
  },
  {
   "cell_type": "code",
   "execution_count": 21,
   "metadata": {},
   "outputs": [],
   "source": [
    "most_common = bad_mapping.groupby('FULLNAME').size().sort_values(ascending=False)\n",
    "# most_common.head(20)"
   ]
  },
  {
   "cell_type": "code",
   "execution_count": 22,
   "metadata": {},
   "outputs": [],
   "source": [
    "# bad_mapping[bad_mapping.FULLNAME == 'E MARTIN LUTHER KING JR BLVD']"
   ]
  },
  {
   "cell_type": "code",
   "execution_count": 23,
   "metadata": {},
   "outputs": [
    {
     "data": {
      "text/html": [
       "<div>\n",
       "<style scoped>\n",
       "    .dataframe tbody tr th:only-of-type {\n",
       "        vertical-align: middle;\n",
       "    }\n",
       "\n",
       "    .dataframe tbody tr th {\n",
       "        vertical-align: top;\n",
       "    }\n",
       "\n",
       "    .dataframe thead th {\n",
       "        text-align: right;\n",
       "    }\n",
       "</style>\n",
       "<table border=\"1\" class=\"dataframe\">\n",
       "  <thead>\n",
       "    <tr style=\"text-align: right;\">\n",
       "      <th>at_freeway</th>\n",
       "      <th>False</th>\n",
       "      <th>True</th>\n",
       "      <th>All</th>\n",
       "    </tr>\n",
       "    <tr>\n",
       "      <th>street_named_in_crash</th>\n",
       "      <th></th>\n",
       "      <th></th>\n",
       "      <th></th>\n",
       "    </tr>\n",
       "  </thead>\n",
       "  <tbody>\n",
       "    <tr>\n",
       "      <th>False</th>\n",
       "      <td>432</td>\n",
       "      <td>226</td>\n",
       "      <td>658</td>\n",
       "    </tr>\n",
       "    <tr>\n",
       "      <th>True</th>\n",
       "      <td>2967</td>\n",
       "      <td>1080</td>\n",
       "      <td>4047</td>\n",
       "    </tr>\n",
       "    <tr>\n",
       "      <th>All</th>\n",
       "      <td>3399</td>\n",
       "      <td>1306</td>\n",
       "      <td>4705</td>\n",
       "    </tr>\n",
       "  </tbody>\n",
       "</table>\n",
       "</div>"
      ],
      "text/plain": [
       "at_freeway             False  True   All\n",
       "street_named_in_crash                   \n",
       "False                    432   226   658\n",
       "True                    2967  1080  4047\n",
       "All                     3399  1306  4705"
      ]
     },
     "execution_count": 23,
     "metadata": {},
     "output_type": "execute_result"
    }
   ],
   "source": [
    "pd.pivot_table(\n",
    "    data=crashes_streets\n",
    "    , index='street_named_in_crash'\n",
    "    , columns='at_freeway'\n",
    "    , values='one'\n",
    "    , aggfunc=sum\n",
    "    , margins=True\n",
    ")"
   ]
  },
  {
   "cell_type": "code",
   "execution_count": 24,
   "metadata": {},
   "outputs": [],
   "source": [
    "# crashes_streets.to_csv('crashes_streets.csv', index=False)"
   ]
  },
  {
   "cell_type": "code",
   "execution_count": null,
   "metadata": {},
   "outputs": [],
   "source": []
  },
  {
   "cell_type": "markdown",
   "metadata": {},
   "source": [
    "## Analysis"
   ]
  },
  {
   "cell_type": "code",
   "execution_count": 25,
   "metadata": {},
   "outputs": [],
   "source": [
    "street_counts = crashes_streets[\n",
    "    (crashes_streets.street_named_in_crash) & ~(crashes_streets.at_freeway)\n",
    "].groupby('FULLNAME').agg(\n",
    "    num_crashes=('incident_id', pd.Series.nunique)\n",
    ")\n",
    "\n",
    "street_counts['crashes_per_week'] = (street_counts['num_crashes'] / 31) * 7"
   ]
  },
  {
   "cell_type": "code",
   "execution_count": 26,
   "metadata": {},
   "outputs": [],
   "source": [
    "street_miles = pd.DataFrame(centerlines.groupby('FULLNAME').LEN_MI.sum()).reset_index()"
   ]
  },
  {
   "cell_type": "code",
   "execution_count": 27,
   "metadata": {},
   "outputs": [],
   "source": [
    "street_counts_miles = pd.merge(street_counts, street_miles, how='inner', on='FULLNAME')"
   ]
  },
  {
   "cell_type": "code",
   "execution_count": 28,
   "metadata": {},
   "outputs": [],
   "source": [
    "street_counts_miles['crashes_per_week_per_mile'] = (\n",
    "    street_counts_miles['crashes_per_week'] / street_counts_miles['LEN_MI']\n",
    ")"
   ]
  },
  {
   "cell_type": "code",
   "execution_count": 29,
   "metadata": {},
   "outputs": [],
   "source": [
    "most_crashes = street_counts_miles[street_counts_miles['crashes_per_week'] > 3].copy()"
   ]
  },
  {
   "cell_type": "code",
   "execution_count": 30,
   "metadata": {},
   "outputs": [],
   "source": [
    "most_crashes['street_rank'] = most_crashes['crashes_per_week_per_mile'].rank(ascending=False)"
   ]
  },
  {
   "cell_type": "code",
   "execution_count": 31,
   "metadata": {},
   "outputs": [
    {
     "data": {
      "text/html": [
       "<div>\n",
       "<style scoped>\n",
       "    .dataframe tbody tr th:only-of-type {\n",
       "        vertical-align: middle;\n",
       "    }\n",
       "\n",
       "    .dataframe tbody tr th {\n",
       "        vertical-align: top;\n",
       "    }\n",
       "\n",
       "    .dataframe thead th {\n",
       "        text-align: right;\n",
       "    }\n",
       "</style>\n",
       "<table border=\"1\" class=\"dataframe\">\n",
       "  <thead>\n",
       "    <tr style=\"text-align: right;\">\n",
       "      <th></th>\n",
       "      <th>FULLNAME</th>\n",
       "      <th>num_crashes</th>\n",
       "      <th>crashes_per_week</th>\n",
       "      <th>LEN_MI</th>\n",
       "      <th>crashes_per_week_per_mile</th>\n",
       "      <th>street_rank</th>\n",
       "    </tr>\n",
       "  </thead>\n",
       "  <tbody>\n",
       "    <tr>\n",
       "      <th>297</th>\n",
       "      <td>PARK AVE W</td>\n",
       "      <td>18</td>\n",
       "      <td>4.064516</td>\n",
       "      <td>2.461982</td>\n",
       "      <td>1.650912</td>\n",
       "      <td>1.0</td>\n",
       "    </tr>\n",
       "    <tr>\n",
       "      <th>104</th>\n",
       "      <td>E COLFAX AVE</td>\n",
       "      <td>36</td>\n",
       "      <td>8.129032</td>\n",
       "      <td>5.544884</td>\n",
       "      <td>1.466042</td>\n",
       "      <td>2.0</td>\n",
       "    </tr>\n",
       "    <tr>\n",
       "      <th>229</th>\n",
       "      <td>N LINCOLN ST</td>\n",
       "      <td>18</td>\n",
       "      <td>4.064516</td>\n",
       "      <td>3.344696</td>\n",
       "      <td>1.215213</td>\n",
       "      <td>3.0</td>\n",
       "    </tr>\n",
       "    <tr>\n",
       "      <th>162</th>\n",
       "      <td>N BROADWAY</td>\n",
       "      <td>23</td>\n",
       "      <td>5.193548</td>\n",
       "      <td>4.509889</td>\n",
       "      <td>1.151591</td>\n",
       "      <td>4.0</td>\n",
       "    </tr>\n",
       "    <tr>\n",
       "      <th>417</th>\n",
       "      <td>W ALAMEDA AVE</td>\n",
       "      <td>20</td>\n",
       "      <td>4.516129</td>\n",
       "      <td>4.027947</td>\n",
       "      <td>1.121199</td>\n",
       "      <td>5.0</td>\n",
       "    </tr>\n",
       "    <tr>\n",
       "      <th>312</th>\n",
       "      <td>S COLORADO BLVD</td>\n",
       "      <td>21</td>\n",
       "      <td>4.741935</td>\n",
       "      <td>4.363691</td>\n",
       "      <td>1.086680</td>\n",
       "      <td>6.0</td>\n",
       "    </tr>\n",
       "    <tr>\n",
       "      <th>266</th>\n",
       "      <td>N SPEER BLVD</td>\n",
       "      <td>26</td>\n",
       "      <td>5.870968</td>\n",
       "      <td>6.272411</td>\n",
       "      <td>0.935999</td>\n",
       "      <td>7.0</td>\n",
       "    </tr>\n",
       "    <tr>\n",
       "      <th>172</th>\n",
       "      <td>N COLORADO BLVD</td>\n",
       "      <td>27</td>\n",
       "      <td>6.096774</td>\n",
       "      <td>7.150603</td>\n",
       "      <td>0.852624</td>\n",
       "      <td>8.0</td>\n",
       "    </tr>\n",
       "    <tr>\n",
       "      <th>116</th>\n",
       "      <td>E HAMPDEN AVE</td>\n",
       "      <td>18</td>\n",
       "      <td>4.064516</td>\n",
       "      <td>5.645942</td>\n",
       "      <td>0.719900</td>\n",
       "      <td>9.0</td>\n",
       "    </tr>\n",
       "    <tr>\n",
       "      <th>369</th>\n",
       "      <td>S SANTA FE DR</td>\n",
       "      <td>15</td>\n",
       "      <td>3.387097</td>\n",
       "      <td>5.378060</td>\n",
       "      <td>0.629799</td>\n",
       "      <td>10.0</td>\n",
       "    </tr>\n",
       "    <tr>\n",
       "      <th>110</th>\n",
       "      <td>E EVANS AVE</td>\n",
       "      <td>16</td>\n",
       "      <td>3.612903</td>\n",
       "      <td>5.785197</td>\n",
       "      <td>0.624508</td>\n",
       "      <td>11.0</td>\n",
       "    </tr>\n",
       "    <tr>\n",
       "      <th>428</th>\n",
       "      <td>W COLFAX AVE</td>\n",
       "      <td>17</td>\n",
       "      <td>3.838710</td>\n",
       "      <td>6.485227</td>\n",
       "      <td>0.591916</td>\n",
       "      <td>12.0</td>\n",
       "    </tr>\n",
       "    <tr>\n",
       "      <th>38</th>\n",
       "      <td>E 14TH AVE</td>\n",
       "      <td>14</td>\n",
       "      <td>3.161290</td>\n",
       "      <td>5.481054</td>\n",
       "      <td>0.576767</td>\n",
       "      <td>13.0</td>\n",
       "    </tr>\n",
       "    <tr>\n",
       "      <th>191</th>\n",
       "      <td>N FEDERAL BLVD</td>\n",
       "      <td>16</td>\n",
       "      <td>3.612903</td>\n",
       "      <td>7.419015</td>\n",
       "      <td>0.486979</td>\n",
       "      <td>14.0</td>\n",
       "    </tr>\n",
       "    <tr>\n",
       "      <th>164</th>\n",
       "      <td>N CENTRAL PARK BLVD</td>\n",
       "      <td>16</td>\n",
       "      <td>3.612903</td>\n",
       "      <td>8.150734</td>\n",
       "      <td>0.443261</td>\n",
       "      <td>15.0</td>\n",
       "    </tr>\n",
       "    <tr>\n",
       "      <th>256</th>\n",
       "      <td>N QUEBEC ST</td>\n",
       "      <td>14</td>\n",
       "      <td>3.161290</td>\n",
       "      <td>8.890650</td>\n",
       "      <td>0.355575</td>\n",
       "      <td>16.0</td>\n",
       "    </tr>\n",
       "    <tr>\n",
       "      <th>92</th>\n",
       "      <td>E ALAMEDA AVE</td>\n",
       "      <td>14</td>\n",
       "      <td>3.161290</td>\n",
       "      <td>10.856620</td>\n",
       "      <td>0.291185</td>\n",
       "      <td>17.0</td>\n",
       "    </tr>\n",
       "  </tbody>\n",
       "</table>\n",
       "</div>"
      ],
      "text/plain": [
       "                FULLNAME  num_crashes  crashes_per_week     LEN_MI  \\\n",
       "297           PARK AVE W           18          4.064516   2.461982   \n",
       "104         E COLFAX AVE           36          8.129032   5.544884   \n",
       "229         N LINCOLN ST           18          4.064516   3.344696   \n",
       "162           N BROADWAY           23          5.193548   4.509889   \n",
       "417        W ALAMEDA AVE           20          4.516129   4.027947   \n",
       "312      S COLORADO BLVD           21          4.741935   4.363691   \n",
       "266         N SPEER BLVD           26          5.870968   6.272411   \n",
       "172      N COLORADO BLVD           27          6.096774   7.150603   \n",
       "116        E HAMPDEN AVE           18          4.064516   5.645942   \n",
       "369        S SANTA FE DR           15          3.387097   5.378060   \n",
       "110          E EVANS AVE           16          3.612903   5.785197   \n",
       "428         W COLFAX AVE           17          3.838710   6.485227   \n",
       "38            E 14TH AVE           14          3.161290   5.481054   \n",
       "191       N FEDERAL BLVD           16          3.612903   7.419015   \n",
       "164  N CENTRAL PARK BLVD           16          3.612903   8.150734   \n",
       "256          N QUEBEC ST           14          3.161290   8.890650   \n",
       "92         E ALAMEDA AVE           14          3.161290  10.856620   \n",
       "\n",
       "     crashes_per_week_per_mile  street_rank  \n",
       "297                   1.650912          1.0  \n",
       "104                   1.466042          2.0  \n",
       "229                   1.215213          3.0  \n",
       "162                   1.151591          4.0  \n",
       "417                   1.121199          5.0  \n",
       "312                   1.086680          6.0  \n",
       "266                   0.935999          7.0  \n",
       "172                   0.852624          8.0  \n",
       "116                   0.719900          9.0  \n",
       "369                   0.629799         10.0  \n",
       "110                   0.624508         11.0  \n",
       "428                   0.591916         12.0  \n",
       "38                    0.576767         13.0  \n",
       "191                   0.486979         14.0  \n",
       "164                   0.443261         15.0  \n",
       "256                   0.355575         16.0  \n",
       "92                    0.291185         17.0  "
      ]
     },
     "execution_count": 31,
     "metadata": {},
     "output_type": "execute_result"
    }
   ],
   "source": [
    "most_crashes.sort_values(by='crashes_per_week_per_mile', ascending=False)"
   ]
  },
  {
   "cell_type": "code",
   "execution_count": 32,
   "metadata": {},
   "outputs": [],
   "source": [
    "# centerlines[centerlines['FULLNAME'] == 'N SPEER BLVD'].to_clipboard()"
   ]
  },
  {
   "cell_type": "code",
   "execution_count": null,
   "metadata": {},
   "outputs": [],
   "source": []
  },
  {
   "cell_type": "code",
   "execution_count": null,
   "metadata": {},
   "outputs": [],
   "source": []
  },
  {
   "cell_type": "code",
   "execution_count": null,
   "metadata": {},
   "outputs": [],
   "source": []
  },
  {
   "cell_type": "code",
   "execution_count": 33,
   "metadata": {},
   "outputs": [],
   "source": [
    "# crashes.groupby('street_a').size().sort_values(ascending=False)"
   ]
  },
  {
   "cell_type": "code",
   "execution_count": null,
   "metadata": {},
   "outputs": [],
   "source": []
  },
  {
   "cell_type": "markdown",
   "metadata": {},
   "source": [
    "## Measure Street Length from Crash Locations "
   ]
  },
  {
   "cell_type": "code",
   "execution_count": 34,
   "metadata": {},
   "outputs": [
    {
     "data": {
      "text/plain": [
       "<matplotlib.collections.PathCollection at 0x1143197b8>"
      ]
     },
     "execution_count": 34,
     "metadata": {},
     "output_type": "execute_result"
    },
    {
     "data": {
      "image/png": "[encoded data removed]",
      "text/plain": [
       "<Figure size 432x288 with 1 Axes>"
      ]
     },
     "metadata": {
      "needs_background": "light"
     },
     "output_type": "display_data"
    }
   ],
   "source": [
    "data_to_plot = crashes_streets[crashes_streets.FULLNAME == 'N SPEER BLVD']\n",
    "\n",
    "plt.scatter(\n",
    "    x=data_to_plot.geo_lon\n",
    "    , y=data_to_plot.geo_lat\n",
    ")"
   ]
  },
  {
   "cell_type": "code",
   "execution_count": 35,
   "metadata": {},
   "outputs": [],
   "source": [
    "# crashes_streets[crashes_streets.FULLNAME == 'N PEORIA ST'].to_clipboard()"
   ]
  },
  {
   "cell_type": "code",
   "execution_count": 36,
   "metadata": {},
   "outputs": [
    {
     "data": {
      "text/plain": [
       "28"
      ]
     },
     "execution_count": 36,
     "metadata": {},
     "output_type": "execute_result"
    }
   ],
   "source": [
    "crashes.incident_address.str.contains('PARK AVEW').sum()"
   ]
  },
  {
   "cell_type": "code",
   "execution_count": null,
   "metadata": {},
   "outputs": [],
   "source": []
  }
 ],
 "metadata": {
  "kernelspec": {
   "display_name": "Python 3",
   "language": "python",
   "name": "python3"
  },
  "language_info": {
   "codemirror_mode": {
    "name": "ipython",
    "version": 3
   },
   "file_extension": ".py",
   "mimetype": "text/x-python",
   "name": "python",
   "nbconvert_exporter": "python",
   "pygments_lexer": "ipython3",
   "version": "3.7.1"
  }
 },
 "nbformat": 4,
 "nbformat_minor": 2
}
