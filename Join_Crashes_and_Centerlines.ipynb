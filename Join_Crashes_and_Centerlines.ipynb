{
 "cells": [
  {
   "cell_type": "markdown",
   "metadata": {},
   "source": [
    "Join the crash dataset to the street centerline dataset. "
   ]
  },
  {
   "cell_type": "code",
   "execution_count": 1,
   "metadata": {},
   "outputs": [],
   "source": [
    "import warnings\n",
    "warnings.filterwarnings('ignore')\n",
    "\n",
    "from tqdm import tqdm\n",
    "import numpy as np\n",
    "import pandas as pd\n",
    "import geopandas as gpd\n",
    "import matplotlib.pyplot as plt\n",
    "from shapely.geometry import Point\n",
    "\n",
    "pd.set_option('display.max_rows', 100)\n",
    "pd.set_option('max_colwidth', 200)"
   ]
  },
  {
   "cell_type": "code",
   "execution_count": 2,
   "metadata": {},
   "outputs": [],
   "source": [
    "denver_crs = 3502\n",
    "web_crs = 4326"
   ]
  },
  {
   "cell_type": "code",
   "execution_count": 3,
   "metadata": {},
   "outputs": [],
   "source": [
    "from crash_data_analysis import CrashDataAnalysis\n",
    "cda = CrashDataAnalysis()\n",
    "df = cda.crash_dataframe()"
   ]
  },
  {
   "cell_type": "code",
   "execution_count": 4,
   "metadata": {},
   "outputs": [],
   "source": [
    "df = df[df.geo_lon.notnull()].reset_index().copy()"
   ]
  },
  {
   "cell_type": "code",
   "execution_count": 5,
   "metadata": {},
   "outputs": [],
   "source": [
    "crashes = gpd.GeoDataFrame(\n",
    "    data=df\n",
    "    , geometry=gpd.points_from_xy(df['geo_lon'], df['geo_lat'])\n",
    "    , crs=4326\n",
    ")"
   ]
  },
  {
   "cell_type": "code",
   "execution_count": 6,
   "metadata": {},
   "outputs": [],
   "source": [
    "# crashes = crashes.tail(100).copy()\n",
    "crashes = crashes[crashes.reported_date.dt.strftime('%Y-%m') == '2022-06']"
   ]
  },
  {
   "cell_type": "code",
   "execution_count": 7,
   "metadata": {},
   "outputs": [],
   "source": [
    "crashes[['street_a', 'street_b']] = crashes.incident_address.str.split('/', expand=True)\n",
    "crashes['street_a'] = crashes['street_a'].str.strip()\n",
    "crashes['street_b'] = crashes['street_b'].str.strip()"
   ]
  },
  {
   "cell_type": "code",
   "execution_count": 8,
   "metadata": {},
   "outputs": [],
   "source": [
    "crashes['link'] = crashes.apply(\n",
    "    lambda row: f'https://www.google.com/maps/search/?api=1&query={row.geo_lat},{row.geo_lon}', axis=1\n",
    ")"
   ]
  },
  {
   "cell_type": "code",
   "execution_count": 9,
   "metadata": {},
   "outputs": [],
   "source": [
    "centerlines = gpd.read_file('shapefiles/street_centerline/street_centerline.shp')"
   ]
  },
  {
   "cell_type": "code",
   "execution_count": 10,
   "metadata": {},
   "outputs": [],
   "source": [
    "centerlines = centerlines[centerlines['FULLNAME'] != 'PRIVATE RD'].reset_index().copy()"
   ]
  },
  {
   "cell_type": "code",
   "execution_count": 11,
   "metadata": {},
   "outputs": [],
   "source": [
    "centerlines = centerlines.to_crs(denver_crs)\n",
    "crashes = crashes.to_crs(denver_crs)"
   ]
  },
  {
   "cell_type": "code",
   "execution_count": 12,
   "metadata": {},
   "outputs": [],
   "source": [
    "offset = 35 # feet\n",
    "bbox = crashes.bounds + [-offset, -offset, offset, offset]"
   ]
  },
  {
   "cell_type": "code",
   "execution_count": 13,
   "metadata": {},
   "outputs": [],
   "source": [
    "hits = bbox.apply(lambda row: list(centerlines.sindex.intersection(row)), axis=1)"
   ]
  },
  {
   "cell_type": "code",
   "execution_count": 14,
   "metadata": {},
   "outputs": [
    {
     "name": "stderr",
     "output_type": "stream",
     "text": [
      "100%|██████████| 1145/1145 [00:02<00:00, 451.80it/s]\n"
     ]
    }
   ],
   "source": [
    "crashes_streets_list = []\n",
    "\n",
    "for crash_index, row in tqdm(hits.iteritems(), total=len(hits)):\n",
    "    for street_index in row:\n",
    "        new_row = [\n",
    "            crashes.loc[crash_index].incident_id\n",
    "            , centerlines.loc[street_index].MASTERID\n",
    "        ]\n",
    "        \n",
    "        crashes_streets_list += [new_row]\n",
    "\n",
    "crashes_streets = pd.DataFrame(crashes_streets_list, columns=['incident_id', 'MASTERID'])"
   ]
  },
  {
   "cell_type": "code",
   "execution_count": 15,
   "metadata": {},
   "outputs": [],
   "source": [
    "# for street in hits[212222]:\n",
    "#     print('{}: {} from {} to {}'.format(\n",
    "#         centerlines.loc[street].MASTERID\n",
    "#         , centerlines.loc[street].FULLNAME\n",
    "#         , centerlines.loc[street].FROMNAME\n",
    "#         , centerlines.loc[street].TONAME\n",
    "#     ))"
   ]
  },
  {
   "cell_type": "code",
   "execution_count": 16,
   "metadata": {},
   "outputs": [],
   "source": [
    "crashes_streets = pd.merge(crashes_streets, crashes, how='inner', on='incident_id')\n",
    "crashes_streets = pd.merge(crashes_streets, centerlines, how='inner', on='MASTERID')"
   ]
  },
  {
   "cell_type": "code",
   "execution_count": 17,
   "metadata": {},
   "outputs": [],
   "source": [
    "incident_mapping = {\n",
    "    'N BIGHTON BLVD': 'N BRIGHTON BLVD'\n",
    "    , 'I25 HWYNB': 'INTERSTATE 25'\n",
    "    , 'I25 HWYSB': 'INTERSTATE 25'\n",
    "    , 'I25HWY': 'INTERSTATE 25'\n",
    "    , 'I70 HWYWB': 'INTERSTATE 70'\n",
    "    , 'I70 HWYEB': 'INTERSTATE 70'\n",
    "    , 'I225 HWYNB': 'INTERSTATE 225'\n",
    "    , 'I225 HWYSB': 'INTERSTATE 225'\n",
    "    , 'W 6TH AVE': 'W 6TH AVENUE FWY'\n",
    "    , 'PARK AVEW': 'PARK AVE W'\n",
    "    , 'S MONACO ST': 'S MONACO STREET PKWY'\n",
    "    , 'N MONACO ST': 'N MONACO STREET PKWY'\n",
    "    , 'E MLK BLVD': 'E MARTIN LUTHER KING BLVD'\n",
    "    , 'E MARTIN LUTHER KING BLVD': 'E MARTIN LUTHER KING JR BLVD'\n",
    "    , 'E GVR BLVD': 'GREEN VALLEY RANCH BLVD'\n",
    "}\n",
    "crashes_streets['incident_address_corrected'] = crashes_streets.incident_address.replace(incident_mapping, regex=True)"
   ]
  },
  {
   "cell_type": "code",
   "execution_count": 18,
   "metadata": {},
   "outputs": [],
   "source": [
    "crashes_streets['street_named_in_crash'] = crashes_streets.apply(\n",
    "    lambda row: row.FULLNAME in row.incident_address_corrected, axis=1)"
   ]
  },
  {
   "cell_type": "code",
   "execution_count": 19,
   "metadata": {},
   "outputs": [],
   "source": [
    "freeways = [\n",
    "    'INTERSTATE 25'\n",
    "    , 'INTERSTATE 70'\n",
    "    , 'INTERSTATE 225'\n",
    "    , 'W 6TH AVENUE FWY'\n",
    "]\n",
    "crashes_streets['at_freeway'] = False\n",
    "\n",
    "for f in freeways:\n",
    "    crashes_streets.loc[crashes_streets.incident_address_corrected.str.contains(f), 'at_freeway'] = True"
   ]
  },
  {
   "cell_type": "code",
   "execution_count": 20,
   "metadata": {},
   "outputs": [],
   "source": [
    "bad_mapping = crashes_streets[~crashes_streets.street_named_in_crash][\n",
    "    ['incident_address_corrected', 'FULLNAME', 'link']\n",
    "]"
   ]
  },
  {
   "cell_type": "code",
   "execution_count": 21,
   "metadata": {},
   "outputs": [],
   "source": [
    "most_common = bad_mapping.groupby('FULLNAME').size().sort_values(ascending=False)\n",
    "# most_common.head(20)"
   ]
  },
  {
   "cell_type": "code",
   "execution_count": 22,
   "metadata": {},
   "outputs": [],
   "source": [
    "# bad_mapping[bad_mapping.FULLNAME == 'E MARTIN LUTHER KING JR BLVD']"
   ]
  },
  {
   "cell_type": "code",
   "execution_count": 23,
   "metadata": {},
   "outputs": [
    {
     "data": {
      "text/html": [
       "<div>\n",
       "<style scoped>\n",
       "    .dataframe tbody tr th:only-of-type {\n",
       "        vertical-align: middle;\n",
       "    }\n",
       "\n",
       "    .dataframe tbody tr th {\n",
       "        vertical-align: top;\n",
       "    }\n",
       "\n",
       "    .dataframe thead th {\n",
       "        text-align: right;\n",
       "    }\n",
       "</style>\n",
       "<table border=\"1\" class=\"dataframe\">\n",
       "  <thead>\n",
       "    <tr style=\"text-align: right;\">\n",
       "      <th>at_freeway</th>\n",
       "      <th>False</th>\n",
       "      <th>True</th>\n",
       "      <th>All</th>\n",
       "    </tr>\n",
       "    <tr>\n",
       "      <th>street_named_in_crash</th>\n",
       "      <th></th>\n",
       "      <th></th>\n",
       "      <th></th>\n",
       "    </tr>\n",
       "  </thead>\n",
       "  <tbody>\n",
       "    <tr>\n",
       "      <th>False</th>\n",
       "      <td>353</td>\n",
       "      <td>195</td>\n",
       "      <td>548</td>\n",
       "    </tr>\n",
       "    <tr>\n",
       "      <th>True</th>\n",
       "      <td>2323</td>\n",
       "      <td>900</td>\n",
       "      <td>3223</td>\n",
       "    </tr>\n",
       "    <tr>\n",
       "      <th>All</th>\n",
       "      <td>2676</td>\n",
       "      <td>1095</td>\n",
       "      <td>3771</td>\n",
       "    </tr>\n",
       "  </tbody>\n",
       "</table>\n",
       "</div>"
      ],
      "text/plain": [
       "at_freeway             False  True   All\n",
       "street_named_in_crash                   \n",
       "False                    353   195   548\n",
       "True                    2323   900  3223\n",
       "All                     2676  1095  3771"
      ]
     },
     "execution_count": 23,
     "metadata": {},
     "output_type": "execute_result"
    }
   ],
   "source": [
    "pd.pivot_table(\n",
    "    data=crashes_streets\n",
    "    , index='street_named_in_crash'\n",
    "    , columns='at_freeway'\n",
    "    , values='one'\n",
    "    , aggfunc=sum\n",
    "    , margins=True\n",
    ")"
   ]
  },
  {
   "cell_type": "code",
   "execution_count": 24,
   "metadata": {},
   "outputs": [],
   "source": [
    "crashes_streets.to_csv('crashes_streets.csv', index=False)"
   ]
  },
  {
   "cell_type": "code",
   "execution_count": null,
   "metadata": {},
   "outputs": [],
   "source": []
  },
  {
   "cell_type": "markdown",
   "metadata": {},
   "source": [
    "## Analysis"
   ]
  },
  {
   "cell_type": "code",
   "execution_count": 25,
   "metadata": {},
   "outputs": [],
   "source": [
    "street_counts = crashes_streets[\n",
    "    (crashes_streets.street_named_in_crash) & ~(crashes_streets.at_freeway)\n",
    "].groupby('FULLNAME').agg(\n",
    "    num_crashes=('incident_id', pd.Series.nunique)\n",
    ")\n",
    "\n",
    "street_counts['crashes_per_week'] = (street_counts['num_crashes'] / 31) * 7"
   ]
  },
  {
   "cell_type": "code",
   "execution_count": 26,
   "metadata": {},
   "outputs": [],
   "source": [
    "street_miles = pd.DataFrame(centerlines.groupby('FULLNAME').LEN_MI.sum()).reset_index()"
   ]
  },
  {
   "cell_type": "code",
   "execution_count": 27,
   "metadata": {},
   "outputs": [],
   "source": [
    "street_counts_miles = pd.merge(street_counts, street_miles, how='inner', on='FULLNAME')"
   ]
  },
  {
   "cell_type": "code",
   "execution_count": 28,
   "metadata": {},
   "outputs": [],
   "source": [
    "street_counts_miles['crashes_per_week_per_mile'] = (\n",
    "    street_counts_miles['crashes_per_week'] / street_counts_miles['LEN_MI']\n",
    ")"
   ]
  },
  {
   "cell_type": "code",
   "execution_count": 29,
   "metadata": {},
   "outputs": [],
   "source": [
    "most_crashes = street_counts_miles[street_counts_miles['crashes_per_week'] > 3].copy()"
   ]
  },
  {
   "cell_type": "code",
   "execution_count": 30,
   "metadata": {},
   "outputs": [],
   "source": [
    "most_crashes['street_rank'] = most_crashes['crashes_per_week_per_mile'].rank(ascending=False)"
   ]
  },
  {
   "cell_type": "code",
   "execution_count": 31,
   "metadata": {},
   "outputs": [
    {
     "data": {
      "text/html": [
       "<div>\n",
       "<style scoped>\n",
       "    .dataframe tbody tr th:only-of-type {\n",
       "        vertical-align: middle;\n",
       "    }\n",
       "\n",
       "    .dataframe tbody tr th {\n",
       "        vertical-align: top;\n",
       "    }\n",
       "\n",
       "    .dataframe thead th {\n",
       "        text-align: right;\n",
       "    }\n",
       "</style>\n",
       "<table border=\"1\" class=\"dataframe\">\n",
       "  <thead>\n",
       "    <tr style=\"text-align: right;\">\n",
       "      <th></th>\n",
       "      <th>FULLNAME</th>\n",
       "      <th>num_crashes</th>\n",
       "      <th>crashes_per_week</th>\n",
       "      <th>LEN_MI</th>\n",
       "      <th>crashes_per_week_per_mile</th>\n",
       "      <th>street_rank</th>\n",
       "    </tr>\n",
       "  </thead>\n",
       "  <tbody>\n",
       "    <tr>\n",
       "      <th>267</th>\n",
       "      <td>PARK AVE W</td>\n",
       "      <td>14</td>\n",
       "      <td>3.161290</td>\n",
       "      <td>2.461982</td>\n",
       "      <td>1.284043</td>\n",
       "      <td>1.0</td>\n",
       "    </tr>\n",
       "    <tr>\n",
       "      <th>94</th>\n",
       "      <td>E COLFAX AVE</td>\n",
       "      <td>28</td>\n",
       "      <td>6.322581</td>\n",
       "      <td>5.544884</td>\n",
       "      <td>1.140255</td>\n",
       "      <td>2.0</td>\n",
       "    </tr>\n",
       "    <tr>\n",
       "      <th>372</th>\n",
       "      <td>W ALAMEDA AVE</td>\n",
       "      <td>18</td>\n",
       "      <td>4.064516</td>\n",
       "      <td>4.027947</td>\n",
       "      <td>1.009079</td>\n",
       "      <td>3.0</td>\n",
       "    </tr>\n",
       "    <tr>\n",
       "      <th>146</th>\n",
       "      <td>N BROADWAY</td>\n",
       "      <td>17</td>\n",
       "      <td>3.838710</td>\n",
       "      <td>4.509889</td>\n",
       "      <td>0.851176</td>\n",
       "      <td>4.0</td>\n",
       "    </tr>\n",
       "    <tr>\n",
       "      <th>281</th>\n",
       "      <td>S COLORADO BLVD</td>\n",
       "      <td>15</td>\n",
       "      <td>3.387097</td>\n",
       "      <td>4.363691</td>\n",
       "      <td>0.776200</td>\n",
       "      <td>5.0</td>\n",
       "    </tr>\n",
       "    <tr>\n",
       "      <th>239</th>\n",
       "      <td>N SPEER BLVD</td>\n",
       "      <td>21</td>\n",
       "      <td>4.741935</td>\n",
       "      <td>6.272411</td>\n",
       "      <td>0.755999</td>\n",
       "      <td>6.0</td>\n",
       "    </tr>\n",
       "    <tr>\n",
       "      <th>154</th>\n",
       "      <td>N COLORADO BLVD</td>\n",
       "      <td>23</td>\n",
       "      <td>5.193548</td>\n",
       "      <td>7.150603</td>\n",
       "      <td>0.726309</td>\n",
       "      <td>7.0</td>\n",
       "    </tr>\n",
       "  </tbody>\n",
       "</table>\n",
       "</div>"
      ],
      "text/plain": [
       "            FULLNAME  num_crashes  crashes_per_week    LEN_MI  \\\n",
       "267       PARK AVE W           14          3.161290  2.461982   \n",
       "94      E COLFAX AVE           28          6.322581  5.544884   \n",
       "372    W ALAMEDA AVE           18          4.064516  4.027947   \n",
       "146       N BROADWAY           17          3.838710  4.509889   \n",
       "281  S COLORADO BLVD           15          3.387097  4.363691   \n",
       "239     N SPEER BLVD           21          4.741935  6.272411   \n",
       "154  N COLORADO BLVD           23          5.193548  7.150603   \n",
       "\n",
       "     crashes_per_week_per_mile  street_rank  \n",
       "267                   1.284043          1.0  \n",
       "94                    1.140255          2.0  \n",
       "372                   1.009079          3.0  \n",
       "146                   0.851176          4.0  \n",
       "281                   0.776200          5.0  \n",
       "239                   0.755999          6.0  \n",
       "154                   0.726309          7.0  "
      ]
     },
     "execution_count": 31,
     "metadata": {},
     "output_type": "execute_result"
    }
   ],
   "source": [
    "most_crashes.sort_values(by='crashes_per_week_per_mile', ascending=False)"
   ]
  },
  {
   "cell_type": "code",
   "execution_count": 32,
   "metadata": {},
   "outputs": [],
   "source": [
    "# centerlines[centerlines['FULLNAME'] == 'N SPEER BLVD'].to_clipboard()"
   ]
  },
  {
   "cell_type": "code",
   "execution_count": null,
   "metadata": {},
   "outputs": [],
   "source": []
  },
  {
   "cell_type": "code",
   "execution_count": null,
   "metadata": {},
   "outputs": [],
   "source": []
  },
  {
   "cell_type": "code",
   "execution_count": null,
   "metadata": {},
   "outputs": [],
   "source": []
  },
  {
   "cell_type": "code",
   "execution_count": 33,
   "metadata": {},
   "outputs": [],
   "source": [
    "# crashes.groupby('street_a').size().sort_values(ascending=False)"
   ]
  },
  {
   "cell_type": "code",
   "execution_count": null,
   "metadata": {},
   "outputs": [],
   "source": []
  },
  {
   "cell_type": "markdown",
   "metadata": {},
   "source": [
    "## Measure Street Length from Crash Locations "
   ]
  },
  {
   "cell_type": "code",
   "execution_count": 34,
   "metadata": {},
   "outputs": [
    {
     "data": {
      "text/plain": [
       "<matplotlib.collections.PathCollection at 0x11a1f21d0>"
      ]
     },
     "execution_count": 34,
     "metadata": {},
     "output_type": "execute_result"
    },
    {
     "data": {
      "image/png": "[encoded data removed]",
      "text/plain": [
       "<Figure size 432x288 with 1 Axes>"
      ]
     },
     "metadata": {
      "needs_background": "light"
     },
     "output_type": "display_data"
    }
   ],
   "source": [
    "data_to_plot = crashes_streets[crashes_streets.FULLNAME == 'N SPEER BLVD']\n",
    "\n",
    "plt.scatter(\n",
    "    x=data_to_plot.geo_lon\n",
    "    , y=data_to_plot.geo_lat\n",
    ")"
   ]
  },
  {
   "cell_type": "code",
   "execution_count": 35,
   "metadata": {},
   "outputs": [],
   "source": [
    "# crashes_streets[crashes_streets.FULLNAME == 'N PEORIA ST'].to_clipboard()"
   ]
  },
  {
   "cell_type": "code",
   "execution_count": 36,
   "metadata": {},
   "outputs": [
    {
     "data": {
      "text/plain": [
       "23"
      ]
     },
     "execution_count": 36,
     "metadata": {},
     "output_type": "execute_result"
    }
   ],
   "source": [
    "crashes.incident_address.str.contains('PARK AVEW').sum()"
   ]
  },
  {
   "cell_type": "code",
   "execution_count": null,
   "metadata": {},
   "outputs": [],
   "source": []
  }
 ],
 "metadata": {
  "kernelspec": {
   "display_name": "Python 3",
   "language": "python",
   "name": "python3"
  },
  "language_info": {
   "codemirror_mode": {
    "name": "ipython",
    "version": 3
   },
   "file_extension": ".py",
   "mimetype": "text/x-python",
   "name": "python",
   "nbconvert_exporter": "python",
   "pygments_lexer": "ipython3",
   "version": "3.7.1"
  }
 },
 "nbformat": 4,
 "nbformat_minor": 2
}
