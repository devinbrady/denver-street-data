{
 "cells": [
  {
   "cell_type": "markdown",
   "id": "eeeac8b5",
   "metadata": {},
   "source": [
    "# Save smaller file to CSV for Google My Maps\n",
    "\n",
    "Maximum number of points is 2,000\n",
    "\n",
    "Map: https://www.google.com/maps/d/edit?mid=1Cn1TekkCt5BUYC-X3EMAvmmqPY0Aj30&ll=39.75925871700066%2C-104.88997345&z=11"
   ]
  },
  {
   "cell_type": "code",
   "execution_count": 1,
   "id": "3f1875b4",
   "metadata": {},
   "outputs": [],
   "source": [
    "my_maps_columns = [\n",
    "    'incident_id'\n",
    "    , 'top_traffic_accident_offense'\n",
    "    , 'reported_date'\n",
    "    , 'incident_address'\n",
    "    , 'geo_lon'\n",
    "    , 'geo_lat'\n",
    "]\n",
    "\n",
    "# df.loc[df.fatality & df.geo_lon.notnull() & df.geo_lat.notnull(), my_maps_columns].to_csv(\n",
    "#     'data/deadly_crashes_to_google_my_maps.csv', index=False)"
   ]
  }
 ],
 "metadata": {
  "kernelspec": {
   "display_name": "Python 3 (ipykernel)",
   "language": "python",
   "name": "python3"
  },
  "language_info": {
   "codemirror_mode": {
    "name": "ipython",
    "version": 3
   },
   "file_extension": ".py",
   "mimetype": "text/x-python",
   "name": "python",
   "nbconvert_exporter": "python",
   "pygments_lexer": "ipython3",
   "version": "3.7.1"
  }
 },
 "nbformat": 4,
 "nbformat_minor": 5
}
